{
 "cells": [
  {
   "cell_type": "markdown",
   "metadata": {},
   "source": [
    "# POS Tagging"
   ]
  },
  {
   "cell_type": "markdown",
   "metadata": {},
   "source": [
    "Get the Brown corpus."
   ]
  },
  {
   "cell_type": "code",
   "execution_count": 1,
   "metadata": {},
   "outputs": [
    {
     "name": "stderr",
     "output_type": "stream",
     "text": [
      "[nltk_data] Downloading package brown to /usr/share/nltk_data...\n",
      "[nltk_data]   Package brown is already up-to-date!\n"
     ]
    },
    {
     "data": {
      "text/plain": [
       "True"
      ]
     },
     "execution_count": 1,
     "metadata": {},
     "output_type": "execute_result"
    }
   ],
   "source": [
    "import nltk\n",
    "nltk.download('brown')"
   ]
  },
  {
   "cell_type": "markdown",
   "metadata": {},
   "source": [
    "Get the tokenized and tagged with Universal POS sentences from the \"news\" category from the Brown corpus:"
   ]
  },
  {
   "cell_type": "code",
   "execution_count": 2,
   "metadata": {},
   "outputs": [
    {
     "name": "stderr",
     "output_type": "stream",
     "text": [
      "[nltk_data] Downloading package universal_tagset to\n",
      "[nltk_data]     /usr/share/nltk_data...\n",
      "[nltk_data]   Package universal_tagset is already up-to-date!\n"
     ]
    }
   ],
   "source": [
    "from nltk.corpus import brown\n",
    "nltk.download('universal_tagset')\n",
    "brown_sents = brown.tagged_sents(categories='news', tagset='universal')"
   ]
  },
  {
   "cell_type": "markdown",
   "metadata": {},
   "source": [
    "See an example"
   ]
  },
  {
   "cell_type": "code",
   "execution_count": 3,
   "metadata": {},
   "outputs": [
    {
     "data": {
      "text/plain": [
       "[('The', 'DET'),\n",
       " ('Fulton', 'NOUN'),\n",
       " ('County', 'NOUN'),\n",
       " ('Grand', 'ADJ'),\n",
       " ('Jury', 'NOUN'),\n",
       " ('said', 'VERB'),\n",
       " ('Friday', 'NOUN'),\n",
       " ('an', 'DET'),\n",
       " ('investigation', 'NOUN'),\n",
       " ('of', 'ADP'),\n",
       " (\"Atlanta's\", 'NOUN'),\n",
       " ('recent', 'ADJ'),\n",
       " ('primary', 'NOUN'),\n",
       " ('election', 'NOUN'),\n",
       " ('produced', 'VERB'),\n",
       " ('``', '.'),\n",
       " ('no', 'DET'),\n",
       " ('evidence', 'NOUN'),\n",
       " (\"''\", '.'),\n",
       " ('that', 'ADP'),\n",
       " ('any', 'DET'),\n",
       " ('irregularities', 'NOUN'),\n",
       " ('took', 'VERB'),\n",
       " ('place', 'NOUN'),\n",
       " ('.', '.')]"
      ]
     },
     "execution_count": 3,
     "metadata": {},
     "output_type": "execute_result"
    }
   ],
   "source": [
    "brown_sents[0]"
   ]
  },
  {
   "cell_type": "markdown",
   "metadata": {},
   "source": [
    "## Split into train and test\n",
    "Use all but the last 1000 sentences to train the classifier. (It should be better to choose them randomly)."
   ]
  },
  {
   "cell_type": "code",
   "execution_count": 4,
   "metadata": {},
   "outputs": [],
   "source": [
    "brown_train = brown_sents[:-1000]\n",
    "brown_test = brown_sents[-1000:]"
   ]
  },
  {
   "cell_type": "markdown",
   "metadata": {},
   "source": [
    "## Build dictionary of words and tags\n",
    "\n",
    "Vocabularies of words and tags:"
   ]
  },
  {
   "cell_type": "code",
   "execution_count": 5,
   "metadata": {},
   "outputs": [],
   "source": [
    "word_set = set()\n",
    "tag_set = set()\n",
    "for sentence in brown_sents:\n",
    "    for word, tag in sentence:\n",
    "        word_set.add(word)\n",
    "        tag_set.add(tag)"
   ]
  },
  {
   "cell_type": "markdown",
   "metadata": {},
   "source": [
    "Dictionaries of words and tags:"
   ]
  },
  {
   "cell_type": "code",
   "execution_count": 6,
   "metadata": {},
   "outputs": [],
   "source": [
    "word_index = {}\n",
    "for idx, word in enumerate(word_set):\n",
    "    word_index[word] = idx + 2 # leave 0 and 1 for padding and unknown\n",
    "    \n",
    "tag_index = {}\n",
    "int2tag = {}\n",
    "for idx, tag in enumerate(tag_set):\n",
    "    tag_index[tag] = idx\n",
    "    int2tag[idx] = tag\n",
    "\n",
    "n_words = len(word_index) + 2 # for padding and OOV\n",
    "n_tags = len(tag_set)"
   ]
  },
  {
   "cell_type": "markdown",
   "metadata": {},
   "source": [
    "See the tag set of Universal Dependencies:"
   ]
  },
  {
   "cell_type": "code",
   "execution_count": 7,
   "metadata": {
    "scrolled": true
   },
   "outputs": [
    {
     "data": {
      "text/plain": [
       "{'.',\n",
       " 'ADJ',\n",
       " 'ADP',\n",
       " 'ADV',\n",
       " 'CONJ',\n",
       " 'DET',\n",
       " 'NOUN',\n",
       " 'NUM',\n",
       " 'PRON',\n",
       " 'PRT',\n",
       " 'VERB',\n",
       " 'X'}"
      ]
     },
     "execution_count": 7,
     "metadata": {},
     "output_type": "execute_result"
    }
   ],
   "source": [
    "tag_set"
   ]
  },
  {
   "cell_type": "markdown",
   "metadata": {},
   "source": [
    "We represent each word as an n-gram of a few tokens around the word."
   ]
  },
  {
   "cell_type": "code",
   "execution_count": 8,
   "metadata": {},
   "outputs": [],
   "source": [
    "import numpy as np\n",
    "\n",
    "def build_ngrams(sentences, ctx_size, word_index, tag_index):\n",
    "    \"\"\"\n",
    "    Turn sentences into n-grams of word indices, taken from word_index.\n",
    "    :param setences: a list of sentences.\n",
    "    :param ctx_size: numer of tokens to consider before and after each word.\n",
    "    :param word_index: dictionary of words.\n",
    "    :param tag_index: dictionary of tags.\n",
    "    :return: the list of n-grams and the list of corresponding labels.\n",
    "    \"\"\"\n",
    "    padding_idx = 0\n",
    "    unknown_idx = 1\n",
    "    \n",
    "    X = []\n",
    "    Y = []\n",
    "    \n",
    "    for sentence in sentences:\n",
    "        for n, (word, tag) in enumerate(sentence):\n",
    "            word_indices = []\n",
    "            for i in range(n - ctx_size, n + ctx_size + 1):\n",
    "                # add padding\n",
    "                if i < 0 or i >= len(sentence):\n",
    "                    word_indices.append(padding_idx)\n",
    "                    continue\n",
    "                gram = sentence[i][0]\n",
    "                # index of either word, lowercase word or unknown\n",
    "                word_idx = word_index.get(gram) or word_index.get(gram.lower(),\n",
    "                                                                  unknown_idx)\n",
    "                word_indices.append(word_idx)\n",
    "\n",
    "            X.append(word_indices)\n",
    "            Y.append(tag_index[tag])\n",
    "            \n",
    "    return np.asarray(X), np.asarray(Y)                    "
   ]
  },
  {
   "cell_type": "markdown",
   "metadata": {},
   "source": [
    "## Build the data set of n-grams"
   ]
  },
  {
   "cell_type": "code",
   "execution_count": 9,
   "metadata": {},
   "outputs": [],
   "source": [
    "ctx_size = 2\n",
    "window_size = 2 * ctx_size + 1\n",
    "x_train, y_train = build_ngrams(brown_train, ctx_size, word_index, tag_index)\n",
    "x_test, y_test = build_ngrams(brown_test, ctx_size, word_index, tag_index)"
   ]
  },
  {
   "cell_type": "code",
   "execution_count": 10,
   "metadata": {},
   "outputs": [
    {
     "data": {
      "text/plain": [
       "((77552, 5), (77552,), (23002, 5), (23002,))"
      ]
     },
     "execution_count": 10,
     "metadata": {},
     "output_type": "execute_result"
    }
   ],
   "source": [
    "x_train.shape, y_train.shape, x_test.shape, y_test.shape"
   ]
  },
  {
   "cell_type": "markdown",
   "metadata": {},
   "source": [
    "Turn tags into a one-hot representation:"
   ]
  },
  {
   "cell_type": "code",
   "execution_count": 12,
   "metadata": {},
   "outputs": [
    {
     "data": {
      "text/plain": [
       "\u001b[0;31mSignature:\u001b[0m \u001b[0mto_categorical\u001b[0m\u001b[0;34m(\u001b[0m\u001b[0my\u001b[0m\u001b[0;34m,\u001b[0m \u001b[0mnum_classes\u001b[0m\u001b[0;34m=\u001b[0m\u001b[0;32mNone\u001b[0m\u001b[0;34m)\u001b[0m\u001b[0;34m\u001b[0m\u001b[0;34m\u001b[0m\u001b[0m\n",
       "\u001b[0;31mDocstring:\u001b[0m\n",
       "Converts a class vector (integers) to binary class matrix.\n",
       "\n",
       "E.g. for use with categorical_crossentropy.\n",
       "\n",
       "# Arguments\n",
       "    y: class vector to be converted into a matrix\n",
       "        (integers from 0 to num_classes).\n",
       "    num_classes: total number of classes.\n",
       "\n",
       "# Returns\n",
       "    A binary matrix representation of the input.\n",
       "\u001b[0;31mFile:\u001b[0m      /usr/local/lib/python3.6/dist-packages/keras/utils/np_utils.py\n",
       "\u001b[0;31mType:\u001b[0m      function\n"
      ]
     },
     "metadata": {},
     "output_type": "display_data"
    }
   ],
   "source": [
    "from keras.utils import to_categorical\n",
    "to_categorical?"
   ]
  },
  {
   "cell_type": "markdown",
   "metadata": {},
   "source": [
    "Convert outputs to one-hot vectors, so that the classifier will produce a probability distribution for each tag: "
   ]
  },
  {
   "cell_type": "code",
   "execution_count": 13,
   "metadata": {},
   "outputs": [],
   "source": [
    "y_train_cat = to_categorical(y_train, num_classes=n_tags)\n",
    "y_test_cat = to_categorical(y_test, num_classes=n_tags)"
   ]
  },
  {
   "cell_type": "code",
   "execution_count": 14,
   "metadata": {},
   "outputs": [
    {
     "data": {
      "text/plain": [
       "((77552, 5), (77552, 12), (23002, 5), (23002, 12))"
      ]
     },
     "execution_count": 14,
     "metadata": {},
     "output_type": "execute_result"
    }
   ],
   "source": [
    "x_train.shape, y_train_cat.shape, x_test.shape, y_test_cat.shape"
   ]
  },
  {
   "cell_type": "markdown",
   "metadata": {},
   "source": [
    "See one result in categorical form:"
   ]
  },
  {
   "cell_type": "code",
   "execution_count": 15,
   "metadata": {},
   "outputs": [
    {
     "data": {
      "text/plain": [
       "(0, array([1., 0., 0., 0., 0., 0., 0., 0., 0., 0., 0., 0.]))"
      ]
     },
     "execution_count": 15,
     "metadata": {},
     "output_type": "execute_result"
    }
   ],
   "source": [
    "y_train[0], y_train_cat[0]"
   ]
  },
  {
   "cell_type": "markdown",
   "metadata": {},
   "source": [
    "### Build the model"
   ]
  },
  {
   "cell_type": "code",
   "execution_count": 16,
   "metadata": {},
   "outputs": [],
   "source": [
    "from keras.models import Model, Sequential\n",
    "from keras.layers import Input, Embedding, Conv1D, MaxPooling1D, Flatten\n",
    "from keras.layers import Dropout, Dense\n",
    "from keras.losses import binary_crossentropy, categorical_crossentropy"
   ]
  },
  {
   "cell_type": "markdown",
   "metadata": {},
   "source": [
    "Hyperparameters"
   ]
  },
  {
   "cell_type": "code",
   "execution_count": 21,
   "metadata": {},
   "outputs": [],
   "source": [
    "MAX_SEQUENCE_LENGTH = 250\n",
    "HIDDEN_SIZE = 128\n",
    "EMBEDDING_DIM = 50\n",
    "EPOCHS = 4\n",
    "BATCH_SIZE = 64"
   ]
  },
  {
   "cell_type": "code",
   "execution_count": 18,
   "metadata": {},
   "outputs": [],
   "source": [
    "model = Sequential()\n",
    "model.add(Embedding(n_words, EMBEDDING_DIM, input_length=window_size))\n",
    "model.add(Flatten())\n",
    "model.add(Dropout(0.2)) # optional\n",
    "model.add(Dense(HIDDEN_SIZE, activation='relu'))\n",
    "model.add(Dropout(0.2)) # optional\n",
    "model.add(Dense(n_tags, activation='softmax'))\n",
    "model.compile(loss='categorical_crossentropy',\n",
    "              optimizer='adam',\n",
    "              metrics=['acc'])"
   ]
  },
  {
   "cell_type": "code",
   "execution_count": 20,
   "metadata": {},
   "outputs": [
    {
     "data": {
      "image/svg+xml": [
       "<svg height=\"553pt\" viewBox=\"0.00 0.00 325.00 553.00\" width=\"325pt\" xmlns=\"http://www.w3.org/2000/svg\" xmlns:xlink=\"http://www.w3.org/1999/xlink\">\n",
       "<g class=\"graph\" id=\"graph0\" transform=\"scale(1 1) rotate(0) translate(4 549)\">\n",
       "<title>G</title>\n",
       "<polygon fill=\"#ffffff\" points=\"-4,4 -4,-549 321,-549 321,4 -4,4\" stroke=\"transparent\"/>\n",
       "<!-- 139802386332024 -->\n",
       "<g class=\"node\" id=\"node1\">\n",
       "<title>139802386332024</title>\n",
       "<polygon fill=\"none\" points=\"0,-498.5 0,-544.5 317,-544.5 317,-498.5 0,-498.5\" stroke=\"#000000\"/>\n",
       "<text fill=\"#000000\" font-family=\"Times,serif\" font-size=\"14.00\" text-anchor=\"middle\" x=\"96.5\" y=\"-517.8\">embedding_1_input: InputLayer</text>\n",
       "<polyline fill=\"none\" points=\"193,-498.5 193,-544.5 \" stroke=\"#000000\"/>\n",
       "<text fill=\"#000000\" font-family=\"Times,serif\" font-size=\"14.00\" text-anchor=\"middle\" x=\"220.5\" y=\"-529.3\">input:</text>\n",
       "<polyline fill=\"none\" points=\"193,-521.5 248,-521.5 \" stroke=\"#000000\"/>\n",
       "<text fill=\"#000000\" font-family=\"Times,serif\" font-size=\"14.00\" text-anchor=\"middle\" x=\"220.5\" y=\"-506.3\">output:</text>\n",
       "<polyline fill=\"none\" points=\"248,-498.5 248,-544.5 \" stroke=\"#000000\"/>\n",
       "<text fill=\"#000000\" font-family=\"Times,serif\" font-size=\"14.00\" text-anchor=\"middle\" x=\"282.5\" y=\"-529.3\">(None, 5)</text>\n",
       "<polyline fill=\"none\" points=\"248,-521.5 317,-521.5 \" stroke=\"#000000\"/>\n",
       "<text fill=\"#000000\" font-family=\"Times,serif\" font-size=\"14.00\" text-anchor=\"middle\" x=\"282.5\" y=\"-506.3\">(None, 5)</text>\n",
       "</g>\n",
       "<!-- 139801203723176 -->\n",
       "<g class=\"node\" id=\"node2\">\n",
       "<title>139801203723176</title>\n",
       "<polygon fill=\"none\" points=\"5.5,-415.5 5.5,-461.5 311.5,-461.5 311.5,-415.5 5.5,-415.5\" stroke=\"#000000\"/>\n",
       "<text fill=\"#000000\" font-family=\"Times,serif\" font-size=\"14.00\" text-anchor=\"middle\" x=\"86\" y=\"-434.8\">embedding_1: Embedding</text>\n",
       "<polyline fill=\"none\" points=\"166.5,-415.5 166.5,-461.5 \" stroke=\"#000000\"/>\n",
       "<text fill=\"#000000\" font-family=\"Times,serif\" font-size=\"14.00\" text-anchor=\"middle\" x=\"194\" y=\"-446.3\">input:</text>\n",
       "<polyline fill=\"none\" points=\"166.5,-438.5 221.5,-438.5 \" stroke=\"#000000\"/>\n",
       "<text fill=\"#000000\" font-family=\"Times,serif\" font-size=\"14.00\" text-anchor=\"middle\" x=\"194\" y=\"-423.3\">output:</text>\n",
       "<polyline fill=\"none\" points=\"221.5,-415.5 221.5,-461.5 \" stroke=\"#000000\"/>\n",
       "<text fill=\"#000000\" font-family=\"Times,serif\" font-size=\"14.00\" text-anchor=\"middle\" x=\"266.5\" y=\"-446.3\">(None, 5)</text>\n",
       "<polyline fill=\"none\" points=\"221.5,-438.5 311.5,-438.5 \" stroke=\"#000000\"/>\n",
       "<text fill=\"#000000\" font-family=\"Times,serif\" font-size=\"14.00\" text-anchor=\"middle\" x=\"266.5\" y=\"-423.3\">(None, 5, 50)</text>\n",
       "</g>\n",
       "<!-- 139802386332024&#45;&gt;139801203723176 -->\n",
       "<g class=\"edge\" id=\"edge1\">\n",
       "<title>139802386332024-&gt;139801203723176</title>\n",
       "<path d=\"M158.5,-498.3799C158.5,-490.1745 158.5,-480.7679 158.5,-471.8786\" fill=\"none\" stroke=\"#000000\"/>\n",
       "<polygon fill=\"#000000\" points=\"162.0001,-471.784 158.5,-461.784 155.0001,-471.784 162.0001,-471.784\" stroke=\"#000000\"/>\n",
       "</g>\n",
       "<!-- 139801203723680 -->\n",
       "<g class=\"node\" id=\"node3\">\n",
       "<title>139801203723680</title>\n",
       "<polygon fill=\"none\" points=\"31,-332.5 31,-378.5 286,-378.5 286,-332.5 31,-332.5\" stroke=\"#000000\"/>\n",
       "<text fill=\"#000000\" font-family=\"Times,serif\" font-size=\"14.00\" text-anchor=\"middle\" x=\"86\" y=\"-351.8\">flatten_1: Flatten</text>\n",
       "<polyline fill=\"none\" points=\"141,-332.5 141,-378.5 \" stroke=\"#000000\"/>\n",
       "<text fill=\"#000000\" font-family=\"Times,serif\" font-size=\"14.00\" text-anchor=\"middle\" x=\"168.5\" y=\"-363.3\">input:</text>\n",
       "<polyline fill=\"none\" points=\"141,-355.5 196,-355.5 \" stroke=\"#000000\"/>\n",
       "<text fill=\"#000000\" font-family=\"Times,serif\" font-size=\"14.00\" text-anchor=\"middle\" x=\"168.5\" y=\"-340.3\">output:</text>\n",
       "<polyline fill=\"none\" points=\"196,-332.5 196,-378.5 \" stroke=\"#000000\"/>\n",
       "<text fill=\"#000000\" font-family=\"Times,serif\" font-size=\"14.00\" text-anchor=\"middle\" x=\"241\" y=\"-363.3\">(None, 5, 50)</text>\n",
       "<polyline fill=\"none\" points=\"196,-355.5 286,-355.5 \" stroke=\"#000000\"/>\n",
       "<text fill=\"#000000\" font-family=\"Times,serif\" font-size=\"14.00\" text-anchor=\"middle\" x=\"241\" y=\"-340.3\">(None, 250)</text>\n",
       "</g>\n",
       "<!-- 139801203723176&#45;&gt;139801203723680 -->\n",
       "<g class=\"edge\" id=\"edge2\">\n",
       "<title>139801203723176-&gt;139801203723680</title>\n",
       "<path d=\"M158.5,-415.3799C158.5,-407.1745 158.5,-397.7679 158.5,-388.8786\" fill=\"none\" stroke=\"#000000\"/>\n",
       "<polygon fill=\"#000000\" points=\"162.0001,-388.784 158.5,-378.784 155.0001,-388.784 162.0001,-388.784\" stroke=\"#000000\"/>\n",
       "</g>\n",
       "<!-- 139801203723904 -->\n",
       "<g class=\"node\" id=\"node4\">\n",
       "<title>139801203723904</title>\n",
       "<polygon fill=\"none\" points=\"27,-249.5 27,-295.5 290,-295.5 290,-249.5 27,-249.5\" stroke=\"#000000\"/>\n",
       "<text fill=\"#000000\" font-family=\"Times,serif\" font-size=\"14.00\" text-anchor=\"middle\" x=\"89.5\" y=\"-268.8\">dropout_1: Dropout</text>\n",
       "<polyline fill=\"none\" points=\"152,-249.5 152,-295.5 \" stroke=\"#000000\"/>\n",
       "<text fill=\"#000000\" font-family=\"Times,serif\" font-size=\"14.00\" text-anchor=\"middle\" x=\"179.5\" y=\"-280.3\">input:</text>\n",
       "<polyline fill=\"none\" points=\"152,-272.5 207,-272.5 \" stroke=\"#000000\"/>\n",
       "<text fill=\"#000000\" font-family=\"Times,serif\" font-size=\"14.00\" text-anchor=\"middle\" x=\"179.5\" y=\"-257.3\">output:</text>\n",
       "<polyline fill=\"none\" points=\"207,-249.5 207,-295.5 \" stroke=\"#000000\"/>\n",
       "<text fill=\"#000000\" font-family=\"Times,serif\" font-size=\"14.00\" text-anchor=\"middle\" x=\"248.5\" y=\"-280.3\">(None, 250)</text>\n",
       "<polyline fill=\"none\" points=\"207,-272.5 290,-272.5 \" stroke=\"#000000\"/>\n",
       "<text fill=\"#000000\" font-family=\"Times,serif\" font-size=\"14.00\" text-anchor=\"middle\" x=\"248.5\" y=\"-257.3\">(None, 250)</text>\n",
       "</g>\n",
       "<!-- 139801203723680&#45;&gt;139801203723904 -->\n",
       "<g class=\"edge\" id=\"edge3\">\n",
       "<title>139801203723680-&gt;139801203723904</title>\n",
       "<path d=\"M158.5,-332.3799C158.5,-324.1745 158.5,-314.7679 158.5,-305.8786\" fill=\"none\" stroke=\"#000000\"/>\n",
       "<polygon fill=\"#000000\" points=\"162.0001,-305.784 158.5,-295.784 155.0001,-305.784 162.0001,-305.784\" stroke=\"#000000\"/>\n",
       "</g>\n",
       "<!-- 139801203728568 -->\n",
       "<g class=\"node\" id=\"node5\">\n",
       "<title>139801203728568</title>\n",
       "<polygon fill=\"none\" points=\"38.5,-166.5 38.5,-212.5 278.5,-212.5 278.5,-166.5 38.5,-166.5\" stroke=\"#000000\"/>\n",
       "<text fill=\"#000000\" font-family=\"Times,serif\" font-size=\"14.00\" text-anchor=\"middle\" x=\"89.5\" y=\"-185.8\">dense_1: Dense</text>\n",
       "<polyline fill=\"none\" points=\"140.5,-166.5 140.5,-212.5 \" stroke=\"#000000\"/>\n",
       "<text fill=\"#000000\" font-family=\"Times,serif\" font-size=\"14.00\" text-anchor=\"middle\" x=\"168\" y=\"-197.3\">input:</text>\n",
       "<polyline fill=\"none\" points=\"140.5,-189.5 195.5,-189.5 \" stroke=\"#000000\"/>\n",
       "<text fill=\"#000000\" font-family=\"Times,serif\" font-size=\"14.00\" text-anchor=\"middle\" x=\"168\" y=\"-174.3\">output:</text>\n",
       "<polyline fill=\"none\" points=\"195.5,-166.5 195.5,-212.5 \" stroke=\"#000000\"/>\n",
       "<text fill=\"#000000\" font-family=\"Times,serif\" font-size=\"14.00\" text-anchor=\"middle\" x=\"237\" y=\"-197.3\">(None, 250)</text>\n",
       "<polyline fill=\"none\" points=\"195.5,-189.5 278.5,-189.5 \" stroke=\"#000000\"/>\n",
       "<text fill=\"#000000\" font-family=\"Times,serif\" font-size=\"14.00\" text-anchor=\"middle\" x=\"237\" y=\"-174.3\">(None, 128)</text>\n",
       "</g>\n",
       "<!-- 139801203723904&#45;&gt;139801203728568 -->\n",
       "<g class=\"edge\" id=\"edge4\">\n",
       "<title>139801203723904-&gt;139801203728568</title>\n",
       "<path d=\"M158.5,-249.3799C158.5,-241.1745 158.5,-231.7679 158.5,-222.8786\" fill=\"none\" stroke=\"#000000\"/>\n",
       "<polygon fill=\"#000000\" points=\"162.0001,-222.784 158.5,-212.784 155.0001,-222.784 162.0001,-222.784\" stroke=\"#000000\"/>\n",
       "</g>\n",
       "<!-- 139801203728512 -->\n",
       "<g class=\"node\" id=\"node6\">\n",
       "<title>139801203728512</title>\n",
       "<polygon fill=\"none\" points=\"27,-83.5 27,-129.5 290,-129.5 290,-83.5 27,-83.5\" stroke=\"#000000\"/>\n",
       "<text fill=\"#000000\" font-family=\"Times,serif\" font-size=\"14.00\" text-anchor=\"middle\" x=\"89.5\" y=\"-102.8\">dropout_2: Dropout</text>\n",
       "<polyline fill=\"none\" points=\"152,-83.5 152,-129.5 \" stroke=\"#000000\"/>\n",
       "<text fill=\"#000000\" font-family=\"Times,serif\" font-size=\"14.00\" text-anchor=\"middle\" x=\"179.5\" y=\"-114.3\">input:</text>\n",
       "<polyline fill=\"none\" points=\"152,-106.5 207,-106.5 \" stroke=\"#000000\"/>\n",
       "<text fill=\"#000000\" font-family=\"Times,serif\" font-size=\"14.00\" text-anchor=\"middle\" x=\"179.5\" y=\"-91.3\">output:</text>\n",
       "<polyline fill=\"none\" points=\"207,-83.5 207,-129.5 \" stroke=\"#000000\"/>\n",
       "<text fill=\"#000000\" font-family=\"Times,serif\" font-size=\"14.00\" text-anchor=\"middle\" x=\"248.5\" y=\"-114.3\">(None, 128)</text>\n",
       "<polyline fill=\"none\" points=\"207,-106.5 290,-106.5 \" stroke=\"#000000\"/>\n",
       "<text fill=\"#000000\" font-family=\"Times,serif\" font-size=\"14.00\" text-anchor=\"middle\" x=\"248.5\" y=\"-91.3\">(None, 128)</text>\n",
       "</g>\n",
       "<!-- 139801203728568&#45;&gt;139801203728512 -->\n",
       "<g class=\"edge\" id=\"edge5\">\n",
       "<title>139801203728568-&gt;139801203728512</title>\n",
       "<path d=\"M158.5,-166.3799C158.5,-158.1745 158.5,-148.7679 158.5,-139.8786\" fill=\"none\" stroke=\"#000000\"/>\n",
       "<polygon fill=\"#000000\" points=\"162.0001,-139.784 158.5,-129.784 155.0001,-139.784 162.0001,-139.784\" stroke=\"#000000\"/>\n",
       "</g>\n",
       "<!-- 139801193852600 -->\n",
       "<g class=\"node\" id=\"node7\">\n",
       "<title>139801193852600</title>\n",
       "<polygon fill=\"none\" points=\"38.5,-.5 38.5,-46.5 278.5,-46.5 278.5,-.5 38.5,-.5\" stroke=\"#000000\"/>\n",
       "<text fill=\"#000000\" font-family=\"Times,serif\" font-size=\"14.00\" text-anchor=\"middle\" x=\"89.5\" y=\"-19.8\">dense_2: Dense</text>\n",
       "<polyline fill=\"none\" points=\"140.5,-.5 140.5,-46.5 \" stroke=\"#000000\"/>\n",
       "<text fill=\"#000000\" font-family=\"Times,serif\" font-size=\"14.00\" text-anchor=\"middle\" x=\"168\" y=\"-31.3\">input:</text>\n",
       "<polyline fill=\"none\" points=\"140.5,-23.5 195.5,-23.5 \" stroke=\"#000000\"/>\n",
       "<text fill=\"#000000\" font-family=\"Times,serif\" font-size=\"14.00\" text-anchor=\"middle\" x=\"168\" y=\"-8.3\">output:</text>\n",
       "<polyline fill=\"none\" points=\"195.5,-.5 195.5,-46.5 \" stroke=\"#000000\"/>\n",
       "<text fill=\"#000000\" font-family=\"Times,serif\" font-size=\"14.00\" text-anchor=\"middle\" x=\"237\" y=\"-31.3\">(None, 128)</text>\n",
       "<polyline fill=\"none\" points=\"195.5,-23.5 278.5,-23.5 \" stroke=\"#000000\"/>\n",
       "<text fill=\"#000000\" font-family=\"Times,serif\" font-size=\"14.00\" text-anchor=\"middle\" x=\"237\" y=\"-8.3\">(None, 12)</text>\n",
       "</g>\n",
       "<!-- 139801203728512&#45;&gt;139801193852600 -->\n",
       "<g class=\"edge\" id=\"edge6\">\n",
       "<title>139801203728512-&gt;139801193852600</title>\n",
       "<path d=\"M158.5,-83.3799C158.5,-75.1745 158.5,-65.7679 158.5,-56.8786\" fill=\"none\" stroke=\"#000000\"/>\n",
       "<polygon fill=\"#000000\" points=\"162.0001,-56.784 158.5,-46.784 155.0001,-56.784 162.0001,-56.784\" stroke=\"#000000\"/>\n",
       "</g>\n",
       "</g>\n",
       "</svg>"
      ],
      "text/plain": [
       "<IPython.core.display.SVG object>"
      ]
     },
     "execution_count": 20,
     "metadata": {},
     "output_type": "execute_result"
    }
   ],
   "source": [
    "from IPython.display import SVG\n",
    "from keras.utils.vis_utils import model_to_dot\n",
    "SVG(model_to_dot(model, show_shapes=True).create(prog='dot', format='svg'))"
   ]
  },
  {
   "cell_type": "markdown",
   "metadata": {},
   "source": [
    "### Train the model"
   ]
  },
  {
   "cell_type": "code",
   "execution_count": 22,
   "metadata": {},
   "outputs": [
    {
     "name": "stdout",
     "output_type": "stream",
     "text": [
      "Epoch 1/4\n",
      "77552/77552 [==============================] - 14s 177us/step - loss: 0.5266 - acc: 0.8459\n",
      "Epoch 2/4\n",
      "77552/77552 [==============================] - 14s 176us/step - loss: 0.0952 - acc: 0.9715\n",
      "Epoch 3/4\n",
      "77552/77552 [==============================] - 14s 176us/step - loss: 0.0411 - acc: 0.9874\n",
      "Epoch 4/4\n",
      "77552/77552 [==============================] - 14s 175us/step - loss: 0.0242 - acc: 0.9929\n"
     ]
    }
   ],
   "source": [
    "history = model.fit(x_train, y_train_cat, epochs=EPOCHS, batch_size=BATCH_SIZE)"
   ]
  },
  {
   "cell_type": "markdown",
   "metadata": {},
   "source": [
    "### Evaluate the tagger\n",
    "`predict_classes` returns the `argmax` of the predicted `softmax` scores."
   ]
  },
  {
   "cell_type": "code",
   "execution_count": 23,
   "metadata": {},
   "outputs": [],
   "source": [
    "y_pred = model.predict_classes(x_test)"
   ]
  },
  {
   "cell_type": "markdown",
   "metadata": {},
   "source": [
    "This is equivalent of calling `predict` to obtain a probability distribution and then taking the `argmax`:"
   ]
  },
  {
   "cell_type": "code",
   "execution_count": 24,
   "metadata": {},
   "outputs": [
    {
     "data": {
      "text/plain": [
       "array([ True,  True,  True, ...,  True,  True,  True])"
      ]
     },
     "execution_count": 24,
     "metadata": {},
     "output_type": "execute_result"
    }
   ],
   "source": [
    "y_pred_cat = model.predict(x_test)\n",
    "y_pred == y_pred_cat.argmax(1)"
   ]
  },
  {
   "cell_type": "code",
   "execution_count": 25,
   "metadata": {},
   "outputs": [],
   "source": [
    "from sklearn.metrics import accuracy_score, precision_score, recall_score, f1_score\n",
    "\n",
    "def show_micro_avg(y_test, y_pred):\n",
    "    acc = accuracy_score(y_test, y_pred) * 100\n",
    "    pr = precision_score(y_test, y_pred, average='micro') * 100\n",
    "    rc = recall_score(y_test, y_pred, average='micro') * 100\n",
    "    f1 = f1_score(y_test, y_pred, average='micro') * 100\n",
    "    print(\"Accuracy: %.2f, Precision: %.2f, Recall: %.2f, F1: %.2f\" %\n",
    "          (acc, pr, rc, f1))"
   ]
  },
  {
   "cell_type": "code",
   "execution_count": 26,
   "metadata": {},
   "outputs": [
    {
     "name": "stdout",
     "output_type": "stream",
     "text": [
      "Accuracy: 93.39, Precision: 93.39, Recall: 93.39, F1: 93.39\n"
     ]
    }
   ],
   "source": [
    "show_micro_avg(y_test, y_pred)"
   ]
  },
  {
   "cell_type": "markdown",
   "metadata": {},
   "source": [
    "### Show the confusion matrix"
   ]
  },
  {
   "cell_type": "code",
   "execution_count": 27,
   "metadata": {},
   "outputs": [
    {
     "data": {
      "text/plain": [
       "<matplotlib.axes._subplots.AxesSubplot at 0x7f259c755978>"
      ]
     },
     "execution_count": 27,
     "metadata": {},
     "output_type": "execute_result"
    },
    {
     "data": {
      "image/png": "[encoded data removed]",
      "text/plain": [
       "<Figure size 432x288 with 1 Axes>"
      ]
     },
     "metadata": {
      "needs_background": "light"
     },
     "output_type": "display_data"
    }
   ],
   "source": [
    "from sklearn.metrics import confusion_matrix\n",
    "\n",
    "cm = confusion_matrix(y_test, y_pred)\n",
    "\n",
    "import seaborn as sn\n",
    "import pandas as pd\n",
    "%matplotlib inline\n",
    "\n",
    "df = pd.DataFrame(cm, columns=tag_set)\n",
    "sn.heatmap(df, annot=True, cbar=False, fmt=\"d\", cmap=\"YlGnBu\", annot_kws={\"size\": 14})# font size"
   ]
  },
  {
   "cell_type": "markdown",
   "metadata": {},
   "source": [
    "## POS Tagger with Conv1D\n",
    "Instead of creating the ngrams explicitly, one could use a `Conv1D` layer to group tokens. "
   ]
  },
  {
   "cell_type": "code",
   "execution_count": 28,
   "metadata": {},
   "outputs": [],
   "source": [
    "unknown_idx = 1\n",
    "x_train = [[word_index.get(word.lower(), unknown_idx)\n",
    "            for word,tag in sentence] for sentence in brown_train]\n",
    "y_train = [[tag_index[tag] for word,tag in sentence]\n",
    "                                       for sentence in brown_train]\n",
    "x_test = [[word_index.get(word.lower(), unknown_idx)\n",
    "                    for word,tag in sentence] for sentence in brown_test]\n",
    "y_test = [[tag_index[tag] for word,tag in sentence]\n",
    "                                       for sentence in brown_test]"
   ]
  },
  {
   "cell_type": "code",
   "execution_count": 29,
   "metadata": {},
   "outputs": [],
   "source": [
    "from keras.preprocessing.sequence import pad_sequences\n",
    "\n",
    "x_train = pad_sequences(x_train, maxlen=MAX_SEQUENCE_LENGTH, padding='post', truncating='post')\n",
    "x_test = pad_sequences(x_test, maxlen=MAX_SEQUENCE_LENGTH, padding='post', truncating='post')\n",
    "y_train = pad_sequences(y_train, maxlen=MAX_SEQUENCE_LENGTH, padding='post', truncating='post')\n",
    "y_test = pad_sequences(y_test, maxlen=MAX_SEQUENCE_LENGTH, padding='post', truncating='post')"
   ]
  },
  {
   "cell_type": "code",
   "execution_count": 30,
   "metadata": {},
   "outputs": [],
   "source": [
    "y_train_cat = to_categorical(y_train, num_classes=n_tags)\n",
    "y_test_cat = to_categorical(y_test, num_classes=n_tags)"
   ]
  },
  {
   "cell_type": "markdown",
   "metadata": {},
   "source": [
    "### Build the model"
   ]
  },
  {
   "cell_type": "code",
   "execution_count": 32,
   "metadata": {},
   "outputs": [],
   "source": [
    "filters = 16\n",
    "\n",
    "model = Sequential()\n",
    "model.add(Embedding(n_words, EMBEDDING_DIM, input_length=MAX_SEQUENCE_LENGTH))\n",
    "model.add(Conv1D(filters, window_size, padding='same', activation='relu'))\n",
    "#model.add(MaxPooling1D(window_size))\n",
    "model.add(Dropout(0.2))\n",
    "model.add(Dense(60, activation='relu'))\n",
    "model.add(Dropout(0.2))\n",
    "model.add(Dense(n_tags, activation='softmax'))\n",
    "model.compile(loss='categorical_crossentropy',\n",
    "              optimizer='adam',\n",
    "              metrics=['acc'])"
   ]
  },
  {
   "cell_type": "code",
   "execution_count": 33,
   "metadata": {},
   "outputs": [
    {
     "data": {
      "image/svg+xml": [
       "<svg height=\"553pt\" viewBox=\"0.00 0.00 339.00 553.00\" width=\"339pt\" xmlns=\"http://www.w3.org/2000/svg\" xmlns:xlink=\"http://www.w3.org/1999/xlink\">\n",
       "<g class=\"graph\" id=\"graph0\" transform=\"scale(1 1) rotate(0) translate(4 549)\">\n",
       "<title>G</title>\n",
       "<polygon fill=\"#ffffff\" points=\"-4,4 -4,-549 335,-549 335,4 -4,4\" stroke=\"transparent\"/>\n",
       "<!-- 139802386052656 -->\n",
       "<g class=\"node\" id=\"node1\">\n",
       "<title>139802386052656</title>\n",
       "<polygon fill=\"none\" points=\"0,-498.5 0,-544.5 331,-544.5 331,-498.5 0,-498.5\" stroke=\"#000000\"/>\n",
       "<text fill=\"#000000\" font-family=\"Times,serif\" font-size=\"14.00\" text-anchor=\"middle\" x=\"96.5\" y=\"-517.8\">embedding_2_input: InputLayer</text>\n",
       "<polyline fill=\"none\" points=\"193,-498.5 193,-544.5 \" stroke=\"#000000\"/>\n",
       "<text fill=\"#000000\" font-family=\"Times,serif\" font-size=\"14.00\" text-anchor=\"middle\" x=\"220.5\" y=\"-529.3\">input:</text>\n",
       "<polyline fill=\"none\" points=\"193,-521.5 248,-521.5 \" stroke=\"#000000\"/>\n",
       "<text fill=\"#000000\" font-family=\"Times,serif\" font-size=\"14.00\" text-anchor=\"middle\" x=\"220.5\" y=\"-506.3\">output:</text>\n",
       "<polyline fill=\"none\" points=\"248,-498.5 248,-544.5 \" stroke=\"#000000\"/>\n",
       "<text fill=\"#000000\" font-family=\"Times,serif\" font-size=\"14.00\" text-anchor=\"middle\" x=\"289.5\" y=\"-529.3\">(None, 250)</text>\n",
       "<polyline fill=\"none\" points=\"248,-521.5 331,-521.5 \" stroke=\"#000000\"/>\n",
       "<text fill=\"#000000\" font-family=\"Times,serif\" font-size=\"14.00\" text-anchor=\"middle\" x=\"289.5\" y=\"-506.3\">(None, 250)</text>\n",
       "</g>\n",
       "<!-- 139802386054952 -->\n",
       "<g class=\"node\" id=\"node2\">\n",
       "<title>139802386054952</title>\n",
       "<polygon fill=\"none\" points=\"5.5,-415.5 5.5,-461.5 325.5,-461.5 325.5,-415.5 5.5,-415.5\" stroke=\"#000000\"/>\n",
       "<text fill=\"#000000\" font-family=\"Times,serif\" font-size=\"14.00\" text-anchor=\"middle\" x=\"86\" y=\"-434.8\">embedding_2: Embedding</text>\n",
       "<polyline fill=\"none\" points=\"166.5,-415.5 166.5,-461.5 \" stroke=\"#000000\"/>\n",
       "<text fill=\"#000000\" font-family=\"Times,serif\" font-size=\"14.00\" text-anchor=\"middle\" x=\"194\" y=\"-446.3\">input:</text>\n",
       "<polyline fill=\"none\" points=\"166.5,-438.5 221.5,-438.5 \" stroke=\"#000000\"/>\n",
       "<text fill=\"#000000\" font-family=\"Times,serif\" font-size=\"14.00\" text-anchor=\"middle\" x=\"194\" y=\"-423.3\">output:</text>\n",
       "<polyline fill=\"none\" points=\"221.5,-415.5 221.5,-461.5 \" stroke=\"#000000\"/>\n",
       "<text fill=\"#000000\" font-family=\"Times,serif\" font-size=\"14.00\" text-anchor=\"middle\" x=\"273.5\" y=\"-446.3\">(None, 250)</text>\n",
       "<polyline fill=\"none\" points=\"221.5,-438.5 325.5,-438.5 \" stroke=\"#000000\"/>\n",
       "<text fill=\"#000000\" font-family=\"Times,serif\" font-size=\"14.00\" text-anchor=\"middle\" x=\"273.5\" y=\"-423.3\">(None, 250, 50)</text>\n",
       "</g>\n",
       "<!-- 139802386052656&#45;&gt;139802386054952 -->\n",
       "<g class=\"edge\" id=\"edge1\">\n",
       "<title>139802386052656-&gt;139802386054952</title>\n",
       "<path d=\"M165.5,-498.3799C165.5,-490.1745 165.5,-480.7679 165.5,-471.8786\" fill=\"none\" stroke=\"#000000\"/>\n",
       "<polygon fill=\"#000000\" points=\"169.0001,-471.784 165.5,-461.784 162.0001,-471.784 169.0001,-471.784\" stroke=\"#000000\"/>\n",
       "</g>\n",
       "<!-- 139802386054280 -->\n",
       "<g class=\"node\" id=\"node3\">\n",
       "<title>139802386054280</title>\n",
       "<polygon fill=\"none\" points=\"24.5,-332.5 24.5,-378.5 306.5,-378.5 306.5,-332.5 24.5,-332.5\" stroke=\"#000000\"/>\n",
       "<text fill=\"#000000\" font-family=\"Times,serif\" font-size=\"14.00\" text-anchor=\"middle\" x=\"86\" y=\"-351.8\">conv1d_1: Conv1D</text>\n",
       "<polyline fill=\"none\" points=\"147.5,-332.5 147.5,-378.5 \" stroke=\"#000000\"/>\n",
       "<text fill=\"#000000\" font-family=\"Times,serif\" font-size=\"14.00\" text-anchor=\"middle\" x=\"175\" y=\"-363.3\">input:</text>\n",
       "<polyline fill=\"none\" points=\"147.5,-355.5 202.5,-355.5 \" stroke=\"#000000\"/>\n",
       "<text fill=\"#000000\" font-family=\"Times,serif\" font-size=\"14.00\" text-anchor=\"middle\" x=\"175\" y=\"-340.3\">output:</text>\n",
       "<polyline fill=\"none\" points=\"202.5,-332.5 202.5,-378.5 \" stroke=\"#000000\"/>\n",
       "<text fill=\"#000000\" font-family=\"Times,serif\" font-size=\"14.00\" text-anchor=\"middle\" x=\"254.5\" y=\"-363.3\">(None, 250, 50)</text>\n",
       "<polyline fill=\"none\" points=\"202.5,-355.5 306.5,-355.5 \" stroke=\"#000000\"/>\n",
       "<text fill=\"#000000\" font-family=\"Times,serif\" font-size=\"14.00\" text-anchor=\"middle\" x=\"254.5\" y=\"-340.3\">(None, 250, 16)</text>\n",
       "</g>\n",
       "<!-- 139802386054952&#45;&gt;139802386054280 -->\n",
       "<g class=\"edge\" id=\"edge2\">\n",
       "<title>139802386054952-&gt;139802386054280</title>\n",
       "<path d=\"M165.5,-415.3799C165.5,-407.1745 165.5,-397.7679 165.5,-388.8786\" fill=\"none\" stroke=\"#000000\"/>\n",
       "<polygon fill=\"#000000\" points=\"169.0001,-388.784 165.5,-378.784 162.0001,-388.784 169.0001,-388.784\" stroke=\"#000000\"/>\n",
       "</g>\n",
       "<!-- 139802386052768 -->\n",
       "<g class=\"node\" id=\"node4\">\n",
       "<title>139802386052768</title>\n",
       "<polygon fill=\"none\" points=\"23.5,-249.5 23.5,-295.5 307.5,-295.5 307.5,-249.5 23.5,-249.5\" stroke=\"#000000\"/>\n",
       "<text fill=\"#000000\" font-family=\"Times,serif\" font-size=\"14.00\" text-anchor=\"middle\" x=\"86\" y=\"-268.8\">dropout_3: Dropout</text>\n",
       "<polyline fill=\"none\" points=\"148.5,-249.5 148.5,-295.5 \" stroke=\"#000000\"/>\n",
       "<text fill=\"#000000\" font-family=\"Times,serif\" font-size=\"14.00\" text-anchor=\"middle\" x=\"176\" y=\"-280.3\">input:</text>\n",
       "<polyline fill=\"none\" points=\"148.5,-272.5 203.5,-272.5 \" stroke=\"#000000\"/>\n",
       "<text fill=\"#000000\" font-family=\"Times,serif\" font-size=\"14.00\" text-anchor=\"middle\" x=\"176\" y=\"-257.3\">output:</text>\n",
       "<polyline fill=\"none\" points=\"203.5,-249.5 203.5,-295.5 \" stroke=\"#000000\"/>\n",
       "<text fill=\"#000000\" font-family=\"Times,serif\" font-size=\"14.00\" text-anchor=\"middle\" x=\"255.5\" y=\"-280.3\">(None, 250, 16)</text>\n",
       "<polyline fill=\"none\" points=\"203.5,-272.5 307.5,-272.5 \" stroke=\"#000000\"/>\n",
       "<text fill=\"#000000\" font-family=\"Times,serif\" font-size=\"14.00\" text-anchor=\"middle\" x=\"255.5\" y=\"-257.3\">(None, 250, 16)</text>\n",
       "</g>\n",
       "<!-- 139802386054280&#45;&gt;139802386052768 -->\n",
       "<g class=\"edge\" id=\"edge3\">\n",
       "<title>139802386054280-&gt;139802386052768</title>\n",
       "<path d=\"M165.5,-332.3799C165.5,-324.1745 165.5,-314.7679 165.5,-305.8786\" fill=\"none\" stroke=\"#000000\"/>\n",
       "<polygon fill=\"#000000\" points=\"169.0001,-305.784 165.5,-295.784 162.0001,-305.784 169.0001,-305.784\" stroke=\"#000000\"/>\n",
       "</g>\n",
       "<!-- 139802387011960 -->\n",
       "<g class=\"node\" id=\"node5\">\n",
       "<title>139802387011960</title>\n",
       "<polygon fill=\"none\" points=\"35,-166.5 35,-212.5 296,-212.5 296,-166.5 35,-166.5\" stroke=\"#000000\"/>\n",
       "<text fill=\"#000000\" font-family=\"Times,serif\" font-size=\"14.00\" text-anchor=\"middle\" x=\"86\" y=\"-185.8\">dense_3: Dense</text>\n",
       "<polyline fill=\"none\" points=\"137,-166.5 137,-212.5 \" stroke=\"#000000\"/>\n",
       "<text fill=\"#000000\" font-family=\"Times,serif\" font-size=\"14.00\" text-anchor=\"middle\" x=\"164.5\" y=\"-197.3\">input:</text>\n",
       "<polyline fill=\"none\" points=\"137,-189.5 192,-189.5 \" stroke=\"#000000\"/>\n",
       "<text fill=\"#000000\" font-family=\"Times,serif\" font-size=\"14.00\" text-anchor=\"middle\" x=\"164.5\" y=\"-174.3\">output:</text>\n",
       "<polyline fill=\"none\" points=\"192,-166.5 192,-212.5 \" stroke=\"#000000\"/>\n",
       "<text fill=\"#000000\" font-family=\"Times,serif\" font-size=\"14.00\" text-anchor=\"middle\" x=\"244\" y=\"-197.3\">(None, 250, 16)</text>\n",
       "<polyline fill=\"none\" points=\"192,-189.5 296,-189.5 \" stroke=\"#000000\"/>\n",
       "<text fill=\"#000000\" font-family=\"Times,serif\" font-size=\"14.00\" text-anchor=\"middle\" x=\"244\" y=\"-174.3\">(None, 250, 60)</text>\n",
       "</g>\n",
       "<!-- 139802386052768&#45;&gt;139802387011960 -->\n",
       "<g class=\"edge\" id=\"edge4\">\n",
       "<title>139802386052768-&gt;139802387011960</title>\n",
       "<path d=\"M165.5,-249.3799C165.5,-241.1745 165.5,-231.7679 165.5,-222.8786\" fill=\"none\" stroke=\"#000000\"/>\n",
       "<polygon fill=\"#000000\" points=\"169.0001,-222.784 165.5,-212.784 162.0001,-222.784 169.0001,-222.784\" stroke=\"#000000\"/>\n",
       "</g>\n",
       "<!-- 139802386517352 -->\n",
       "<g class=\"node\" id=\"node6\">\n",
       "<title>139802386517352</title>\n",
       "<polygon fill=\"none\" points=\"23.5,-83.5 23.5,-129.5 307.5,-129.5 307.5,-83.5 23.5,-83.5\" stroke=\"#000000\"/>\n",
       "<text fill=\"#000000\" font-family=\"Times,serif\" font-size=\"14.00\" text-anchor=\"middle\" x=\"86\" y=\"-102.8\">dropout_4: Dropout</text>\n",
       "<polyline fill=\"none\" points=\"148.5,-83.5 148.5,-129.5 \" stroke=\"#000000\"/>\n",
       "<text fill=\"#000000\" font-family=\"Times,serif\" font-size=\"14.00\" text-anchor=\"middle\" x=\"176\" y=\"-114.3\">input:</text>\n",
       "<polyline fill=\"none\" points=\"148.5,-106.5 203.5,-106.5 \" stroke=\"#000000\"/>\n",
       "<text fill=\"#000000\" font-family=\"Times,serif\" font-size=\"14.00\" text-anchor=\"middle\" x=\"176\" y=\"-91.3\">output:</text>\n",
       "<polyline fill=\"none\" points=\"203.5,-83.5 203.5,-129.5 \" stroke=\"#000000\"/>\n",
       "<text fill=\"#000000\" font-family=\"Times,serif\" font-size=\"14.00\" text-anchor=\"middle\" x=\"255.5\" y=\"-114.3\">(None, 250, 60)</text>\n",
       "<polyline fill=\"none\" points=\"203.5,-106.5 307.5,-106.5 \" stroke=\"#000000\"/>\n",
       "<text fill=\"#000000\" font-family=\"Times,serif\" font-size=\"14.00\" text-anchor=\"middle\" x=\"255.5\" y=\"-91.3\">(None, 250, 60)</text>\n",
       "</g>\n",
       "<!-- 139802387011960&#45;&gt;139802386517352 -->\n",
       "<g class=\"edge\" id=\"edge5\">\n",
       "<title>139802387011960-&gt;139802386517352</title>\n",
       "<path d=\"M165.5,-166.3799C165.5,-158.1745 165.5,-148.7679 165.5,-139.8786\" fill=\"none\" stroke=\"#000000\"/>\n",
       "<polygon fill=\"#000000\" points=\"169.0001,-139.784 165.5,-129.784 162.0001,-139.784 169.0001,-139.784\" stroke=\"#000000\"/>\n",
       "</g>\n",
       "<!-- 139801191635656 -->\n",
       "<g class=\"node\" id=\"node7\">\n",
       "<title>139801191635656</title>\n",
       "<polygon fill=\"none\" points=\"35,-.5 35,-46.5 296,-46.5 296,-.5 35,-.5\" stroke=\"#000000\"/>\n",
       "<text fill=\"#000000\" font-family=\"Times,serif\" font-size=\"14.00\" text-anchor=\"middle\" x=\"86\" y=\"-19.8\">dense_4: Dense</text>\n",
       "<polyline fill=\"none\" points=\"137,-.5 137,-46.5 \" stroke=\"#000000\"/>\n",
       "<text fill=\"#000000\" font-family=\"Times,serif\" font-size=\"14.00\" text-anchor=\"middle\" x=\"164.5\" y=\"-31.3\">input:</text>\n",
       "<polyline fill=\"none\" points=\"137,-23.5 192,-23.5 \" stroke=\"#000000\"/>\n",
       "<text fill=\"#000000\" font-family=\"Times,serif\" font-size=\"14.00\" text-anchor=\"middle\" x=\"164.5\" y=\"-8.3\">output:</text>\n",
       "<polyline fill=\"none\" points=\"192,-.5 192,-46.5 \" stroke=\"#000000\"/>\n",
       "<text fill=\"#000000\" font-family=\"Times,serif\" font-size=\"14.00\" text-anchor=\"middle\" x=\"244\" y=\"-31.3\">(None, 250, 60)</text>\n",
       "<polyline fill=\"none\" points=\"192,-23.5 296,-23.5 \" stroke=\"#000000\"/>\n",
       "<text fill=\"#000000\" font-family=\"Times,serif\" font-size=\"14.00\" text-anchor=\"middle\" x=\"244\" y=\"-8.3\">(None, 250, 12)</text>\n",
       "</g>\n",
       "<!-- 139802386517352&#45;&gt;139801191635656 -->\n",
       "<g class=\"edge\" id=\"edge6\">\n",
       "<title>139802386517352-&gt;139801191635656</title>\n",
       "<path d=\"M165.5,-83.3799C165.5,-75.1745 165.5,-65.7679 165.5,-56.8786\" fill=\"none\" stroke=\"#000000\"/>\n",
       "<polygon fill=\"#000000\" points=\"169.0001,-56.784 165.5,-46.784 162.0001,-56.784 169.0001,-56.784\" stroke=\"#000000\"/>\n",
       "</g>\n",
       "</g>\n",
       "</svg>"
      ],
      "text/plain": [
       "<IPython.core.display.SVG object>"
      ]
     },
     "execution_count": 33,
     "metadata": {},
     "output_type": "execute_result"
    }
   ],
   "source": [
    "SVG(model_to_dot(model, show_shapes=True).create(prog='dot', format='svg'))"
   ]
  },
  {
   "cell_type": "code",
   "execution_count": 34,
   "metadata": {},
   "outputs": [
    {
     "name": "stdout",
     "output_type": "stream",
     "text": [
      "Epoch 1/4\n",
      "3623/3623 [==============================] - 3s 847us/step - loss: 1.3667 - acc: 0.8887\n",
      "Epoch 2/4\n",
      "3623/3623 [==============================] - 3s 769us/step - loss: 0.1835 - acc: 0.9415\n",
      "Epoch 3/4\n",
      "3623/3623 [==============================] - 3s 779us/step - loss: 0.1276 - acc: 0.9598\n",
      "Epoch 4/4\n",
      "3623/3623 [==============================] - 3s 774us/step - loss: 0.0948 - acc: 0.9685\n"
     ]
    }
   ],
   "source": [
    "history = model.fit(x_train, y_train_cat, epochs=EPOCHS, batch_size=BATCH_SIZE)"
   ]
  },
  {
   "cell_type": "code",
   "execution_count": 35,
   "metadata": {},
   "outputs": [],
   "source": [
    "y_pred = model.predict_classes(x_test)"
   ]
  },
  {
   "cell_type": "markdown",
   "metadata": {},
   "source": [
    "Convert label ids to labels and use them for sklearn's reports"
   ]
  },
  {
   "cell_type": "code",
   "execution_count": 36,
   "metadata": {},
   "outputs": [],
   "source": [
    "def y2label(gold, pred, pad=0):\n",
    "    out_true = []\n",
    "    out_pred = []\n",
    "    for a, b in zip(gold, pred):\n",
    "        if a != pad: # Exclude -PAD- term\n",
    "            out_true.append(int2tag[a])\n",
    "            out_pred.append(int2tag[b])\n",
    "    return out_true, out_pred"
   ]
  },
  {
   "cell_type": "code",
   "execution_count": 37,
   "metadata": {},
   "outputs": [],
   "source": [
    "yl_true, yl_pred = y2label(y_test.flat, y_pred.flat)"
   ]
  },
  {
   "cell_type": "markdown",
   "metadata": {},
   "source": [
    "# Classification report"
   ]
  },
  {
   "cell_type": "code",
   "execution_count": 38,
   "metadata": {},
   "outputs": [],
   "source": [
    "from sklearn.metrics import classification_report"
   ]
  },
  {
   "cell_type": "code",
   "execution_count": 39,
   "metadata": {},
   "outputs": [
    {
     "name": "stdout",
     "output_type": "stream",
     "text": [
      "              precision    recall  f1-score   support\n",
      "\n",
      "           .     0.9969    0.9907    0.9938      2898\n",
      "         ADJ     0.0000    0.0000    0.0000      1818\n",
      "         ADP     0.5110    0.9751    0.6705      2895\n",
      "         ADV     0.0000    0.0000    0.0000       999\n",
      "        CONJ     0.0000    0.0000    0.0000         0\n",
      "         DET     0.6208    0.1515    0.2436      2712\n",
      "        NOUN     0.6713    0.9821    0.7975      5984\n",
      "         NUM     0.0000    0.0000    0.0000       472\n",
      "        PRON     0.0000    0.0000    0.0000       607\n",
      "         PRT     0.0000    0.0000    0.0000       599\n",
      "        VERB     0.7714    0.8611    0.8138      3304\n",
      "           X     0.0000    0.0000    0.0000        41\n",
      "\n",
      "   micro avg     0.6640    0.6640    0.6640     22329\n",
      "   macro avg     0.2976    0.3300    0.2933     22329\n",
      "weighted avg     0.5651    0.6640    0.5796     22329\n",
      "\n"
     ]
    },
    {
     "name": "stderr",
     "output_type": "stream",
     "text": [
      "/usr/local/lib/python3.6/dist-packages/sklearn/metrics/classification.py:1143: UndefinedMetricWarning: Precision and F-score are ill-defined and being set to 0.0 in labels with no predicted samples.\n",
      "  'precision', 'predicted', average, warn_for)\n",
      "/usr/local/lib/python3.6/dist-packages/sklearn/metrics/classification.py:1145: UndefinedMetricWarning: Recall and F-score are ill-defined and being set to 0.0 in labels with no true samples.\n",
      "  'recall', 'true', average, warn_for)\n"
     ]
    }
   ],
   "source": [
    "print(classification_report(yl_true, yl_pred, digits=4))"
   ]
  },
  {
   "cell_type": "markdown",
   "metadata": {},
   "source": [
    "# POS Tagger based on Maximum Entropy Memory Model "
   ]
  },
  {
   "cell_type": "code",
   "execution_count": 16,
   "metadata": {},
   "outputs": [],
   "source": [
    "import numpy as np\n",
    "import re\n",
    "from nltk.classify.maxent import MaxentClassifier"
   ]
  },
  {
   "cell_type": "markdown",
   "metadata": {},
   "source": [
    "### The feature extractor\n",
    "The MaxEnt classifiers relies on hand crafted feature representations for the input words.\n",
    "\n",
    "The features we use:\n",
    "<ul>\n",
    "    <li>morphological aspects of English words, e.g. words ending in 'ed', 'ing', or 'ly'</li>\n",
    "    <li>capitalization, not at the beginning of a sentence</li>\n",
    "    <li>presence of the word in a list of closed POS categories, e.g. 'CONJ', 'DET', 'PRON', 'PRT</li>\n",
    "    <li>aspects of the previos word: e.g capitalization, particle</li>\n",
    "</ul>\n",
    "You can think of many such features.\n",
    "\n",
    "Until a few years ago, the SoTA POS taggers were using a rich feature set. See for example:\n",
    "\n",
    "Giménez, J., and Márquez, L. 2004. [SVMTool: A general POS tagger generator based on Support Vector Machines](https://www.cs.upc.edu/~nlp/SVMTool/lrec2004-gm.pdf]). Proceedings of LREC'04. Lisbon, Portugal."
   ]
  },
  {
   "cell_type": "markdown",
   "metadata": {},
   "source": [
    "Compute the most common suffixes:"
   ]
  },
  {
   "cell_type": "code",
   "execution_count": 17,
   "metadata": {},
   "outputs": [],
   "source": [
    "suffix_fdist = nltk.FreqDist()\n",
    "for word in brown.words():\n",
    "     word = word.lower()\n",
    "     suffix_fdist[word[-2:]] += 1\n",
    "     suffix_fdist[word[-3:]] += 1\n",
    "\n",
    "common_suffixes = [suffix for (suffix, count) in suffix_fdist.most_common(20)]"
   ]
  },
  {
   "cell_type": "markdown",
   "metadata": {},
   "source": [
    "Collects the feature of a word at position n in a sentence"
   ]
  },
  {
   "cell_type": "code",
   "execution_count": 147,
   "metadata": {},
   "outputs": [],
   "source": [
    "def features_dict(word, prev_word, prev_tag, n, lexicon):\n",
    "    \"\"\"\n",
    "    :param word: the current word\n",
    "    :param prev_word: the preceding word, or None if it soes not exist\n",
    "    :param prev_tag: the tag of the previous word\n",
    "    :param n: the position of the wird in the sentence\n",
    "    :param lexicon: a lexicon of POS for each word\n",
    "    :return: a dictionary of features {feature: value}\n",
    "    \"\"\"\n",
    "    word = word.lower()\n",
    "    prev_word = prev_word.lower() if prev_word else ''\n",
    "    DET = lexicon['DET']\n",
    "    CONJ = lexicon['CONJ']\n",
    "    PRON = lexicon['PRON']\n",
    "    PRT = lexicon['PRT']\n",
    "\n",
    "    features = {\n",
    "        'wi': word,\n",
    "        'wi-1': prev_word,\n",
    "        'CurCap': is_cap(word),\n",
    "        'FirstWord': n == 0,\n",
    "        'HasNumb': has_number(word),\n",
    "        'Article': word in DET,\n",
    "        'PrevArticle': prev_word in DET,\n",
    "        'Conj': word in CONJ,\n",
    "        'Pron': word in PRON,\n",
    "        'Prt': word in PRT,\n",
    "        'PrevConj': prev_word in CONJ,\n",
    "        'PrevPrt': prev_word in PRT,\n",
    "        'PrevTag': prev_tag   # required to compute transition probabilities\n",
    "    }\n",
    "    for suffix in common_suffixes:\n",
    "        if word.endswith(suffix):\n",
    "            features['endswith({})'.format(suffix)] = 1\n",
    "    # presence in given POS list\n",
    "    for tag, words in lexicon.items():\n",
    "        if word in words:\n",
    "            features[tag] = 1\n",
    "    return features"
   ]
  },
  {
   "cell_type": "markdown",
   "metadata": {},
   "source": [
    "Features"
   ]
  },
  {
   "cell_type": "code",
   "execution_count": 148,
   "metadata": {},
   "outputs": [],
   "source": [
    "def is_cap(word):\n",
    "    return word[0].isupper()\n",
    "\n",
    "def has_number(word):\n",
    "    return re.search(r'\\d+', word) is not None"
   ]
  },
  {
   "cell_type": "code",
   "execution_count": 149,
   "metadata": {},
   "outputs": [],
   "source": [
    "def create_featuresets(sentence, lexicon):\n",
    "    \"\"\"\n",
    "    Build a featureset for each token in a sentence, for use in training a MaxentClassifier.\n",
    "    :param sentence: a list of pairs (word, tag).\n",
    "    :return: a list of pairs (featurset, tag)\n",
    "    \"\"\"\n",
    "    for n, (word, tag) in enumerate(sentence):\n",
    "        prev_word = sentence[n-1][0] if n > 0 else None\n",
    "        prev_tag = sentence[n-1][1] if n > 0 else None\n",
    "        yield (features_dict(word, prev_word, prev_tag, n, lexicon), tag)\n"
   ]
  },
  {
   "cell_type": "code",
   "execution_count": 150,
   "metadata": {},
   "outputs": [],
   "source": [
    "from collections import defaultdict\n",
    "\n",
    "def create_lexicon(trainset, tags=('ADV', 'DET', 'PRON', 'PRT')):\n",
    "    \"\"\"\n",
    "    Build lexicon of words belonging to specific closed categories.\n",
    "    \"\"\"\n",
    "    lexicon = defaultdict(set)\n",
    "    for sent in trainset:\n",
    "        for w,t in sent:\n",
    "            if t in tags:\n",
    "                lexicon[t].add(w)\n",
    "    return lexicon"
   ]
  },
  {
   "cell_type": "markdown",
   "metadata": {},
   "source": [
    "## MaxEntropy Memory Model Tagger"
   ]
  },
  {
   "cell_type": "code",
   "execution_count": 151,
   "metadata": {},
   "outputs": [],
   "source": [
    "from nltk.classify.maxent import MaxentClassifier\n",
    "\n",
    "class MemmTagger():\n",
    "    \n",
    "    def __init__(self, trainset, max_iter=25):\n",
    "        \"\"\"\n",
    "        :param trainset: list of sentences, each a list of pairs (word, tag)\n",
    "        \"\"\"\n",
    "        self.tags = list(set((tag for sent in trainset for word,tag in sent )))\n",
    "        self.lexicon = create_lexicon(trainset)\n",
    "        train_examples = [pair for sentence in trainset for pair in create_featuresets(sentence, self.lexicon)]\n",
    "        self.classifier = MaxentClassifier.train(train_examples, max_iter=max_iter)\n",
    "        self.train_examples = train_examples # DEBUG\n",
    "    \n",
    "    def tag(self, sentence):\n",
    "        tags = self.viterbi(sentence)\n",
    "        return list(zip(sentence, tags))\n",
    "    \n",
    "    def viterbi(self, words):\n",
    "        \"\"\"\n",
    "        Returns the tag sequence of the optimal (most probable) path through\n",
    "        the MEMM. Uses the Viterbi algorithm to calculate this path by dynamic\n",
    "        programming.\n",
    "\n",
    "        :return: the tag sequence\n",
    "        :rtype: sequence of any\n",
    "        :param words: the sequence of word indices\n",
    "        :type words: list of str\n",
    "        \"\"\"\n",
    "        T = len(words)\n",
    "        N = len(self.tags)\n",
    "\n",
    "        V = np.zeros((T, N), np.float32)\n",
    "        B = -np.ones((T, N), np.int)\n",
    "\n",
    "        featuresets = create_featuresets(words, self.lexicon)\n",
    "        P = [ self.classifier.prob_classify(featureset) for (featureset, label) in featuresets ]\n",
    "        \n",
    "        # the forward probability: s1 = previous label, s2 = next label\n",
    "        # A[t, s2] = Sum{s1} A[t-1, s1] * p(s2| s1,o_t)\n",
    "        # P[t/s1].prob(s2) = p(s2| s1,o_t)\n",
    "        # where P[t/s1] is the dist prob at t if previous tag was s1\n",
    "        # A[t, s2] = sum(A[t-1, s1] * P[t/s1].prob(s2) forall s1)\n",
    "        A = np.zeros(N)\n",
    "        for s in range(N):\n",
    "            A[s] = P[0].logprob(s)\n",
    "                \n",
    "        V[0] = A\n",
    "        for t in range(1, T):\n",
    "            # build transition probabilities\n",
    "            A1 = np.zeros(N)\n",
    "            for s in range(N):\n",
    "                A1[s] = sum([A[s1] + self.prob_from_tag(featureset[t], s1).logprob[s] for s1 in range(N)])\n",
    "            A = A1\n",
    "            for s in range(N):\n",
    "                vs = V[t - 1, :] + A\n",
    "                best = np.argmax(vs)\n",
    "                V[t, s] = vs[best] + P[t].logprob(s)\n",
    "                B[t, s] = best\n",
    "\n",
    "        current = np.argmax(V[T - 1, :])\n",
    "        tags = [current]\n",
    "        for t in range(T - 1, 0, -1):\n",
    "            last = B[t, current]\n",
    "            tags.insert(0, last)\n",
    "            current = last\n",
    "\n",
    "        return list(map(self.tags.__getitem__, tags))\n",
    "\n",
    "                            \n",
    "    def prob_from_tag(self, featureset, prev_tag):\n",
    "        \"\"\"\n",
    "        Calculate the probability distribution of featureset when the previous tag is :param prev_tag:\n",
    "        \"\"\"\n",
    "        cur_tag = featureset['PrevTag'] # save\n",
    "        featureset['PrevTag'] = self.tags[prev_tag]\n",
    "        prob_dist = self.classifier(featurset)\n",
    "        featureset['PrevTag'] = cur_tag # restore\n",
    "        return prob_dist"
   ]
  },
  {
   "cell_type": "markdown",
   "metadata": {},
   "source": [
    "## Train the Maximum Entropy Memory Model\n",
    "\n",
    "<b>Warning</b>: training is quite slow."
   ]
  },
  {
   "cell_type": "code",
   "execution_count": 152,
   "metadata": {},
   "outputs": [
    {
     "name": "stdout",
     "output_type": "stream",
     "text": [
      "  ==> Training (20 iterations)\n",
      "\n",
      "      Iteration    Log Likelihood    Accuracy\n",
      "      ---------------------------------------\n",
      "             1          -2.48491        0.001\n",
      "             2          -1.35686        0.531\n",
      "             3          -1.09917        0.637\n",
      "             4          -0.93441        0.731\n",
      "             5          -0.81685        0.804\n",
      "             6          -0.72837        0.840\n",
      "             7          -0.65944        0.857\n",
      "             8          -0.60426        0.870\n",
      "             9          -0.55907        0.884\n",
      "            10          -0.52133        0.894\n",
      "            11          -0.48927        0.903\n",
      "            12          -0.46165        0.913\n",
      "            13          -0.43755        0.919\n",
      "            14          -0.41630        0.924\n",
      "            15          -0.39739        0.929\n",
      "            16          -0.38043        0.936\n",
      "            17          -0.36510        0.940\n",
      "            18          -0.35117        0.943\n",
      "            19          -0.33843        0.946\n",
      "         Final          -0.32674        0.949\n"
     ]
    }
   ],
   "source": [
    "tagger = MemmTagger(brown_train, max_iter=20)"
   ]
  },
  {
   "cell_type": "code",
   "execution_count": null,
   "metadata": {},
   "outputs": [],
   "source": [
    "tag_pred = [tagger.tag(sent) for sent in brown_test]"
   ]
  },
  {
   "cell_type": "markdown",
   "metadata": {},
   "source": [
    "# Conclusions"
   ]
  },
  {
   "cell_type": "markdown",
   "metadata": {},
   "source": [
    "Draw your conclusions about sequence tagging using either plain NN, NN with embrddings, CNN or Maximum Entropy using hand crafted features."
   ]
  },
  {
   "cell_type": "code",
   "execution_count": 153,
   "metadata": {},
   "outputs": [
    {
     "data": {
      "text/plain": [
       "[0, 0, 0, 0, 0, 0, 0, 0, 0, 0, 0, 0]"
      ]
     },
     "execution_count": 153,
     "metadata": {},
     "output_type": "execute_result"
    }
   ],
   "source": [
    "# Why the classifer returns always 0?\n",
    "sent = brown_train[0]\n",
    "featuresets = create_featuresets(sent, tagger.lexicon)\n",
    "P = [ tagger.classifier.prob_classify(featureset) for (featureset, label) in featuresets ]\n",
    "[P[1].prob(i) for i in range(len(tagger.tags))]"
   ]
  }
 ],
 "metadata": {
  "kernelspec": {
   "display_name": "Python 3",
   "language": "python",
   "name": "python3"
  },
  "language_info": {
   "codemirror_mode": {
    "name": "ipython",
    "version": 3
   },
   "file_extension": ".py",
   "mimetype": "text/x-python",
   "name": "python",
   "nbconvert_exporter": "python",
   "pygments_lexer": "ipython3",
   "version": "3.6.9"
  }
 },
 "nbformat": 4,
 "nbformat_minor": 4
}
