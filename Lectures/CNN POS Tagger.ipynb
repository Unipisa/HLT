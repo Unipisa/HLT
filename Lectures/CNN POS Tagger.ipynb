{
 "cells": [
  {
   "cell_type": "markdown",
   "id": "e64f156a-6f78-4ccc-a772-c0e9cd7a7d2d",
   "metadata": {},
   "source": [
    "# POS tagger with CNN"
   ]
  },
  {
   "cell_type": "code",
   "execution_count": 22,
   "id": "8a3bd81c-4ba5-4e0d-940d-766934505225",
   "metadata": {
    "tags": []
   },
   "outputs": [],
   "source": [
    "import nltk"
   ]
  },
  {
   "cell_type": "markdown",
   "id": "a93b48f6-00d4-45f2-a421-a0611a027acd",
   "metadata": {},
   "source": [
    "Get the tokenized and tagged with Universal POS sentences from the \"news\" category from the Brown corpus:"
   ]
  },
  {
   "cell_type": "code",
   "execution_count": 23,
   "id": "631d7323-0c57-41f7-8ba8-78410b785d42",
   "metadata": {},
   "outputs": [
    {
     "name": "stderr",
     "output_type": "stream",
     "text": [
      "[nltk_data] Downloading package universal_tagset to\n",
      "[nltk_data]     /home/medialab/attardi/nltk_data...\n",
      "[nltk_data]   Package universal_tagset is already up-to-date!\n"
     ]
    }
   ],
   "source": [
    "from nltk.corpus import brown\n",
    "nltk.download('universal_tagset')\n",
    "brown_sents = brown.tagged_sents(categories='news', tagset='universal')"
   ]
  },
  {
   "cell_type": "markdown",
   "id": "d3fcc145-eaf8-492f-8c93-ced8471a42c9",
   "metadata": {},
   "source": [
    "## Split into train and test\n",
    "Use all but the last 1000 sentences to train the classifier. (It should be better to choose them randomly)."
   ]
  },
  {
   "cell_type": "code",
   "execution_count": 24,
   "id": "dd49d034-0a02-4bb4-b231-d60fb2b62c29",
   "metadata": {},
   "outputs": [],
   "source": [
    "brown_train = brown_sents[:-1000]\n",
    "brown_test = brown_sents[-1000:]"
   ]
  },
  {
   "cell_type": "markdown",
   "id": "19e68275-5f06-4b6e-8578-469c92093f24",
   "metadata": {},
   "source": [
    "## Build dictionary of words and tags\n",
    "\n",
    "Vocabularies of words and tags:"
   ]
  },
  {
   "cell_type": "code",
   "execution_count": 25,
   "id": "57c29ad0-48f4-420a-a6bf-c179b07dc6a8",
   "metadata": {},
   "outputs": [],
   "source": [
    "word_set = set()\n",
    "tag_set = set()\n",
    "for sentence in brown_sents:\n",
    "    for word, tag in sentence:\n",
    "        word_set.add(word)\n",
    "        tag_set.add(tag)"
   ]
  },
  {
   "cell_type": "markdown",
   "id": "1c15ffd4-721a-4347-8d85-8adc10d4eb81",
   "metadata": {},
   "source": [
    "Dictionaries of words and tags:"
   ]
  },
  {
   "cell_type": "code",
   "execution_count": 26,
   "id": "fb3520cf-cc76-4d65-aaa7-e3cf1c85b708",
   "metadata": {},
   "outputs": [],
   "source": [
    "word_index = {word: idx + 2 for idx, word in enumerate(word_set)} # + 2 leave 0 and 1 for padding and unknown\n",
    "    \n",
    "tag_index = {tag: idx for idx,tag in enumerate(tag_set)}\n",
    "idx2tag = list(tag_set)\n",
    "\n",
    "n_words = len(word_index) + 2 # for padding and OOV\n",
    "n_tags = len(tag_set)"
   ]
  },
  {
   "cell_type": "code",
   "execution_count": 27,
   "id": "fdcea2c7-3108-48bb-8bed-bd5e7baa78ec",
   "metadata": {},
   "outputs": [],
   "source": [
    "unknown_idx = 1\n",
    "x_train_cnn = [[word_index.get(word, word_index.get(word.lower(), unknown_idx))\n",
    "            for word,tag in sentence] for sentence in brown_train]\n",
    "y_train_cnn = [[tag_index[tag] for word,tag in sentence]\n",
    "                                       for sentence in brown_train]\n",
    "x_test_cnn = [[word_index.get(word, word_index.get(word.lower(), unknown_idx))\n",
    "                    for word,tag in sentence] for sentence in brown_test]\n",
    "y_test_cnn = [[tag_index[tag] for word,tag in sentence]\n",
    "                                       for sentence in brown_test]\n",
    "\n",
    "y_test = [tag_index[t] for sent in brown_test for w,t in sent]"
   ]
  },
  {
   "cell_type": "code",
   "execution_count": 28,
   "id": "30713056-6163-464d-9eb4-fe17337bbb88",
   "metadata": {
    "tags": []
   },
   "outputs": [],
   "source": [
    "MAX_SEQUENCE_LENGTH = 250\n",
    "HIDDEN_SIZE = 128\n",
    "EMBEDDING_DIM = 50\n",
    "EPOCHS = 4\n",
    "BATCH_SIZE = 64"
   ]
  },
  {
   "cell_type": "code",
   "execution_count": 29,
   "id": "25862d59-074a-4e00-859c-d38b9d1b5fde",
   "metadata": {},
   "outputs": [],
   "source": [
    "from tensorflow.keras.preprocessing.sequence import pad_sequences\n",
    "\n",
    "tag_pad = n_tags # use this value to distinguish pad in tags\n",
    "\n",
    "x_train_cnn = pad_sequences(x_train_cnn, maxlen=MAX_SEQUENCE_LENGTH, padding='post', truncating='post')\n",
    "x_test_cnn = pad_sequences(x_test_cnn, maxlen=MAX_SEQUENCE_LENGTH, padding='post', truncating='post')\n",
    "y_train_cnn = pad_sequences(y_train_cnn, maxlen=MAX_SEQUENCE_LENGTH, padding='post', truncating='post',\n",
    "                          value=tag_pad)\n",
    "y_test_cnn = pad_sequences(y_test_cnn, maxlen=MAX_SEQUENCE_LENGTH, padding='post', truncating='post',\n",
    "                          value=tag_pad)"
   ]
  },
  {
   "cell_type": "code",
   "execution_count": 30,
   "id": "5dfbd8cb-fea9-4fe2-b87f-ffa3711c5a1c",
   "metadata": {},
   "outputs": [],
   "source": [
    "from tensorflow.keras.utils import to_categorical\n",
    "y_train_cnn_cat = to_categorical(y_train_cnn, num_classes=n_tags+1)"
   ]
  },
  {
   "cell_type": "markdown",
   "id": "77739199-a2b6-4a4e-b8cc-61db7fe2eb65",
   "metadata": {},
   "source": [
    "### Build the model"
   ]
  },
  {
   "cell_type": "code",
   "execution_count": 31,
   "id": "39f1b315-65b0-4dfe-aae2-2271584d0839",
   "metadata": {
    "tags": []
   },
   "outputs": [],
   "source": [
    "from tensorflow.keras.models import Sequential\n",
    "from tensorflow.keras.layers import Embedding, Flatten, Conv1D\n",
    "from tensorflow.keras.layers import Dropout, Dense\n",
    "from tensorflow.keras.losses import categorical_crossentropy"
   ]
  },
  {
   "cell_type": "code",
   "execution_count": 32,
   "id": "59252ada-4140-4e09-b9b1-2835091bc9f5",
   "metadata": {},
   "outputs": [],
   "source": [
    "window_size = 5\n",
    "filters = 250\n",
    "\n",
    "model_cnn = Sequential()\n",
    "model_cnn.add(Embedding(n_words, EMBEDDING_DIM, input_length=MAX_SEQUENCE_LENGTH))\n",
    "model_cnn.add(Conv1D(filters, window_size, padding='same', activation='relu'))\n",
    "model_cnn.add(Dense(HIDDEN_SIZE, activation='relu'))\n",
    "model_cnn.add(Dropout(0.2)) # optional\n",
    "model_cnn.add(Dense(n_tags+1, activation='softmax'))\n",
    "model_cnn.compile(loss='categorical_crossentropy',\n",
    "              optimizer='adam',\n",
    "              metrics=['accuracy'])"
   ]
  },
  {
   "cell_type": "code",
   "execution_count": 33,
   "id": "370f864e-5136-4d52-88ed-4a3ff33c90f0",
   "metadata": {},
   "outputs": [
    {
     "data": {
      "image/png": "[encoded data removed]",
      "text/plain": [
       "<IPython.core.display.Image object>"
      ]
     },
     "execution_count": 33,
     "metadata": {},
     "output_type": "execute_result"
    }
   ],
   "source": [
    "from tensorflow.keras.utils import plot_model\n",
    "plot_model(model_cnn, show_shapes=True)"
   ]
  },
  {
   "cell_type": "code",
   "execution_count": 34,
   "id": "6eaba39e-ab0d-4e50-b671-a2670da35a5c",
   "metadata": {},
   "outputs": [
    {
     "name": "stdout",
     "output_type": "stream",
     "text": [
      "Epoch 1/4\n",
      "57/57 [==============================] - 5s 82ms/step - loss: 0.6750 - accuracy: 0.9246\n",
      "Epoch 2/4\n",
      "57/57 [==============================] - 5s 83ms/step - loss: 0.0832 - accuracy: 0.9773\n",
      "Epoch 3/4\n",
      "57/57 [==============================] - 5s 83ms/step - loss: 0.0327 - accuracy: 0.9908\n",
      "Epoch 4/4\n",
      "57/57 [==============================] - 5s 83ms/step - loss: 0.0125 - accuracy: 0.9969\n"
     ]
    }
   ],
   "source": [
    "history = model_cnn.fit(x_train_cnn, y_train_cnn_cat, epochs=EPOCHS, batch_size=BATCH_SIZE)"
   ]
  },
  {
   "cell_type": "code",
   "execution_count": 35,
   "id": "285efe2b-02f7-4764-bac7-5d524faa2345",
   "metadata": {},
   "outputs": [],
   "source": [
    "tag_pred_cnn = model_cnn.predict(x_test_cnn)\n",
    "y_pred_cnn = tag_pred_cnn.argmax(2)"
   ]
  },
  {
   "cell_type": "markdown",
   "id": "75c25ec8-70ab-4d5f-b8da-1e44ea8147c7",
   "metadata": {},
   "source": [
    "Remove pads:"
   ]
  },
  {
   "cell_type": "code",
   "execution_count": 36,
   "id": "809658aa-be10-4131-afcd-499962c74e3e",
   "metadata": {},
   "outputs": [],
   "source": [
    "y_pred_cnn = [[pred[i] for i,t in enumerate(gold) if t != tag_pad] for gold,pred in zip(y_test_cnn,y_pred_cnn)]\n",
    "y_pred_cnn_flat = [item for sublist in y_pred_cnn for item in sublist]"
   ]
  },
  {
   "cell_type": "code",
   "execution_count": 37,
   "id": "7644894f-e053-4ed4-89d9-4e4921f564c6",
   "metadata": {},
   "outputs": [],
   "source": [
    "from sklearn.metrics import accuracy_score, precision_score, recall_score, f1_score\n",
    "\n",
    "def show_accuracy(y_test, y_pred):\n",
    "    acc = accuracy_score(y_test, y_pred) * 100\n",
    "    pr = precision_score(y_test, y_pred, average='macro', zero_division=0) * 100\n",
    "    rc = recall_score(y_test, y_pred, average='macro', zero_division=0) * 100\n",
    "    f1 = f1_score(y_test, y_pred, average='macro', zero_division=0) * 100\n",
    "    print(\"Accuracy: %.2f, Precision: %.2f, Recall: %.2f, F1: %.2f\" %\n",
    "          (acc, pr, rc, f1))"
   ]
  },
  {
   "cell_type": "code",
   "execution_count": 38,
   "id": "c654645b-a4b6-4120-a02e-99d29ea68a94",
   "metadata": {
    "tags": []
   },
   "outputs": [
    {
     "name": "stdout",
     "output_type": "stream",
     "text": [
      "Accuracy: 92.41, Precision: 78.94, Recall: 75.85, F1: 77.22\n"
     ]
    }
   ],
   "source": [
    "show_accuracy(y_test, y_pred_cnn_flat)"
   ]
  },
  {
   "cell_type": "markdown",
   "id": "f3856292-3a90-4e45-94a2-2468767aac88",
   "metadata": {},
   "source": [
    "# BiLSTM"
   ]
  },
  {
   "cell_type": "code",
   "execution_count": 39,
   "id": "65e5523d-d28f-42b3-852f-87bf40cb7c6d",
   "metadata": {},
   "outputs": [],
   "source": [
    "from tensorflow.keras.models import Model\n",
    "from tensorflow.keras.layers import Input\n",
    "from tensorflow.keras.layers import add\n",
    "from tensorflow.keras.layers import LSTM, Embedding, Dense, TimeDistributed, Dropout, Bidirectional, Lambda"
   ]
  },
  {
   "cell_type": "markdown",
   "id": "3bf7fc81-37ec-4301-9f87-918623788efc",
   "metadata": {},
   "source": [
    "- Embedding layer : We will specify the maximum length (50) of the padded sequences. After the network is trained, the embedding layer will transform each token into a vector of n dimensions.\n",
    "- Bidirectional LSTM: Bidirectional lstm takes a recurrent layer (e.g. the first LSTM layer) as an argument. This layer takes the output from the previous embedding layer . We will use 2 Bi LSTM layers and residual connection to the first biLSTM\n",
    "- TimeDistributed Layer: We are dealing with Many to Many RNN Architecture, where we expect output from every input sequence. Here is an example, in the sequence (a1 →b1, a2 →b2…an →bn), a, and b are inputs and outputs of every sequence. The TimeDistributeDense layers allow Dense(fully-connected) operation across every output over every time-step. Not using this layer will result in a single final output."
   ]
  },
  {
   "cell_type": "code",
   "execution_count": null,
   "id": "2ef9fa46-bd20-4a12-9529-9344805b4bae",
   "metadata": {},
   "outputs": [],
   "source": [
    "input_text = Input(shape=(max_len,), dtype=tf.string)\n",
    "embedding = Lambda(ElmoEmbedding, output_shape=(max_len, 1024))(input_text)\n",
    "x = Bidirectional(LSTM(units=512, return_sequences=True,\n",
    "                       recurrent_dropout=0.2, dropout=0.2))(embedding)\n",
    "x_rnn = Bidirectional(LSTM(units=512, return_sequences=True,\n",
    "                           recurrent_dropout=0.2, dropout=0.2))(x)\n",
    "x = add([x, x_rnn])  # residual connection to the first biLSTM\n",
    "out = TimeDistributed(Dense(n_tags, activation=\"softmax\"))(x)"
   ]
  },
  {
   "cell_type": "code",
   "execution_count": null,
   "id": "1274cdc3-7531-402e-a41a-3f392ac3361b",
   "metadata": {},
   "outputs": [],
   "source": [
    "tag_model = Model(input_text, out)\n",
    "tag_model.compile(optimizer=\"adam\", loss=\"sparse_categorical_crossentropy\", metrics=[\"accuracy\"])"
   ]
  },
  {
   "cell_type": "code",
   "execution_count": null,
   "id": "6ccce0af-1939-4962-938f-4c3803fbf955",
   "metadata": {},
   "outputs": [],
   "source": [
    "from tensorflow.keras.utils import plot_model\n",
    "plot_model(tag_model,'Elmo_tag.png',show_shapes= True)"
   ]
  },
  {
   "cell_type": "code",
   "execution_count": null,
   "id": "9dccaba0-007e-47af-a01b-6fb6ac8103ae",
   "metadata": {},
   "outputs": [],
   "source": [
    "history = tag_model.fit(np.array(X_tr), y_tr, validation_data=(np.array(X_val), y_val),\n",
    "                    batch_size=batch_size, epochs=1, verbose=1)"
   ]
  },
  {
   "cell_type": "code",
   "execution_count": null,
   "id": "c78c1112-1bb0-43e1-84a3-bde967798954",
   "metadata": {},
   "outputs": [],
   "source": [
    "test_pred = tag_model.predict(np.array(X_te), verbose=1)"
   ]
  },
  {
   "cell_type": "code",
   "execution_count": null,
   "id": "df773f9e-eae9-491b-ac28-2d11d88ac671",
   "metadata": {},
   "outputs": [],
   "source": [
    "def pred2label(pred):\n",
    "    out = []\n",
    "    for pred_i in pred:\n",
    "        out_i = []\n",
    "        for p in pred_i:\n",
    "            p_i = np.argmax(p)\n",
    "            out_i.append(idx2tag[p_i].replace(\"PADword\", \"O\"))\n",
    "        out.append(out_i)\n",
    "    return out\n",
    "\n",
    "def test2label(pred):\n",
    "    out = []\n",
    "    for pred_i in pred:\n",
    "        out_i = []\n",
    "        for p in pred_i:\n",
    "            out_i.append(idx2tag[p].replace(\"PADword\", \"O\"))\n",
    "        out.append(out_i)\n",
    "    return out\n",
    "    \n",
    "pred_labels = pred2label(test_pred)\n",
    "test_labels = test2label(y_te[:149*32])"
   ]
  }
 ],
 "metadata": {
  "kernelspec": {
   "display_name": "Python 3 (ipykernel)",
   "language": "python",
   "name": "python3"
  },
  "language_info": {
   "codemirror_mode": {
    "name": "ipython",
    "version": 3
   },
   "file_extension": ".py",
   "mimetype": "text/x-python",
   "name": "python",
   "nbconvert_exporter": "python",
   "pygments_lexer": "ipython3",
   "version": "3.10.6"
  }
 },
 "nbformat": 4,
 "nbformat_minor": 5
}
