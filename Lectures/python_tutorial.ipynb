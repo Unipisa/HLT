{
 "cells": [
  {
   "cell_type": "markdown",
   "id": "733f8cec",
   "metadata": {},
   "source": [
    "# Python Tutorial"
   ]
  },
  {
   "cell_type": "markdown",
   "id": "347cd487",
   "metadata": {},
   "source": [
    "## Collections"
   ]
  },
  {
   "cell_type": "markdown",
   "id": "e691f94d",
   "metadata": {},
   "source": [
    "Python has several built-in types that are useful for storing and manipulating data: list, tuple, dict. Here is the official Python documentation on these types (and many others): https://docs.python.org/3/library/stdtypes.html."
   ]
  },
  {
   "cell_type": "markdown",
   "id": "635401d7",
   "metadata": {},
   "source": [
    "### Lists"
   ]
  },
  {
   "cell_type": "markdown",
   "id": "ce42dfd9",
   "metadata": {},
   "source": [
    "Lists are mutable arrays. Let's see how they work."
   ]
  },
  {
   "cell_type": "code",
   "execution_count": 1,
   "id": "3f24605e",
   "metadata": {},
   "outputs": [],
   "source": [
    "names = [\"Zach\", \"Jay\"]"
   ]
  },
  {
   "cell_type": "code",
   "execution_count": 2,
   "id": "ae2fb323",
   "metadata": {},
   "outputs": [
    {
     "name": "stdout",
     "output_type": "stream",
     "text": [
      "Zach\n"
     ]
    }
   ],
   "source": [
    "# Index into list by index\n",
    "print(names[0])"
   ]
  },
  {
   "cell_type": "code",
   "execution_count": 3,
   "id": "64066853",
   "metadata": {},
   "outputs": [
    {
     "name": "stdout",
     "output_type": "stream",
     "text": [
      "['Zach', 'Jay', 'Richard']\n"
     ]
    }
   ],
   "source": [
    "# Append to list (appends to end of list)\n",
    "names.append(\"Richard\")\n",
    "print(names)"
   ]
  },
  {
   "cell_type": "code",
   "execution_count": 4,
   "id": "357799cc",
   "metadata": {},
   "outputs": [
    {
     "name": "stdout",
     "output_type": "stream",
     "text": [
      "3\n"
     ]
    }
   ],
   "source": [
    "# Get length of list\n",
    "print(len(names))"
   ]
  },
  {
   "cell_type": "code",
   "execution_count": 5,
   "id": "8977adcf",
   "metadata": {},
   "outputs": [
    {
     "name": "stdout",
     "output_type": "stream",
     "text": [
      "['Zach', 'Jay', 'Richard', 'Abi', 'Kevin']\n"
     ]
    }
   ],
   "source": [
    "# Concatenate two lists\n",
    "# += operator is a short hand for list1 = list1 + list2 (can also be used for -, *, / and on other types of variables)\n",
    "names += [\"Abi\", \"Kevin\"]\n",
    "print(names)"
   ]
  },
  {
   "cell_type": "code",
   "execution_count": 6,
   "id": "57c178a7",
   "metadata": {},
   "outputs": [],
   "source": [
    "# Two ways to create an empty list\n",
    "more_names = []\n",
    "more_names = list()"
   ]
  },
  {
   "cell_type": "code",
   "execution_count": 7,
   "id": "7913fce7",
   "metadata": {
    "scrolled": true
   },
   "outputs": [
    {
     "name": "stdout",
     "output_type": "stream",
     "text": [
      "[1, ['hi', 'bye'], -0.12, None]\n"
     ]
    }
   ],
   "source": [
    "# Create a list that contains different data types, this is allowed in Python\n",
    "stuff = [1, [\"hi\", \"bye\"], -0.12, None]\n",
    "print(stuff)"
   ]
  },
  {
   "cell_type": "markdown",
   "id": "68682c20",
   "metadata": {},
   "source": [
    "List slicing is a useful way to access a slice of elements in a list."
   ]
  },
  {
   "cell_type": "code",
   "execution_count": 8,
   "id": "8fc049ef",
   "metadata": {},
   "outputs": [
    {
     "name": "stdout",
     "output_type": "stream",
     "text": [
      "[0, 1, 2]\n"
     ]
    }
   ],
   "source": [
    "numbers = [0, 1, 2, 3, 4, 5, 6]\n",
    "\n",
    "# Slices from start index (inclusive) to end index (exclusive)\n",
    "print(numbers[0:3])"
   ]
  },
  {
   "cell_type": "code",
   "execution_count": 9,
   "id": "3e34a509",
   "metadata": {},
   "outputs": [
    {
     "name": "stdout",
     "output_type": "stream",
     "text": [
      "[0, 1, 2]\n",
      "[5, 6]\n"
     ]
    }
   ],
   "source": [
    "# When start index is not specified, it is start of list\n",
    "# When end index is not specified, it is end of list\n",
    "print(numbers[:3])\n",
    "print(numbers[5:])"
   ]
  },
  {
   "cell_type": "code",
   "execution_count": 10,
   "id": "813da35a",
   "metadata": {},
   "outputs": [
    {
     "name": "stdout",
     "output_type": "stream",
     "text": [
      "[0, 1, 2, 3, 4, 5, 6]\n"
     ]
    }
   ],
   "source": [
    "# : takes the slice of all elements along a dimension, is very useful when working with numpy arrays\n",
    "print(numbers[:])"
   ]
  },
  {
   "cell_type": "code",
   "execution_count": 11,
   "id": "eaa197af",
   "metadata": {},
   "outputs": [
    {
     "name": "stdout",
     "output_type": "stream",
     "text": [
      "6\n",
      "[4, 5, 6]\n",
      "[3, 4]\n"
     ]
    }
   ],
   "source": [
    "# Negative index wraps around, start counting from the end of list\n",
    "print(numbers[-1])\n",
    "print(numbers[-3:])\n",
    "print(numbers[3:-2])"
   ]
  },
  {
   "cell_type": "markdown",
   "id": "22371049",
   "metadata": {},
   "source": [
    "### Tuples"
   ]
  },
  {
   "cell_type": "markdown",
   "id": "bfca6098",
   "metadata": {},
   "source": [
    "Tuples are immutable arrays. Let's see how they work."
   ]
  },
  {
   "cell_type": "code",
   "execution_count": 12,
   "id": "b542e470",
   "metadata": {},
   "outputs": [],
   "source": [
    "# Use parentheses for tuples, square brackets for lists\n",
    "names = (\"Zach\", \"Jay\")"
   ]
  },
  {
   "cell_type": "code",
   "execution_count": 13,
   "id": "3906a033",
   "metadata": {},
   "outputs": [
    {
     "name": "stdout",
     "output_type": "stream",
     "text": [
      "Zach\n",
      "2\n"
     ]
    }
   ],
   "source": [
    "# Syntax for accessing an element and getting length are the same as lists\n",
    "print(names[0])\n",
    "print(len(names))"
   ]
  },
  {
   "cell_type": "code",
   "execution_count": 14,
   "id": "8799a4c5",
   "metadata": {},
   "outputs": [
    {
     "ename": "TypeError",
     "evalue": "'tuple' object does not support item assignment",
     "output_type": "error",
     "traceback": [
      "\u001b[0;31m---------------------------------------------------------------------------\u001b[0m",
      "\u001b[0;31mTypeError\u001b[0m                                 Traceback (most recent call last)",
      "\u001b[0;32m/var/folders/b8/0hyyt79n05q51qz7ztrh_l8m0000gn/T/ipykernel_8006/484771869.py\u001b[0m in \u001b[0;36m<module>\u001b[0;34m\u001b[0m\n\u001b[1;32m      1\u001b[0m \u001b[0;31m# But unlike lists, tuples do not support item re-assignment\u001b[0m\u001b[0;34m\u001b[0m\u001b[0;34m\u001b[0m\u001b[0m\n\u001b[0;32m----> 2\u001b[0;31m \u001b[0mnames\u001b[0m\u001b[0;34m[\u001b[0m\u001b[0;36m0\u001b[0m\u001b[0;34m]\u001b[0m \u001b[0;34m=\u001b[0m \u001b[0;34m\"Richard\"\u001b[0m\u001b[0;34m\u001b[0m\u001b[0;34m\u001b[0m\u001b[0m\n\u001b[0m",
      "\u001b[0;31mTypeError\u001b[0m: 'tuple' object does not support item assignment"
     ]
    }
   ],
   "source": [
    "# But unlike lists, tuples do not support item re-assignment\n",
    "names[0] = \"Richard\""
   ]
  },
  {
   "cell_type": "code",
   "execution_count": 15,
   "id": "9918ac4b",
   "metadata": {},
   "outputs": [
    {
     "name": "stdout",
     "output_type": "stream",
     "text": [
      "()\n",
      "(10,)\n"
     ]
    }
   ],
   "source": [
    "# Create an empty tuple\n",
    "empty = tuple()\n",
    "print(empty)\n",
    "\n",
    "# Create a tuple with a single item, the comma is important\n",
    "single = (10,)\n",
    "print(single)"
   ]
  },
  {
   "cell_type": "markdown",
   "id": "00800704",
   "metadata": {},
   "source": [
    "## Dictionary"
   ]
  },
  {
   "cell_type": "markdown",
   "id": "8111c6c3",
   "metadata": {},
   "source": [
    "Dictionaries are hash maps. Let's see how they work."
   ]
  },
  {
   "cell_type": "code",
   "execution_count": 16,
   "id": "646bda2f",
   "metadata": {},
   "outputs": [],
   "source": [
    "# Two ways to create an empty dictionary\n",
    "phonebook = {}\n",
    "phonebook = dict()"
   ]
  },
  {
   "cell_type": "code",
   "execution_count": 17,
   "id": "65c67196",
   "metadata": {},
   "outputs": [],
   "source": [
    "# Create dictionary with one item \n",
    "phonebook = {\"Zach\": \"12-37\"}\n",
    "# Add another item\n",
    "phonebook[\"Jay\"] = \"34-23\""
   ]
  },
  {
   "cell_type": "code",
   "execution_count": 18,
   "id": "1bc431d9",
   "metadata": {},
   "outputs": [
    {
     "name": "stdout",
     "output_type": "stream",
     "text": [
      "True\n",
      "False\n"
     ]
    }
   ],
   "source": [
    "# Check if a key is in the dictionary\n",
    "print(\"Zach\" in phonebook)\n",
    "print(\"Kevin\" in phonebook)"
   ]
  },
  {
   "cell_type": "code",
   "execution_count": 19,
   "id": "87018123",
   "metadata": {},
   "outputs": [
    {
     "name": "stdout",
     "output_type": "stream",
     "text": [
      "34-23\n"
     ]
    }
   ],
   "source": [
    "# Get corresponding value for a key\n",
    "print(phonebook[\"Jay\"])"
   ]
  },
  {
   "cell_type": "code",
   "execution_count": 20,
   "id": "18555a3a",
   "metadata": {},
   "outputs": [
    {
     "name": "stdout",
     "output_type": "stream",
     "text": [
      "{'Jay': '34-23'}\n"
     ]
    }
   ],
   "source": [
    "# Delete an item\n",
    "del phonebook[\"Zach\"]\n",
    "print(phonebook)"
   ]
  },
  {
   "cell_type": "markdown",
   "id": "60aceb86",
   "metadata": {},
   "source": [
    "## Loops"
   ]
  },
  {
   "cell_type": "code",
   "execution_count": 21,
   "id": "f7189f9d",
   "metadata": {},
   "outputs": [
    {
     "name": "stdout",
     "output_type": "stream",
     "text": [
      "0\n",
      "1\n",
      "2\n",
      "3\n",
      "4\n"
     ]
    }
   ],
   "source": [
    "# Basic for loop\n",
    "for i in range(5):\n",
    "    print(i)"
   ]
  },
  {
   "cell_type": "code",
   "execution_count": 22,
   "id": "10ae15db",
   "metadata": {},
   "outputs": [
    {
     "name": "stdout",
     "output_type": "stream",
     "text": [
      "Zach\n",
      "Jay\n",
      "Richard\n"
     ]
    }
   ],
   "source": [
    "# To iterate over a list\n",
    "names = [\"Zach\", \"Jay\", \"Richard\"]\n",
    "for name in names:\n",
    "    print(name)"
   ]
  },
  {
   "cell_type": "code",
   "execution_count": 23,
   "id": "00d5035b",
   "metadata": {},
   "outputs": [
    {
     "name": "stdout",
     "output_type": "stream",
     "text": [
      "0 Zach\n",
      "1 Jay\n",
      "2 Richard\n",
      "---\n",
      "0 Zach\n",
      "1 Jay\n",
      "2 Richard\n"
     ]
    }
   ],
   "source": [
    "# To iterate over indices and values in a list\n",
    "# Way 1\n",
    "for i in range(len(names)):\n",
    "    print(i, names[i])\n",
    "    \n",
    "print(\"---\")\n",
    "\n",
    "# Way 2\n",
    "for i, name in enumerate(names):\n",
    "    print(i, name)"
   ]
  },
  {
   "cell_type": "code",
   "execution_count": 24,
   "id": "f18b7ce6",
   "metadata": {},
   "outputs": [
    {
     "name": "stdout",
     "output_type": "stream",
     "text": [
      "Zach\n",
      "Jay\n",
      "---\n",
      "12-37\n",
      "34-23\n",
      "---\n",
      "Zach 12-37\n",
      "Jay 34-23\n"
     ]
    }
   ],
   "source": [
    "# To iterate over a dictionary\n",
    "phonebook = {\"Zach\": \"12-37\", \"Jay\": \"34-23\"}\n",
    "\n",
    "# Iterate over keys\n",
    "for name in phonebook:\n",
    "    print(name)\n",
    "\n",
    "print(\"---\")\n",
    "\n",
    "# Iterate over values\n",
    "for number in phonebook.values():\n",
    "    print(number)\n",
    "\n",
    "print(\"---\")\n",
    "\n",
    "# Iterate over keys and values\n",
    "for name, number in phonebook.items():\n",
    "    print(name, number)"
   ]
  },
  {
   "cell_type": "markdown",
   "id": "e9661ef4",
   "metadata": {},
   "source": [
    "## NumPy\n",
    "NumPy is a Python library, which adds support for large, multi-dimensional arrays and matrices, along with a large collection of optimized, high-level mathematical functions to operate on these arrays."
   ]
  },
  {
   "cell_type": "code",
   "execution_count": 25,
   "id": "ab7d3f32",
   "metadata": {},
   "outputs": [],
   "source": [
    "# Import numpy\n",
    "import numpy as np"
   ]
  },
  {
   "cell_type": "code",
   "execution_count": 26,
   "id": "6596eb30",
   "metadata": {},
   "outputs": [
    {
     "name": "stdout",
     "output_type": "stream",
     "text": [
      "(3,)\n",
      "(1, 3)\n",
      "(2, 2)\n"
     ]
    }
   ],
   "source": [
    "# Create numpy arrays from lists\n",
    "x = np.array([1,2,3]) \n",
    "y = np.array([[3,4,5]]) \n",
    "z = np.array([[6,7],[8,9]])\n",
    "\n",
    "# Let's take a look at their shapes.\n",
    "# When working with numpy arrays, .shape will be a very useful debugging tool \n",
    "print(x.shape)\n",
    "print(y.shape)\n",
    "print(z.shape)"
   ]
  },
  {
   "cell_type": "markdown",
   "id": "f4b465bf",
   "metadata": {},
   "source": [
    "Vectors can be represented as 1-D arrays of shape (N,) or 2-D arrays of shape (N, 1) or (1, N). But it's important to note that the shapes (N,), (N, 1), and (1,N) are not the same and may result in different behavior (we'll see some examples below involving matrix multiplication and broadcasting).\n",
    "\n",
    "Matrices are generally represented as 2-D arrays of shape (M, N).\n",
    "\n",
    "The best way to ensure your code gives you the behavior you expect is to keep track of your array shapes and try out small test cases or refer back to documentation when you are unsure."
   ]
  },
  {
   "cell_type": "markdown",
   "id": "bcb3f37c",
   "metadata": {},
   "source": [
    "### Array Operations"
   ]
  },
  {
   "cell_type": "markdown",
   "id": "18a8a694",
   "metadata": {},
   "source": [
    "There are many NumPy operations that can be used to reduce a numpy array along an axis.\n",
    "\n",
    "Let's look at the np.max operation (documentation: https://numpy.org/doc/stable/reference/generated/numpy.ndarray.max.html)."
   ]
  },
  {
   "cell_type": "code",
   "execution_count": 27,
   "id": "1fcf4220",
   "metadata": {},
   "outputs": [],
   "source": [
    "x = np.array([[1,2],[3,4], [5, 6]]) "
   ]
  },
  {
   "cell_type": "code",
   "execution_count": 28,
   "id": "df82f62e",
   "metadata": {},
   "outputs": [
    {
     "name": "stdout",
     "output_type": "stream",
     "text": [
      "[2 4 6]\n"
     ]
    }
   ],
   "source": [
    "print(np.max(x, axis = 1))"
   ]
  },
  {
   "cell_type": "code",
   "execution_count": 29,
   "id": "0e888b74",
   "metadata": {},
   "outputs": [
    {
     "name": "stdout",
     "output_type": "stream",
     "text": [
      "[[2]\n",
      " [4]\n",
      " [6]]\n"
     ]
    }
   ],
   "source": [
    "print(np.max(x, axis = 1, keepdims = True))"
   ]
  },
  {
   "cell_type": "markdown",
   "id": "29ff27ec",
   "metadata": {},
   "source": [
    "Next, let's look at some matrix operations. Let's take an element-wise product (Hadamard product)."
   ]
  },
  {
   "cell_type": "code",
   "execution_count": 30,
   "id": "25aeb52d",
   "metadata": {},
   "outputs": [
    {
     "name": "stdout",
     "output_type": "stream",
     "text": [
      "[[1 2]\n",
      " [3 4]]\n",
      "[[3 3]\n",
      " [3 3]]\n",
      "---\n",
      "[[ 3  6]\n",
      " [ 9 12]]\n"
     ]
    }
   ],
   "source": [
    "A = np.array([[1, 2], [3, 4]])\n",
    "B = np.array([[3, 3], [3, 3]])\n",
    "print(A)\n",
    "print(B)\n",
    "print(\"---\")\n",
    "print(A * B)"
   ]
  },
  {
   "cell_type": "markdown",
   "id": "689f2a8d",
   "metadata": {},
   "source": [
    "We can do matrix multiplication with np.matmul or @."
   ]
  },
  {
   "cell_type": "code",
   "execution_count": 31,
   "id": "c76ec303",
   "metadata": {},
   "outputs": [
    {
     "name": "stdout",
     "output_type": "stream",
     "text": [
      "[[ 9  9]\n",
      " [21 21]]\n",
      "[[ 9  9]\n",
      " [21 21]]\n"
     ]
    }
   ],
   "source": [
    "# One way to do matrix multiplication\n",
    "print(np.matmul(A, B))\n",
    "\n",
    "# Another way to do matrix multiplication\n",
    "print(A @ B)"
   ]
  },
  {
   "cell_type": "markdown",
   "id": "62696957",
   "metadata": {},
   "source": [
    "We can take the dot product or a matrix vector product with np.dot. "
   ]
  },
  {
   "cell_type": "code",
   "execution_count": 32,
   "id": "0caf84b9",
   "metadata": {},
   "outputs": [
    {
     "name": "stdout",
     "output_type": "stream",
     "text": [
      "321\n",
      "321\n"
     ]
    }
   ],
   "source": [
    "u = np.array([1, 2, 3])\n",
    "v = np.array([1, 10, 100])\n",
    "\n",
    "print(np.dot(u, v))\n",
    "\n",
    "# Can also call numpy operations on the numpy array, useful for chaining together multiple operations\n",
    "print(u.dot(v))"
   ]
  },
  {
   "cell_type": "code",
   "execution_count": 33,
   "id": "43e635bb",
   "metadata": {},
   "outputs": [
    {
     "name": "stdout",
     "output_type": "stream",
     "text": [
      "(3,)\n",
      "(3, 2)\n",
      "[531 642]\n",
      "(2,)\n"
     ]
    }
   ],
   "source": [
    "W = np.array([[1, 2], [3, 4], [5, 6]])\n",
    "print(v.shape)\n",
    "print(W.shape)\n",
    "\n",
    "# This works.\n",
    "print(np.dot(v, W))\n",
    "print(np.dot(v, W).shape)"
   ]
  },
  {
   "cell_type": "code",
   "execution_count": 34,
   "id": "683dd6ee",
   "metadata": {},
   "outputs": [
    {
     "ename": "ValueError",
     "evalue": "shapes (3,2) and (3,) not aligned: 2 (dim 1) != 3 (dim 0)",
     "output_type": "error",
     "traceback": [
      "\u001b[0;31m---------------------------------------------------------------------------\u001b[0m",
      "\u001b[0;31mValueError\u001b[0m                                Traceback (most recent call last)",
      "\u001b[0;32m/var/folders/b8/0hyyt79n05q51qz7ztrh_l8m0000gn/T/ipykernel_8006/337728858.py\u001b[0m in \u001b[0;36m<module>\u001b[0;34m\u001b[0m\n\u001b[1;32m      1\u001b[0m \u001b[0;31m# This does not. Why?\u001b[0m\u001b[0;34m\u001b[0m\u001b[0;34m\u001b[0m\u001b[0m\n\u001b[0;32m----> 2\u001b[0;31m \u001b[0mprint\u001b[0m\u001b[0;34m(\u001b[0m\u001b[0mnp\u001b[0m\u001b[0;34m.\u001b[0m\u001b[0mdot\u001b[0m\u001b[0;34m(\u001b[0m\u001b[0mW\u001b[0m\u001b[0;34m,\u001b[0m \u001b[0mv\u001b[0m\u001b[0;34m)\u001b[0m\u001b[0;34m)\u001b[0m\u001b[0;34m\u001b[0m\u001b[0;34m\u001b[0m\u001b[0m\n\u001b[0m",
      "\u001b[0;32m/opt/anaconda3/envs/python-tutorial/lib/python3.9/site-packages/numpy/core/overrides.py\u001b[0m in \u001b[0;36mdot\u001b[0;34m(*args, **kwargs)\u001b[0m\n",
      "\u001b[0;31mValueError\u001b[0m: shapes (3,2) and (3,) not aligned: 2 (dim 1) != 3 (dim 0)"
     ]
    }
   ],
   "source": [
    "# This does not. Why?\n",
    "print(np.dot(W, v))"
   ]
  },
  {
   "cell_type": "code",
   "execution_count": 35,
   "id": "9e8b2184",
   "metadata": {},
   "outputs": [
    {
     "name": "stdout",
     "output_type": "stream",
     "text": [
      "[531 642]\n",
      "(2,)\n"
     ]
    }
   ],
   "source": [
    "# We can fix the above issue by transposing W.\n",
    "print(np.dot(W.T, v))\n",
    "print(np.dot(W.T, v).shape)"
   ]
  },
  {
   "cell_type": "markdown",
   "id": "c13199d8",
   "metadata": {},
   "source": [
    "###  Indexing"
   ]
  },
  {
   "cell_type": "markdown",
   "id": "d3d3d5c2",
   "metadata": {},
   "source": [
    "Slicing / indexing numpy arrays is a extension of the Python concept of slicing (lists) to N dimensions."
   ]
  },
  {
   "cell_type": "code",
   "execution_count": 36,
   "id": "bb930e29",
   "metadata": {
    "scrolled": true
   },
   "outputs": [
    {
     "name": "stdout",
     "output_type": "stream",
     "text": [
      "[[0.67967409 0.7503561  0.2819389  0.47239277]\n",
      " [0.8377827  0.91115093 0.57307322 0.2862079 ]\n",
      " [0.60423802 0.33463655 0.97074304 0.39552708]]\n"
     ]
    }
   ],
   "source": [
    "x = np.random.random((3, 4))\n",
    "\n",
    "# Selects all of x\n",
    "print(x[:])"
   ]
  },
  {
   "cell_type": "code",
   "execution_count": 37,
   "id": "16d0fe9a",
   "metadata": {},
   "outputs": [
    {
     "name": "stdout",
     "output_type": "stream",
     "text": [
      "[[0.67967409 0.7503561  0.2819389  0.47239277]\n",
      " [0.60423802 0.33463655 0.97074304 0.39552708]]\n",
      "---\n",
      "[0.91115093 0.57307322]\n"
     ]
    }
   ],
   "source": [
    "# Selects the 0th and 2nd rows \n",
    "print(x[np.array([0, 2]), :])\n",
    "\n",
    "print(\"---\")\n",
    "\n",
    "# Selects 1st row as 1-D vector and and 1st through 2nd elements\n",
    "print(x[1, 1:3])"
   ]
  },
  {
   "cell_type": "code",
   "execution_count": 38,
   "id": "04bf1911",
   "metadata": {},
   "outputs": [
    {
     "name": "stdout",
     "output_type": "stream",
     "text": [
      "[0.67967409 0.7503561  0.8377827  0.91115093 0.57307322 0.60423802\n",
      " 0.97074304]\n"
     ]
    }
   ],
   "source": [
    "# Boolean indexing\n",
    "print(x[x > 0.5])"
   ]
  },
  {
   "cell_type": "code",
   "execution_count": 39,
   "id": "118924a3",
   "metadata": {},
   "outputs": [
    {
     "name": "stdout",
     "output_type": "stream",
     "text": [
      "[[[0.67967409]\n",
      "  [0.7503561 ]\n",
      "  [0.2819389 ]\n",
      "  [0.47239277]]\n",
      "\n",
      " [[0.8377827 ]\n",
      "  [0.91115093]\n",
      "  [0.57307322]\n",
      "  [0.2862079 ]]\n",
      "\n",
      " [[0.60423802]\n",
      "  [0.33463655]\n",
      "  [0.97074304]\n",
      "  [0.39552708]]]\n"
     ]
    }
   ],
   "source": [
    "# 3-D vector of shape (3, 4, 1)\n",
    "print(x[:, :, np.newaxis])"
   ]
  },
  {
   "cell_type": "markdown",
   "id": "48e1704f",
   "metadata": {},
   "source": [
    "### Broadcasting"
   ]
  },
  {
   "cell_type": "markdown",
   "id": "40d35521",
   "metadata": {},
   "source": [
    "The term broadcasting describes how NumPy treats arrays with different shapes during arithmetic operations.\n",
    "\n",
    "**General Broadcasting Rules**\n",
    "\n",
    "When operating on two arrays, NumPy compares their shapes element-wise. It starts with the trailing (i.e. rightmost) dimensions and works its way left. Two dimensions are compatible when:\n",
    "- they are equal, or\n",
    "- one of them is 1 (in which case, elements on the axis are repeated along the dimension)\n",
    "\n",
    "More details: https://numpy.org/doc/stable/user/basics.broadcasting.html"
   ]
  },
  {
   "cell_type": "code",
   "execution_count": 40,
   "id": "e3f0c8b1",
   "metadata": {},
   "outputs": [],
   "source": [
    "x = np.random.random((3, 4))\n",
    "y = np.random.random((3, 1))\n",
    "z = np.random.random((1, 4))\n",
    "\n",
    "# In this example, y and z are broadcasted to match the shape of x. \n",
    "# y is broadcasted along dim 1.\n",
    "s = x + y\n",
    "# z is broadcasted along dim 0.\n",
    "p = x * z"
   ]
  },
  {
   "cell_type": "code",
   "execution_count": 41,
   "id": "93cdfc8a",
   "metadata": {},
   "outputs": [
    {
     "name": "stdout",
     "output_type": "stream",
     "text": [
      "(3, 4)\n",
      "(3, 1)\n",
      "(3, 4)\n"
     ]
    }
   ],
   "source": [
    "print(x.shape)\n",
    "print(y.shape)\n",
    "print(s.shape)"
   ]
  },
  {
   "cell_type": "code",
   "execution_count": 42,
   "id": "a77b76bc",
   "metadata": {},
   "outputs": [
    {
     "name": "stdout",
     "output_type": "stream",
     "text": [
      "(3, 4)\n",
      "(1, 4)\n",
      "(3, 4)\n"
     ]
    }
   ],
   "source": [
    "print(x.shape)\n",
    "print(z.shape)\n",
    "print(p.shape)"
   ]
  },
  {
   "cell_type": "markdown",
   "id": "fec8ae1e",
   "metadata": {},
   "source": [
    "Let's look at a more complex example."
   ]
  },
  {
   "cell_type": "code",
   "execution_count": 43,
   "id": "2b1b271d",
   "metadata": {},
   "outputs": [],
   "source": [
    "a = np.random.random((3, 4))\n",
    "b = np.random.random((3, 1))\n",
    "c = np.random.random((3, ))"
   ]
  },
  {
   "cell_type": "markdown",
   "id": "972fda59",
   "metadata": {},
   "source": [
    "What is the expected broadcasting behavior for these operations? What do the following operations give us? What are the resulting shapes?"
   ]
  },
  {
   "cell_type": "code",
   "execution_count": 44,
   "id": "ab0e1d5b",
   "metadata": {},
   "outputs": [
    {
     "name": "stdout",
     "output_type": "stream",
     "text": [
      "(3, 1)\n",
      "(1, 3)\n",
      "(3, 3)\n",
      "[[1.5683191  1.32822013 1.16548899]\n",
      " [1.32822013 1.08812117 0.92539003]\n",
      " [1.16548899 0.92539003 0.76265888]]\n"
     ]
    }
   ],
   "source": [
    "result1 = b + b.T\n",
    "\n",
    "print(b.shape)\n",
    "print(b.T.shape)\n",
    "print(result1.shape)\n",
    "print(result1)"
   ]
  },
  {
   "cell_type": "code",
   "execution_count": 45,
   "id": "d7e113be",
   "metadata": {
    "scrolled": true
   },
   "outputs": [
    {
     "ename": "ValueError",
     "evalue": "operands could not be broadcast together with shapes (3,4) (3,) ",
     "output_type": "error",
     "traceback": [
      "\u001b[0;31m---------------------------------------------------------------------------\u001b[0m",
      "\u001b[0;31mValueError\u001b[0m                                Traceback (most recent call last)",
      "\u001b[0;32m/var/folders/b8/0hyyt79n05q51qz7ztrh_l8m0000gn/T/ipykernel_8006/1987730316.py\u001b[0m in \u001b[0;36m<module>\u001b[0;34m\u001b[0m\n\u001b[0;32m----> 1\u001b[0;31m \u001b[0mresult2\u001b[0m \u001b[0;34m=\u001b[0m \u001b[0ma\u001b[0m \u001b[0;34m+\u001b[0m \u001b[0mc\u001b[0m\u001b[0;34m\u001b[0m\u001b[0;34m\u001b[0m\u001b[0m\n\u001b[0m\u001b[1;32m      2\u001b[0m \u001b[0;34m\u001b[0m\u001b[0m\n\u001b[1;32m      3\u001b[0m \u001b[0mprint\u001b[0m\u001b[0;34m(\u001b[0m\u001b[0ma\u001b[0m\u001b[0;34m.\u001b[0m\u001b[0mshape\u001b[0m\u001b[0;34m)\u001b[0m\u001b[0;34m\u001b[0m\u001b[0;34m\u001b[0m\u001b[0m\n\u001b[1;32m      4\u001b[0m \u001b[0mprint\u001b[0m\u001b[0;34m(\u001b[0m\u001b[0mc\u001b[0m\u001b[0;34m.\u001b[0m\u001b[0mshape\u001b[0m\u001b[0;34m)\u001b[0m\u001b[0;34m\u001b[0m\u001b[0;34m\u001b[0m\u001b[0m\n\u001b[1;32m      5\u001b[0m \u001b[0mprint\u001b[0m\u001b[0;34m(\u001b[0m\u001b[0mresult2\u001b[0m\u001b[0;34m.\u001b[0m\u001b[0mshape\u001b[0m\u001b[0;34m)\u001b[0m\u001b[0;34m\u001b[0m\u001b[0;34m\u001b[0m\u001b[0m\n",
      "\u001b[0;31mValueError\u001b[0m: operands could not be broadcast together with shapes (3,4) (3,) "
     ]
    }
   ],
   "source": [
    "result2 = a + c\n",
    "\n",
    "print(a.shape)\n",
    "print(c.shape)\n",
    "print(result2.shape)\n",
    "print(result2)"
   ]
  },
  {
   "cell_type": "code",
   "execution_count": 46,
   "id": "e91c0c70",
   "metadata": {},
   "outputs": [
    {
     "name": "stdout",
     "output_type": "stream",
     "text": [
      "(3, 1)\n",
      "(3,)\n",
      "(3, 3)\n",
      "[[1.7830505  0.91483839 1.21397415]\n",
      " [1.54295154 0.67473942 0.97387519]\n",
      " [1.3802204  0.51200828 0.81114405]]\n"
     ]
    }
   ],
   "source": [
    "result3 = b + c\n",
    "\n",
    "print(b.shape)\n",
    "print(c.shape)\n",
    "print(result3.shape)\n",
    "print(result3)"
   ]
  },
  {
   "cell_type": "markdown",
   "id": "0a845479",
   "metadata": {},
   "source": [
    "### Efficient NumPy Code"
   ]
  },
  {
   "cell_type": "markdown",
   "id": "55c8d74f",
   "metadata": {},
   "source": [
    "When working with numpy arrays, avoid explicit for-loops over indices/axes at all costs. For-loops will dramatically slow down your code (~10-100x)."
   ]
  },
  {
   "cell_type": "markdown",
   "id": "e1285d83",
   "metadata": {},
   "source": [
    "We can time code using the %%timeit magic. Let's compare using explicit for-loop vs. using numpy operations."
   ]
  },
  {
   "cell_type": "code",
   "execution_count": 47,
   "id": "ba02c912",
   "metadata": {},
   "outputs": [
    {
     "name": "stdout",
     "output_type": "stream",
     "text": [
      "334 ms ± 1.16 ms per loop (mean ± std. dev. of 7 runs, 1 loop each)\n"
     ]
    }
   ],
   "source": [
    "%%timeit\n",
    "x = np.random.rand(1000, 1000)\n",
    "for i in range(100, 1000):\n",
    "    for j in range(x.shape[1]): \n",
    "        x[i, j] += 5"
   ]
  },
  {
   "cell_type": "code",
   "execution_count": 48,
   "id": "3c96fc83",
   "metadata": {
    "collapsed": true,
    "jupyter": {
     "outputs_hidden": true
    },
    "tags": []
   },
   "outputs": [
    {
     "name": "stdout",
     "output_type": "stream",
     "text": [
      "6.23 ms ± 28.3 µs per loop (mean ± std. dev. of 7 runs, 100 loops each)\n"
     ]
    }
   ],
   "source": [
    "%%timeit\n",
    "x = np.random.rand(1000, 1000)\n",
    "x[np.arange(100,1000), :] += 5 "
   ]
  },
  {
   "cell_type": "code",
   "execution_count": null,
   "id": "72b832dd",
   "metadata": {},
   "outputs": [],
   "source": []
  }
 ],
 "metadata": {
  "kernelspec": {
   "display_name": "Python 3 (ipykernel)",
   "language": "python",
   "name": "python3"
  },
  "language_info": {
   "codemirror_mode": {
    "name": "ipython",
    "version": 3
   },
   "file_extension": ".py",
   "mimetype": "text/x-python",
   "name": "python",
   "nbconvert_exporter": "python",
   "pygments_lexer": "ipython3",
   "version": "3.10.6"
  }
 },
 "nbformat": 4,
 "nbformat_minor": 5
}
