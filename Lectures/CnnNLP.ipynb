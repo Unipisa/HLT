{
 "cells": [
  {
   "cell_type": "markdown",
   "metadata": {},
   "source": [
    "# Convolutional Neural Net with Word Embeddings\n",
    "Adapted from code at https://keras.io/zh/examples/imdb_cnn/"
   ]
  },
  {
   "cell_type": "markdown",
   "metadata": {},
   "source": [
    "This example demonstrates the use of Conv1D for text classification.<br/>\n",
    "Gets to 0.88 test accuracy after 4 epochs."
   ]
  },
  {
   "cell_type": "markdown",
   "metadata": {},
   "source": [
    "# CNN\n",
    "Convolutions are sliding window functions applied to a matrix that achieve specific results (e. g., image blur, edge detection.) The sliding window is called a kernel, filter, or feature detector. The visualization shows six 3×3 kernels that multiply their values element-wise with the original matrix, then sum them up. To get the full convolution, we do this for each element by sliding the filter over the entire matrix:"
   ]
  },
  {
   "cell_type": "markdown",
   "metadata": {},
   "source": [
    "![CNN](https://thumbs.gfycat.com/PlasticMenacingDegu-size_restricted.gif) "
   ]
  },
  {
   "cell_type": "markdown",
   "metadata": {},
   "source": [
    "## Import modules"
   ]
  },
  {
   "cell_type": "code",
   "execution_count": 1,
   "metadata": {},
   "outputs": [
    {
     "name": "stderr",
     "output_type": "stream",
     "text": [
      "/usr/lib/python3/dist-packages/requests/__init__.py:89: RequestsDependencyWarning: urllib3 (1.26.8) or chardet (3.0.4) doesn't match a supported version!\n",
      "  warnings.warn(\"urllib3 ({}) or chardet ({}) doesn't match a supported \"\n"
     ]
    }
   ],
   "source": [
    "from tensorflow.keras.preprocessing import sequence\n",
    "from tensorflow.keras.models import Sequential\n",
    "from tensorflow.keras.layers import Dense, Dropout, Activation, Input\n",
    "from tensorflow.keras.layers import Embedding, Conv1D, GlobalMaxPooling1D\n",
    "from tensorflow.keras.datasets import imdb"
   ]
  },
  {
   "cell_type": "markdown",
   "metadata": {},
   "source": [
    "### Set parameters"
   ]
  },
  {
   "cell_type": "code",
   "execution_count": 2,
   "metadata": {},
   "outputs": [],
   "source": [
    "max_words = 5000 # vocabulary size\n",
    "maxlen = 200     # max sentense length\n",
    "batch_size = 32\n",
    "embedding_dims = 150\n",
    "filters = 128    # the number of output filters in the convolution\n",
    "kernel_size = 3  # width of the 1D convolution window\n",
    "hidden_dims = 250\n",
    "epochs = 4"
   ]
  },
  {
   "cell_type": "markdown",
   "metadata": {},
   "source": [
    "## Loading data\n",
    "We use the IMDB reviews dataset."
   ]
  },
  {
   "cell_type": "code",
   "execution_count": 3,
   "metadata": {},
   "outputs": [
    {
     "name": "stdout",
     "output_type": "stream",
     "text": [
      "25000 train sequences\n",
      "25000 test sequences\n"
     ]
    }
   ],
   "source": [
    "(x_train, y_train), (x_test, y_test) = imdb.load_data(num_words=max_words)\n",
    "print(len(x_train), 'train sequences')\n",
    "print(len(x_test), 'test sequences')"
   ]
  },
  {
   "cell_type": "markdown",
   "metadata": {},
   "source": [
    "### Pad sequences\n",
    "Pad sequences to (samples x length)"
   ]
  },
  {
   "cell_type": "code",
   "execution_count": 4,
   "metadata": {},
   "outputs": [
    {
     "name": "stdout",
     "output_type": "stream",
     "text": [
      "x_train shape: (25000, 200)\n",
      "x_test shape: (25000, 200)\n"
     ]
    }
   ],
   "source": [
    "x_train = sequence.pad_sequences(x_train, maxlen=maxlen)\n",
    "x_test = sequence.pad_sequences(x_test, maxlen=maxlen)\n",
    "print('x_train shape:', x_train.shape)\n",
    "print('x_test shape:', x_test.shape)"
   ]
  },
  {
   "cell_type": "markdown",
   "metadata": {},
   "source": [
    "Show one sentence"
   ]
  },
  {
   "cell_type": "code",
   "execution_count": 5,
   "metadata": {},
   "outputs": [
    {
     "data": {
      "text/plain": [
       "array([   5,   25,  100,   43,  838,  112,   50,  670,    2,    9,   35,\n",
       "        480,  284,    5,  150,    4,  172,  112,  167,    2,  336,  385,\n",
       "         39,    4,  172, 4536, 1111,   17,  546,   38,   13,  447,    4,\n",
       "        192,   50,   16,    6,  147, 2025,   19,   14,   22,    4, 1920,\n",
       "       4613,  469,    4,   22,   71,   87,   12,   16,   43,  530,   38,\n",
       "         76,   15,   13, 1247,    4,   22,   17,  515,   17,   12,   16,\n",
       "        626,   18,    2,    5,   62,  386,   12,    8,  316,    8,  106,\n",
       "          5,    4, 2223,    2,   16,  480,   66, 3785,   33,    4,  130,\n",
       "         12,   16,   38,  619,    5,   25,  124,   51,   36,  135,   48,\n",
       "         25, 1415,   33,    6,   22,   12,  215,   28,   77,   52,    5,\n",
       "         14,  407,   16,   82,    2,    8,    4,  107,  117,    2,   15,\n",
       "        256,    4,    2,    7, 3766,    5,  723,   36,   71,   43,  530,\n",
       "        476,   26,  400,  317,   46,    7,    4,    2, 1029,   13,  104,\n",
       "         88,    4,  381,   15,  297,   98,   32, 2071,   56,   26,  141,\n",
       "          6,  194,    2,   18,    4,  226,   22,   21,  134,  476,   26,\n",
       "        480,    5,  144,   30,    2,   18,   51,   36,   28,  224,   92,\n",
       "         25,  104,    4,  226,   65,   16,   38, 1334,   88,   12,   16,\n",
       "        283,    5,   16, 4472,  113,  103,   32,   15,   16,    2,   19,\n",
       "        178,   32], dtype=int32)"
      ]
     },
     "execution_count": 5,
     "metadata": {},
     "output_type": "execute_result"
    }
   ],
   "source": [
    "x_train[0]"
   ]
  },
  {
   "cell_type": "markdown",
   "metadata": {},
   "source": [
    "## Defining the network"
   ]
  },
  {
   "cell_type": "code",
   "execution_count": 6,
   "metadata": {
    "scrolled": true
   },
   "outputs": [],
   "source": [
    "model = Sequential()"
   ]
  },
  {
   "cell_type": "markdown",
   "metadata": {},
   "source": [
    "We start off with an efficient embedding layer which maps\n",
    "our vocab indices into embedding_dims dimensions"
   ]
  },
  {
   "cell_type": "code",
   "execution_count": 7,
   "metadata": {},
   "outputs": [],
   "source": [
    "model.add(Embedding(max_words,\n",
    "                    embedding_dims,\n",
    "                    input_length=maxlen))\n",
    "\n",
    "model.add(Dropout(0.2))"
   ]
  },
  {
   "cell_type": "markdown",
   "metadata": {},
   "source": [
    "We add a `Conv1D`, which will learn word group filters of size `kernel_size`:"
   ]
  },
  {
   "cell_type": "code",
   "execution_count": 8,
   "metadata": {},
   "outputs": [],
   "source": [
    "model.add(Conv1D(filters,           # output size\n",
    "                 kernel_size,       # width of convolution window\n",
    "                 padding='valid',   # \"valid\" means \"no padding\"\n",
    "                 activation='relu', # Rectified Linear Unit\n",
    "                 strides=1))        # consecutive, no gaps"
   ]
  },
  {
   "cell_type": "markdown",
   "metadata": {},
   "source": [
    "We use max pooling:"
   ]
  },
  {
   "cell_type": "code",
   "execution_count": 9,
   "metadata": {},
   "outputs": [],
   "source": [
    "model.add(GlobalMaxPooling1D())"
   ]
  },
  {
   "cell_type": "markdown",
   "metadata": {},
   "source": [
    "We add a vanilla hidden layer:"
   ]
  },
  {
   "cell_type": "code",
   "execution_count": 10,
   "metadata": {},
   "outputs": [],
   "source": [
    "model.add(Dense(hidden_dims, activation='relu'))\n",
    "model.add(Dropout(0.2))"
   ]
  },
  {
   "cell_type": "markdown",
   "metadata": {},
   "source": [
    "We project onto a single unit output layer, and squash it with a sigmoid:"
   ]
  },
  {
   "cell_type": "code",
   "execution_count": 11,
   "metadata": {},
   "outputs": [],
   "source": [
    "model.add(Dense(1, activation='sigmoid'))\n",
    "\n",
    "model.compile(loss='binary_crossentropy',\n",
    "              optimizer='adam',\n",
    "              metrics=['accuracy'])"
   ]
  },
  {
   "cell_type": "markdown",
   "metadata": {},
   "source": [
    "### Show the model"
   ]
  },
  {
   "cell_type": "code",
   "execution_count": 12,
   "metadata": {},
   "outputs": [
    {
     "data": {
      "image/png": "[encoded data removed]",
      "text/plain": [
       "<IPython.core.display.Image object>"
      ]
     },
     "execution_count": 12,
     "metadata": {},
     "output_type": "execute_result"
    }
   ],
   "source": [
    "from tensorflow.keras.utils import plot_model\n",
    "plot_model(model, show_shapes=True)"
   ]
  },
  {
   "cell_type": "markdown",
   "metadata": {},
   "source": [
    "## Training\n",
    "Save a random 10% of thre training set for validation."
   ]
  },
  {
   "cell_type": "code",
   "execution_count": 13,
   "metadata": {},
   "outputs": [
    {
     "name": "stdout",
     "output_type": "stream",
     "text": [
      "Epoch 1/4\n",
      "704/704 [==============================] - 22s 30ms/step - loss: 0.4026 - accuracy: 0.8061 - val_loss: 0.3055 - val_accuracy: 0.8692\n",
      "Epoch 2/4\n",
      "704/704 [==============================] - 21s 30ms/step - loss: 0.2152 - accuracy: 0.9136 - val_loss: 0.2807 - val_accuracy: 0.8848\n",
      "Epoch 3/4\n",
      "704/704 [==============================] - 21s 30ms/step - loss: 0.1158 - accuracy: 0.9573 - val_loss: 0.3391 - val_accuracy: 0.8752\n",
      "Epoch 4/4\n",
      "704/704 [==============================] - 21s 29ms/step - loss: 0.0568 - accuracy: 0.9800 - val_loss: 0.3747 - val_accuracy: 0.8764\n"
     ]
    }
   ],
   "source": [
    "history = model.fit(x_train, y_train,\n",
    "          batch_size=batch_size,\n",
    "          epochs=epochs,\n",
    "          validation_split=0.1)"
   ]
  },
  {
   "cell_type": "markdown",
   "metadata": {},
   "source": [
    "## Testing\n",
    "Let's see how well the model performs on the test set."
   ]
  },
  {
   "cell_type": "code",
   "execution_count": 14,
   "metadata": {},
   "outputs": [],
   "source": [
    "predictions = model.predict(x_test)"
   ]
  },
  {
   "cell_type": "code",
   "execution_count": 15,
   "metadata": {},
   "outputs": [
    {
     "data": {
      "text/plain": [
       "array([[0.1569742 ],\n",
       "       [0.9999448 ],\n",
       "       [0.9906777 ],\n",
       "       ...,\n",
       "       [0.01885927],\n",
       "       [0.01313275],\n",
       "       [0.6956037 ]], dtype=float32)"
      ]
     },
     "execution_count": 15,
     "metadata": {},
     "output_type": "execute_result"
    }
   ],
   "source": [
    "predictions"
   ]
  },
  {
   "cell_type": "code",
   "execution_count": 16,
   "metadata": {},
   "outputs": [
    {
     "data": {
      "text/plain": [
       "array([[0.],\n",
       "       [1.],\n",
       "       [1.],\n",
       "       ...,\n",
       "       [0.],\n",
       "       [0.],\n",
       "       [1.]], dtype=float32)"
      ]
     },
     "execution_count": 16,
     "metadata": {},
     "output_type": "execute_result"
    }
   ],
   "source": [
    "predictions.round()"
   ]
  },
  {
   "cell_type": "code",
   "execution_count": 17,
   "metadata": {},
   "outputs": [
    {
     "data": {
      "text/plain": [
       "array([0, 1, 1, ..., 0, 0, 0])"
      ]
     },
     "execution_count": 17,
     "metadata": {},
     "output_type": "execute_result"
    }
   ],
   "source": [
    "y_test"
   ]
  },
  {
   "cell_type": "code",
   "execution_count": 18,
   "metadata": {},
   "outputs": [
    {
     "data": {
      "text/plain": [
       "array([ 0.,  0.,  0., ...,  0.,  0., -1.])"
      ]
     },
     "execution_count": 18,
     "metadata": {},
     "output_type": "execute_result"
    }
   ],
   "source": [
    "import numpy as np\n",
    "errors = y_test-predictions.round().flatten()\n",
    "errors"
   ]
  },
  {
   "cell_type": "code",
   "execution_count": 19,
   "metadata": {},
   "outputs": [
    {
     "data": {
      "text/plain": [
       "21995"
      ]
     },
     "execution_count": 19,
     "metadata": {},
     "output_type": "execute_result"
    }
   ],
   "source": [
    "len(errors[errors==0])"
   ]
  },
  {
   "cell_type": "code",
   "execution_count": 20,
   "metadata": {},
   "outputs": [
    {
     "data": {
      "text/plain": [
       "0.8798"
      ]
     },
     "execution_count": 20,
     "metadata": {},
     "output_type": "execute_result"
    }
   ],
   "source": [
    "len(errors[errors==0])/len(errors)"
   ]
  },
  {
   "cell_type": "markdown",
   "metadata": {},
   "source": [
    "## Evaluate the results"
   ]
  },
  {
   "cell_type": "code",
   "execution_count": 21,
   "metadata": {},
   "outputs": [
    {
     "name": "stdout",
     "output_type": "stream",
     "text": [
      "Testing Accuracy: 87.98%\n"
     ]
    }
   ],
   "source": [
    "loss, accuracy = model.evaluate(x_test, y_test, verbose=False)\n",
    "print(f\"Testing Accuracy: {accuracy*100:.2f}%\")"
   ]
  },
  {
   "cell_type": "markdown",
   "metadata": {},
   "source": [
    "## Exploring the embeddings"
   ]
  },
  {
   "cell_type": "code",
   "execution_count": 22,
   "metadata": {},
   "outputs": [
    {
     "data": {
      "text/plain": [
       "[<keras.layers.embeddings.Embedding at 0x7f2a9c9eec10>,\n",
       " <keras.layers.core.dropout.Dropout at 0x7f2a9c9eeb80>,\n",
       " <keras.layers.convolutional.Conv1D at 0x7f2a93dab6d0>,\n",
       " <keras.layers.pooling.GlobalMaxPooling1D at 0x7f2a9ca21430>,\n",
       " <keras.layers.core.dense.Dense at 0x7f2a93dabfa0>,\n",
       " <keras.layers.core.dropout.Dropout at 0x7f2a93dabd30>,\n",
       " <keras.layers.core.dense.Dense at 0x7f2a98e14940>]"
      ]
     },
     "execution_count": 22,
     "metadata": {},
     "output_type": "execute_result"
    }
   ],
   "source": [
    "model.layers"
   ]
  },
  {
   "cell_type": "code",
   "execution_count": 23,
   "metadata": {},
   "outputs": [
    {
     "data": {
      "text/plain": [
       "(5000, 150)"
      ]
     },
     "execution_count": 23,
     "metadata": {},
     "output_type": "execute_result"
    }
   ],
   "source": [
    "embeddings = model.get_weights()[0]\n",
    "embeddings.shape"
   ]
  },
  {
   "cell_type": "code",
   "execution_count": 24,
   "metadata": {},
   "outputs": [
    {
     "data": {
      "text/plain": [
       "array([-0.00172266,  0.0058812 ,  0.00249656, -0.01416888, -0.04254358,\n",
       "       -0.00077809, -0.02364106, -0.05085636,  0.01632917,  0.01719029,\n",
       "       -0.00530397,  0.00570465,  0.05300032, -0.0068776 ,  0.00701067,\n",
       "       -0.00468407, -0.01011212, -0.02529679, -0.04821425, -0.04240458,\n",
       "       -0.05604127, -0.02604211,  0.0170639 ,  0.03384447,  0.02035432,\n",
       "       -0.00310173,  0.01682653, -0.02304994, -0.02097409,  0.07484032,\n",
       "        0.02204266,  0.0010095 , -0.01002811,  0.02536379,  0.0412717 ,\n",
       "        0.01530192, -0.0057331 ,  0.01520378,  0.00223353,  0.02901486,\n",
       "        0.0304919 ,  0.00933202,  0.0252702 ,  0.04417897,  0.03740019,\n",
       "       -0.02366339, -0.01668518, -0.00086635, -0.02368007,  0.01256272,\n",
       "        0.02028737,  0.0004433 , -0.02499999,  0.08026774, -0.00402309,\n",
       "       -0.01336532, -0.03442255, -0.00110127,  0.0261378 , -0.02673218,\n",
       "        0.03162981,  0.01593048,  0.02002789, -0.01363509,  0.02167602,\n",
       "        0.00494641, -0.0190607 , -0.01770924,  0.03882227,  0.01548455,\n",
       "       -0.00834451,  0.03898826,  0.03526119,  0.02215291, -0.01990281,\n",
       "       -0.02318235,  0.06148184,  0.044226  ,  0.01838037, -0.01486921,\n",
       "       -0.00323267, -0.02568455,  0.03148849, -0.01972041,  0.06520647,\n",
       "       -0.02814798,  0.01076604, -0.03033598, -0.00126733,  0.01884691,\n",
       "       -0.04864363,  0.02391556,  0.01515384,  0.02607082,  0.03041879,\n",
       "       -0.01455077, -0.04745548,  0.02078793, -0.01495655, -0.00800113,\n",
       "       -0.02260602, -0.02215929, -0.00574441,  0.01724347,  0.04397731,\n",
       "        0.05174085, -0.04178077, -0.01632528, -0.0022189 , -0.01689501,\n",
       "       -0.03671196, -0.02089611, -0.08387882,  0.01361861, -0.02158414,\n",
       "       -0.02351074,  0.05313663,  0.02696676, -0.0473381 ,  0.04034272,\n",
       "        0.02498138, -0.00902163,  0.04179041, -0.01187908, -0.04702697,\n",
       "       -0.02370043, -0.02581292,  0.01751073, -0.01921399,  0.00201885,\n",
       "       -0.02809818,  0.02227924, -0.01470584, -0.06198139,  0.05273234,\n",
       "       -0.05205994, -0.0116504 ,  0.03385535,  0.00264662, -0.00663666,\n",
       "       -0.0743848 , -0.0338296 ,  0.04028397, -0.09431182,  0.03333019,\n",
       "       -0.00506548,  0.01079034, -0.03998551,  0.01594607,  0.00434202],\n",
       "      dtype=float32)"
      ]
     },
     "execution_count": 24,
     "metadata": {},
     "output_type": "execute_result"
    }
   ],
   "source": [
    "embeddings[0]"
   ]
  },
  {
   "cell_type": "code",
   "execution_count": 25,
   "metadata": {},
   "outputs": [
    {
     "data": {
      "text/plain": [
       "0.13274252"
      ]
     },
     "execution_count": 25,
     "metadata": {},
     "output_type": "execute_result"
    }
   ],
   "source": [
    "embeddings[2].dot(embeddings[4])"
   ]
  },
  {
   "cell_type": "markdown",
   "metadata": {},
   "source": [
    "## Comparison with one-hot representations"
   ]
  },
  {
   "cell_type": "code",
   "execution_count": 26,
   "metadata": {},
   "outputs": [],
   "source": [
    "model_one_hot = Sequential()"
   ]
  },
  {
   "cell_type": "markdown",
   "metadata": {},
   "source": [
    "This is NOT a real embedding layer, it is just a trick \n",
    "to convert words into one-hot representations.\n",
    "\n",
    "Note that the embeddinfs are not trained, thet never changes during training."
   ]
  },
  {
   "cell_type": "code",
   "execution_count": 27,
   "metadata": {},
   "outputs": [],
   "source": [
    "model_one_hot.add(Embedding(max_words,\n",
    "                    max_words,\n",
    "                    embeddings_initializer='identity',\n",
    "                    input_length=maxlen,\n",
    "                    trainable=False))  # do not train the embeddings\n",
    "\n",
    "model_one_hot.add(Dropout(0.2))"
   ]
  },
  {
   "cell_type": "markdown",
   "metadata": {},
   "source": [
    "We add a `Conv1D`, which will learn word group filters of size kernel_size:"
   ]
  },
  {
   "cell_type": "code",
   "execution_count": 28,
   "metadata": {},
   "outputs": [],
   "source": [
    "model_one_hot.add(Conv1D(filters,\n",
    "                 kernel_size,\n",
    "                 padding='valid',\n",
    "                 activation='relu',\n",
    "                 strides=1))"
   ]
  },
  {
   "cell_type": "markdown",
   "metadata": {},
   "source": [
    "We use max pooling:"
   ]
  },
  {
   "cell_type": "code",
   "execution_count": 29,
   "metadata": {},
   "outputs": [],
   "source": [
    "model_one_hot.add(GlobalMaxPooling1D())"
   ]
  },
  {
   "cell_type": "markdown",
   "metadata": {},
   "source": [
    "We add a vanilla hidden layer:"
   ]
  },
  {
   "cell_type": "code",
   "execution_count": 30,
   "metadata": {},
   "outputs": [],
   "source": [
    "model_one_hot.add(Dense(hidden_dims, activation='relu'))\n",
    "model_one_hot.add(Dropout(0.2))"
   ]
  },
  {
   "cell_type": "markdown",
   "metadata": {},
   "source": [
    "We project onto a single unit output layer, and squash it with a sigmoid:"
   ]
  },
  {
   "cell_type": "code",
   "execution_count": 31,
   "metadata": {},
   "outputs": [],
   "source": [
    "model_one_hot.add(Dense(1, activation='sigmoid'))"
   ]
  },
  {
   "cell_type": "markdown",
   "metadata": {},
   "source": [
    "Compile the model:"
   ]
  },
  {
   "cell_type": "code",
   "execution_count": 32,
   "metadata": {},
   "outputs": [],
   "source": [
    "model_one_hot.compile(loss='binary_crossentropy',\n",
    "              optimizer='adam',\n",
    "              metrics=['accuracy'])"
   ]
  },
  {
   "cell_type": "markdown",
   "metadata": {},
   "source": [
    "### Show model"
   ]
  },
  {
   "cell_type": "code",
   "execution_count": 33,
   "metadata": {},
   "outputs": [
    {
     "data": {
      "image/png": "[encoded data removed]",
      "text/plain": [
       "<IPython.core.display.Image object>"
      ]
     },
     "execution_count": 33,
     "metadata": {},
     "output_type": "execute_result"
    }
   ],
   "source": [
    "plot_model(model_one_hot, show_shapes=True)"
   ]
  },
  {
   "cell_type": "markdown",
   "metadata": {},
   "source": [
    "### Train the model"
   ]
  },
  {
   "cell_type": "code",
   "execution_count": 34,
   "metadata": {},
   "outputs": [
    {
     "name": "stdout",
     "output_type": "stream",
     "text": [
      "Epoch 1/4\n",
      "704/704 [==============================] - 363s 515ms/step - loss: 0.4461 - accuracy: 0.7704 - val_loss: 0.3412 - val_accuracy: 0.8524\n",
      "Epoch 2/4\n",
      "704/704 [==============================] - 363s 515ms/step - loss: 0.2458 - accuracy: 0.8991 - val_loss: 0.2680 - val_accuracy: 0.8828\n",
      "Epoch 3/4\n",
      "704/704 [==============================] - 368s 523ms/step - loss: 0.1382 - accuracy: 0.9494 - val_loss: 0.2744 - val_accuracy: 0.8892\n",
      "Epoch 4/4\n",
      "704/704 [==============================] - 363s 515ms/step - loss: 0.0763 - accuracy: 0.9733 - val_loss: 0.2875 - val_accuracy: 0.8896\n"
     ]
    }
   ],
   "source": [
    "history = model_one_hot.fit(x_train, y_train,\n",
    "          batch_size=batch_size,\n",
    "          epochs=epochs,\n",
    "          validation_split=0.1)"
   ]
  },
  {
   "cell_type": "code",
   "execution_count": 35,
   "metadata": {},
   "outputs": [
    {
     "data": {
      "text/plain": [
       "(5000, 5000)"
      ]
     },
     "execution_count": 35,
     "metadata": {},
     "output_type": "execute_result"
    }
   ],
   "source": [
    "one_hot = model_one_hot.get_weights()[0]\n",
    "one_hot.shape"
   ]
  },
  {
   "cell_type": "code",
   "execution_count": 36,
   "metadata": {},
   "outputs": [
    {
     "data": {
      "text/plain": [
       "array([1., 0., 0., ..., 0., 0., 0.], dtype=float32)"
      ]
     },
     "execution_count": 36,
     "metadata": {},
     "output_type": "execute_result"
    }
   ],
   "source": [
    "one_hot[0]"
   ]
  },
  {
   "cell_type": "markdown",
   "metadata": {},
   "source": [
    "## Evaluate the results"
   ]
  },
  {
   "cell_type": "code",
   "execution_count": 37,
   "metadata": {},
   "outputs": [
    {
     "name": "stdout",
     "output_type": "stream",
     "text": [
      "Testing Accuracy: 88.89%\n"
     ]
    }
   ],
   "source": [
    "loss, accuracy = model_one_hot.evaluate(x_test, y_test, verbose=False)\n",
    "print(f\"Testing Accuracy: {accuracy*100:.2f}%\")"
   ]
  },
  {
   "cell_type": "code",
   "execution_count": null,
   "metadata": {},
   "outputs": [],
   "source": []
  }
 ],
 "metadata": {
  "kernelspec": {
   "display_name": "Python 3",
   "language": "python",
   "name": "python3"
  },
  "language_info": {
   "codemirror_mode": {
    "name": "ipython",
    "version": 3
   },
   "file_extension": ".py",
   "mimetype": "text/x-python",
   "name": "python",
   "nbconvert_exporter": "python",
   "pygments_lexer": "ipython3",
   "version": "3.8.10"
  }
 },
 "nbformat": 4,
 "nbformat_minor": 4
}
