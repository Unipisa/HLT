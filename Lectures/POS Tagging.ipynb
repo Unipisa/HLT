{
 "cells": [
  {
   "cell_type": "markdown",
   "metadata": {},
   "source": [
    "# POS Tagging\n",
    "\n",
    "Build a multiclass classifier to predict the POS tag of each word. Use a sliding window, i.e. represent each word by the concatenation of the embeddings of 5 words, i.e. the word, two preceding and two following words. Add a special padding word to the embeddings to represent words close to the beginning or end of a sentence."
   ]
  },
  {
   "cell_type": "markdown",
   "metadata": {},
   "source": [
    "Get the Brown corpus."
   ]
  },
  {
   "cell_type": "code",
   "execution_count": 1,
   "metadata": {
    "tags": []
   },
   "outputs": [
    {
     "name": "stderr",
     "output_type": "stream",
     "text": [
      "[nltk_data] Downloading package brown to\n",
      "[nltk_data]     /home/medialab/attardi/nltk_data...\n",
      "[nltk_data]   Package brown is already up-to-date!\n"
     ]
    },
    {
     "data": {
      "text/plain": [
       "True"
      ]
     },
     "execution_count": 1,
     "metadata": {},
     "output_type": "execute_result"
    }
   ],
   "source": [
    "import nltk\n",
    "nltk.download('brown')"
   ]
  },
  {
   "cell_type": "markdown",
   "metadata": {},
   "source": [
    "Get the tokenized and tagged with Universal POS sentences from the \"news\" category from the Brown corpus:"
   ]
  },
  {
   "cell_type": "code",
   "execution_count": 2,
   "metadata": {},
   "outputs": [
    {
     "name": "stderr",
     "output_type": "stream",
     "text": [
      "[nltk_data] Downloading package universal_tagset to\n",
      "[nltk_data]     /home/medialab/attardi/nltk_data...\n",
      "[nltk_data]   Package universal_tagset is already up-to-date!\n"
     ]
    }
   ],
   "source": [
    "from nltk.corpus import brown\n",
    "nltk.download('universal_tagset')\n",
    "brown_sents = brown.tagged_sents(categories='news', tagset='universal')"
   ]
  },
  {
   "cell_type": "markdown",
   "metadata": {},
   "source": [
    "See an example"
   ]
  },
  {
   "cell_type": "code",
   "execution_count": 3,
   "metadata": {},
   "outputs": [
    {
     "data": {
      "text/plain": [
       "[('The', 'DET'),\n",
       " ('Fulton', 'NOUN'),\n",
       " ('County', 'NOUN'),\n",
       " ('Grand', 'ADJ'),\n",
       " ('Jury', 'NOUN'),\n",
       " ('said', 'VERB'),\n",
       " ('Friday', 'NOUN'),\n",
       " ('an', 'DET'),\n",
       " ('investigation', 'NOUN'),\n",
       " ('of', 'ADP'),\n",
       " (\"Atlanta's\", 'NOUN'),\n",
       " ('recent', 'ADJ'),\n",
       " ('primary', 'NOUN'),\n",
       " ('election', 'NOUN'),\n",
       " ('produced', 'VERB'),\n",
       " ('``', '.'),\n",
       " ('no', 'DET'),\n",
       " ('evidence', 'NOUN'),\n",
       " (\"''\", '.'),\n",
       " ('that', 'ADP'),\n",
       " ('any', 'DET'),\n",
       " ('irregularities', 'NOUN'),\n",
       " ('took', 'VERB'),\n",
       " ('place', 'NOUN'),\n",
       " ('.', '.')]"
      ]
     },
     "execution_count": 3,
     "metadata": {},
     "output_type": "execute_result"
    }
   ],
   "source": [
    "brown_sents[0]"
   ]
  },
  {
   "cell_type": "markdown",
   "metadata": {},
   "source": [
    "## Split into train and test\n",
    "Use all but the last 1000 sentences to train the classifier. (It should be better to choose them randomly)."
   ]
  },
  {
   "cell_type": "code",
   "execution_count": 4,
   "metadata": {},
   "outputs": [],
   "source": [
    "brown_train = brown_sents[:-1000]\n",
    "brown_test = brown_sents[-1000:]"
   ]
  },
  {
   "cell_type": "markdown",
   "metadata": {},
   "source": [
    "## Build dictionary of words and tags\n",
    "\n",
    "Vocabularies of words and tags:"
   ]
  },
  {
   "cell_type": "code",
   "execution_count": 5,
   "metadata": {},
   "outputs": [],
   "source": [
    "word_set = set()\n",
    "tag_set = set()\n",
    "for sentence in brown_sents:\n",
    "    for word, tag in sentence:\n",
    "        word_set.add(word)\n",
    "        tag_set.add(tag)"
   ]
  },
  {
   "cell_type": "markdown",
   "metadata": {},
   "source": [
    "Dictionaries of words and tags:"
   ]
  },
  {
   "cell_type": "code",
   "execution_count": 6,
   "metadata": {},
   "outputs": [],
   "source": [
    "word_index = {word: idx + 2 for idx, word in enumerate(word_set)} # + 2 leave 0 and 1 for padding and unknown\n",
    "    \n",
    "tag_index = {tag: idx for idx,tag in enumerate(tag_set)}\n",
    "idx2tag = list(tag_set)\n",
    "\n",
    "n_words = len(word_index) + 2 # for padding and OOV\n",
    "n_tags = len(tag_set)"
   ]
  },
  {
   "cell_type": "markdown",
   "metadata": {},
   "source": [
    "See the tag set of Universal Dependencies:"
   ]
  },
  {
   "cell_type": "code",
   "execution_count": 7,
   "metadata": {
    "scrolled": true
   },
   "outputs": [
    {
     "name": "stdout",
     "output_type": "stream",
     "text": [
      "['NOUN', 'CONJ', '.', 'PRT', 'ADJ', 'VERB', 'DET', 'X', 'PRON', 'NUM', 'ADV', 'ADP']\n"
     ]
    }
   ],
   "source": [
    "print(idx2tag)"
   ]
  },
  {
   "cell_type": "markdown",
   "metadata": {},
   "source": [
    "## Data representation\n",
    "\n",
    "We will use a Neural Net classifier for POS tagging.\n",
    "\n",
    "In order to provide some context for the classifer, we represent each token as an n-gram of 5 tokens, considering 2 tokens on the left and 2 on the right."
   ]
  },
  {
   "cell_type": "code",
   "execution_count": 8,
   "metadata": {},
   "outputs": [],
   "source": [
    "import numpy as np\n",
    "\n",
    "def build_ngrams(sentences, ctx_size, word_index, tag_index):\n",
    "    \"\"\"\n",
    "    Turn sentences into n-grams of word indices, taken from word_index.\n",
    "    :param sentences: a list of sentences.\n",
    "    :param ctx_size: numer of tokens to consider before and after each word.\n",
    "    :param word_index: dictionary of words.\n",
    "    :param tag_index: dictionary of tags.\n",
    "    :return: the list of n-grams and the list of corresponding labels.\n",
    "    \"\"\"\n",
    "    padding_idx = 0\n",
    "    unknown_idx = 1\n",
    "    \n",
    "    X = []\n",
    "    Y = []\n",
    "    \n",
    "    for sentence in sentences:\n",
    "        for n, (word, tag) in enumerate(sentence):\n",
    "            word_indices = []\n",
    "            for i in range(n - ctx_size, n + ctx_size + 1):\n",
    "                # add padding\n",
    "                if i < 0 or i >= len(sentence):\n",
    "                    word_indices.append(padding_idx)\n",
    "                    continue\n",
    "                gram = sentence[i][0]\n",
    "                # index of either word, lowercase word or unknown\n",
    "                word_idx = word_index.get(gram) or word_index.get(gram.lower(),\n",
    "                                                                  unknown_idx)\n",
    "                word_indices.append(word_idx)\n",
    "\n",
    "            X.append(word_indices)\n",
    "            Y.append(tag_index[tag])\n",
    "            \n",
    "    return np.asarray(X), np.asarray(Y)                    "
   ]
  },
  {
   "cell_type": "markdown",
   "metadata": {},
   "source": [
    "## Build the data set of n-grams"
   ]
  },
  {
   "cell_type": "code",
   "execution_count": 9,
   "metadata": {},
   "outputs": [],
   "source": [
    "ctx_size = 2\n",
    "window_size = 2 * ctx_size + 1\n",
    "x_train_ng, y_train = build_ngrams(brown_train, ctx_size, word_index, tag_index)\n",
    "x_test_ng, y_test = build_ngrams(brown_test, ctx_size, word_index, tag_index)"
   ]
  },
  {
   "cell_type": "code",
   "execution_count": 10,
   "metadata": {},
   "outputs": [
    {
     "data": {
      "text/plain": [
       "((77552, 5), (77552,), (23002, 5), (23002,))"
      ]
     },
     "execution_count": 10,
     "metadata": {},
     "output_type": "execute_result"
    }
   ],
   "source": [
    "x_train_ng.shape, y_train.shape, x_test_ng.shape, y_test.shape"
   ]
  },
  {
   "cell_type": "code",
   "execution_count": 11,
   "metadata": {},
   "outputs": [
    {
     "data": {
      "text/plain": [
       "array([[   0,    0, 1825, 4989, 9060],\n",
       "       [   0, 1825, 4989, 9060, 7517],\n",
       "       [1825, 4989, 9060, 7517, 7503]])"
      ]
     },
     "execution_count": 11,
     "metadata": {},
     "output_type": "execute_result"
    }
   ],
   "source": [
    "x_train_ng[:3]"
   ]
  },
  {
   "cell_type": "markdown",
   "metadata": {},
   "source": [
    "## NN Classifier\n",
    "\n",
    "The NN classifier will produce a probability distribution for each tag:\n",
    "\n",
    "   $P(t_{i,j}|w_{i-2}w_{i-1}w_iw_{i+1}w_{i+2}) = softmax(W\\cdot [E(w_{i-2})...E(w_{i+2}] + b))$\n",
    "\n",
    "where $E(w)$ is the embedding for word $w$.\n",
    "\n",
    "The predicted output will be the tag with the highest probability, i.e.:\n",
    "\n",
    "   $y_i = argmax_{j}P(t_{i,j}|w_{i-2}...w_{i+2})$\n",
    "\n",
    "The output of the classifier should be a vector of size as the number of possible tags.\n",
    "We can obtain this using function `to_categorical`, to turn tag indices into a one-hot representation:"
   ]
  },
  {
   "cell_type": "code",
   "execution_count": 12,
   "metadata": {},
   "outputs": [
    {
     "name": "stderr",
     "output_type": "stream",
     "text": [
      "/usr/lib/python3/dist-packages/requests/__init__.py:89: RequestsDependencyWarning: urllib3 (1.26.8) or chardet (3.0.4) doesn't match a supported version!\n",
      "  warnings.warn(\"urllib3 ({}) or chardet ({}) doesn't match a supported \"\n"
     ]
    },
    {
     "data": {
      "text/plain": [
       "\u001b[0;31mSignature:\u001b[0m \u001b[0mto_categorical\u001b[0m\u001b[0;34m(\u001b[0m\u001b[0my\u001b[0m\u001b[0;34m,\u001b[0m \u001b[0mnum_classes\u001b[0m\u001b[0;34m=\u001b[0m\u001b[0;32mNone\u001b[0m\u001b[0;34m,\u001b[0m \u001b[0mdtype\u001b[0m\u001b[0;34m=\u001b[0m\u001b[0;34m'float32'\u001b[0m\u001b[0;34m)\u001b[0m\u001b[0;34m\u001b[0m\u001b[0;34m\u001b[0m\u001b[0m\n",
       "\u001b[0;31mDocstring:\u001b[0m\n",
       "Converts a class vector (integers) to binary class matrix.\n",
       "\n",
       "E.g. for use with `categorical_crossentropy`.\n",
       "\n",
       "Args:\n",
       "    y: Array-like with class values to be converted into a matrix\n",
       "        (integers from 0 to `num_classes - 1`).\n",
       "    num_classes: Total number of classes. If `None`, this would be inferred\n",
       "      as `max(y) + 1`.\n",
       "    dtype: The data type expected by the input. Default: `'float32'`.\n",
       "\n",
       "Returns:\n",
       "    A binary matrix representation of the input. The class axis is placed\n",
       "    last.\n",
       "\n",
       "Example:\n",
       "\n",
       ">>> a = tf.keras.utils.to_categorical([0, 1, 2, 3], num_classes=4)\n",
       ">>> a = tf.constant(a, shape=[4, 4])\n",
       ">>> print(a)\n",
       "tf.Tensor(\n",
       "  [[1. 0. 0. 0.]\n",
       "   [0. 1. 0. 0.]\n",
       "   [0. 0. 1. 0.]\n",
       "   [0. 0. 0. 1.]], shape=(4, 4), dtype=float32)\n",
       "\n",
       ">>> b = tf.constant([.9, .04, .03, .03,\n",
       "...                  .3, .45, .15, .13,\n",
       "...                  .04, .01, .94, .05,\n",
       "...                  .12, .21, .5, .17],\n",
       "...                 shape=[4, 4])\n",
       ">>> loss = tf.keras.backend.categorical_crossentropy(a, b)\n",
       ">>> print(np.around(loss, 5))\n",
       "[0.10536 0.82807 0.1011  1.77196]\n",
       "\n",
       ">>> loss = tf.keras.backend.categorical_crossentropy(a, a)\n",
       ">>> print(np.around(loss, 5))\n",
       "[0. 0. 0. 0.]\n",
       "\u001b[0;31mFile:\u001b[0m      /usr/local/lib/python3.8/dist-packages/keras/utils/np_utils.py\n",
       "\u001b[0;31mType:\u001b[0m      function\n"
      ]
     },
     "metadata": {},
     "output_type": "display_data"
    }
   ],
   "source": [
    "from tensorflow.keras.utils import to_categorical\n",
    "to_categorical?"
   ]
  },
  {
   "cell_type": "markdown",
   "metadata": {},
   "source": [
    "Convert tags into one-hot representation:"
   ]
  },
  {
   "cell_type": "code",
   "execution_count": 13,
   "metadata": {},
   "outputs": [],
   "source": [
    "y_train_cat = to_categorical(y_train, num_classes=n_tags)"
   ]
  },
  {
   "cell_type": "markdown",
   "metadata": {},
   "source": [
    "See one result in categorical form:"
   ]
  },
  {
   "cell_type": "code",
   "execution_count": 14,
   "metadata": {},
   "outputs": [
    {
     "data": {
      "text/plain": [
       "(5, array([0., 0., 0., 0., 0., 1., 0., 0., 0., 0., 0., 0.], dtype=float32))"
      ]
     },
     "execution_count": 14,
     "metadata": {},
     "output_type": "execute_result"
    }
   ],
   "source": [
    "y_train[5], y_train_cat[5]"
   ]
  },
  {
   "cell_type": "markdown",
   "metadata": {},
   "source": [
    "### Build the model"
   ]
  },
  {
   "cell_type": "code",
   "execution_count": 15,
   "metadata": {
    "tags": []
   },
   "outputs": [],
   "source": [
    "from tensorflow.keras.models import Sequential\n",
    "from tensorflow.keras.layers import Embedding, Flatten\n",
    "from tensorflow.keras.layers import Dropout, Dense\n",
    "from tensorflow.keras.losses import categorical_crossentropy"
   ]
  },
  {
   "cell_type": "markdown",
   "metadata": {},
   "source": [
    "Hyperparameters"
   ]
  },
  {
   "cell_type": "code",
   "execution_count": 16,
   "metadata": {
    "tags": []
   },
   "outputs": [],
   "source": [
    "MAX_SEQUENCE_LENGTH = 250\n",
    "HIDDEN_SIZE = 128\n",
    "EMBEDDING_DIM = 50\n",
    "EPOCHS = 4\n",
    "BATCH_SIZE = 64"
   ]
  },
  {
   "cell_type": "code",
   "execution_count": 17,
   "metadata": {},
   "outputs": [],
   "source": [
    "model_nn = Sequential()\n",
    "model_nn.add(Embedding(n_words, EMBEDDING_DIM, input_length=window_size))\n",
    "model_nn.add(Flatten())\n",
    "model_nn.add(Dropout(0.2)) # optional\n",
    "model_nn.add(Dense(HIDDEN_SIZE, activation='relu'))\n",
    "model_nn.add(Dropout(0.2)) # optional\n",
    "model_nn.add(Dense(n_tags, activation='softmax'))\n",
    "model_nn.compile(loss='categorical_crossentropy',\n",
    "              optimizer='adam',\n",
    "              metrics=['accuracy'])"
   ]
  },
  {
   "cell_type": "code",
   "execution_count": 18,
   "metadata": {},
   "outputs": [
    {
     "data": {
      "image/png": "[encoded data removed]",
      "text/plain": [
       "<IPython.core.display.Image object>"
      ]
     },
     "execution_count": 18,
     "metadata": {},
     "output_type": "execute_result"
    }
   ],
   "source": [
    "from tensorflow.keras.utils import plot_model\n",
    "\n",
    "plot_model(model_nn, show_shapes=True)"
   ]
  },
  {
   "cell_type": "markdown",
   "metadata": {},
   "source": [
    "### Train the model"
   ]
  },
  {
   "cell_type": "code",
   "execution_count": 19,
   "metadata": {},
   "outputs": [
    {
     "name": "stdout",
     "output_type": "stream",
     "text": [
      "Epoch 1/4\n",
      "1212/1212 [==============================] - 9s 7ms/step - loss: 0.5250 - accuracy: 0.8484\n",
      "Epoch 2/4\n",
      "1212/1212 [==============================] - 8s 7ms/step - loss: 0.0925 - accuracy: 0.9731\n",
      "Epoch 3/4\n",
      "1212/1212 [==============================] - 8s 7ms/step - loss: 0.0411 - accuracy: 0.9880\n",
      "Epoch 4/4\n",
      "1212/1212 [==============================] - 8s 7ms/step - loss: 0.0230 - accuracy: 0.9933\n"
     ]
    }
   ],
   "source": [
    "history = model_nn.fit(x_train_ng, y_train_cat, epochs=EPOCHS, batch_size=BATCH_SIZE)"
   ]
  },
  {
   "cell_type": "markdown",
   "metadata": {},
   "source": [
    "### Evaluate the tagger"
   ]
  },
  {
   "cell_type": "markdown",
   "metadata": {},
   "source": [
    "Call `predict` to obtain a probability distribution for the classes and then take the `argmax`:"
   ]
  },
  {
   "cell_type": "code",
   "execution_count": 20,
   "metadata": {},
   "outputs": [],
   "source": [
    "tag_prob_ng = model_nn.predict(x_test_ng)\n",
    "y_pred_ng = tag_prob_ng.argmax(1)"
   ]
  },
  {
   "cell_type": "code",
   "execution_count": 21,
   "metadata": {},
   "outputs": [],
   "source": [
    "from sklearn.metrics import accuracy_score, precision_score, recall_score, f1_score\n",
    "\n",
    "def show_accuracy(y_test, y_pred):\n",
    "    acc = accuracy_score(y_test, y_pred) * 100\n",
    "    pr = precision_score(y_test, y_pred, average='macro', zero_division=0) * 100\n",
    "    rc = recall_score(y_test, y_pred, average='macro', zero_division=0) * 100\n",
    "    f1 = f1_score(y_test, y_pred, average='macro', zero_division=0) * 100\n",
    "    print(\"Accuracy: %.2f, Precision: %.2f, Recall: %.2f, F1: %.2f\" %\n",
    "          (acc, pr, rc, f1))"
   ]
  },
  {
   "cell_type": "code",
   "execution_count": 22,
   "metadata": {},
   "outputs": [
    {
     "name": "stdout",
     "output_type": "stream",
     "text": [
      "Accuracy: 93.37, Precision: 94.97, Recall: 85.00, F1: 87.00\n"
     ]
    }
   ],
   "source": [
    "show_accuracy([idx2tag[i] for i in y_test], [idx2tag[i] for i in y_pred_ng])"
   ]
  },
  {
   "cell_type": "code",
   "execution_count": 23,
   "metadata": {},
   "outputs": [
    {
     "name": "stdout",
     "output_type": "stream",
     "text": [
      "              precision    recall  f1-score   support\n",
      "\n",
      "           .     1.0000    1.0000    1.0000      2898\n",
      "         ADJ     0.8656    0.7547    0.8063      1818\n",
      "         ADP     0.9646    0.9699    0.9673      2895\n",
      "         ADV     0.9033    0.8318    0.8661       999\n",
      "        CONJ     0.9911    0.9926    0.9918       673\n",
      "         DET     0.9930    0.9941    0.9936      2712\n",
      "        NOUN     0.8840    0.9510    0.9163      5984\n",
      "         NUM     0.9795    0.8093    0.8863       472\n",
      "        PRON     0.9834    0.9769    0.9802       607\n",
      "         PRT     0.9174    0.8898    0.9034       599\n",
      "        VERB     0.9144    0.9083    0.9113      3304\n",
      "           X     1.0000    0.1220    0.2174        41\n",
      "\n",
      "    accuracy                         0.9337     23002\n",
      "   macro avg     0.9497    0.8500    0.8700     23002\n",
      "weighted avg     0.9341    0.9337    0.9325     23002\n",
      "\n"
     ]
    }
   ],
   "source": [
    "from sklearn.metrics import classification_report\n",
    "print(classification_report([idx2tag[i] for i in y_test], [idx2tag[i] for i in y_pred_ng], digits=4, zero_division=0))"
   ]
  },
  {
   "cell_type": "markdown",
   "metadata": {},
   "source": [
    "### Show the confusion matrix"
   ]
  },
  {
   "cell_type": "code",
   "execution_count": 24,
   "metadata": {},
   "outputs": [
    {
     "data": {
      "text/plain": [
       "<sklearn.metrics._plot.confusion_matrix.ConfusionMatrixDisplay at 0x7f3e0737a250>"
      ]
     },
     "execution_count": 24,
     "metadata": {},
     "output_type": "execute_result"
    },
    {
     "data": {
      "image/png": "[encoded data removed]",
      "text/plain": [
       "<Figure size 576x576 with 1 Axes>"
      ]
     },
     "metadata": {
      "needs_background": "light"
     },
     "output_type": "display_data"
    }
   ],
   "source": [
    "from sklearn.metrics import ConfusionMatrixDisplay\n",
    "import matplotlib.pyplot as plt\n",
    "fig, ax = plt.subplots(figsize=(8, 8))\n",
    "plt.rcParams.update({'font.size': 12})\n",
    "\n",
    "ConfusionMatrixDisplay.from_predictions(y_test, y_pred_ng,\n",
    "                                        display_labels=tag_set, cmap='YlOrRd',\n",
    "                                        colorbar=False, ax=ax)"
   ]
  },
  {
   "cell_type": "markdown",
   "metadata": {},
   "source": [
    "## POS Tagger with Conv1D\n",
    "Instead of creating the ngrams explicitly, one could use a `Conv1D` layer to group tokens. "
   ]
  },
  {
   "cell_type": "code",
   "execution_count": 25,
   "metadata": {},
   "outputs": [],
   "source": [
    "unknown_idx = 1\n",
    "x_train_cnn = [[word_index.get(word, word_index.get(word.lower(), unknown_idx))\n",
    "            for word,tag in sentence] for sentence in brown_train]\n",
    "y_train_cnn = [[tag_index[tag] for word,tag in sentence]\n",
    "                                       for sentence in brown_train]\n",
    "x_test_cnn = [[word_index.get(word, word_index.get(word.lower(), unknown_idx))\n",
    "                    for word,tag in sentence] for sentence in brown_test]\n",
    "y_test_cnn = [[tag_index[tag] for word,tag in sentence]\n",
    "                                       for sentence in brown_test]"
   ]
  },
  {
   "cell_type": "code",
   "execution_count": 26,
   "metadata": {},
   "outputs": [],
   "source": [
    "from tensorflow.keras.preprocessing.sequence import pad_sequences\n",
    "\n",
    "tag_pad = n_tags # use this value to distinguish pad in tags\n",
    "\n",
    "x_train_cnn = pad_sequences(x_train_cnn, maxlen=MAX_SEQUENCE_LENGTH, padding='post', truncating='post')\n",
    "x_test_cnn = pad_sequences(x_test_cnn, maxlen=MAX_SEQUENCE_LENGTH, padding='post', truncating='post')\n",
    "y_train_cnn = pad_sequences(y_train_cnn, maxlen=MAX_SEQUENCE_LENGTH, padding='post', truncating='post',\n",
    "                          value=tag_pad)\n",
    "y_test_cnn = pad_sequences(y_test_cnn, maxlen=MAX_SEQUENCE_LENGTH, padding='post', truncating='post',\n",
    "                          value=tag_pad)"
   ]
  },
  {
   "cell_type": "code",
   "execution_count": 28,
   "metadata": {},
   "outputs": [],
   "source": [
    "y_train_cnn_cat = to_categorical(y_train_cnn, num_classes=n_tags+1) # <PAD>"
   ]
  },
  {
   "cell_type": "markdown",
   "metadata": {},
   "source": [
    "### Build the model"
   ]
  },
  {
   "cell_type": "code",
   "execution_count": 29,
   "metadata": {},
   "outputs": [],
   "source": [
    "filters = 250 #HIDDEN_SIZE\n",
    "\n",
    "from tensorflow.keras.layers import Conv1D\n",
    "\n",
    "model_cnn = Sequential()\n",
    "model_cnn.add(Embedding(n_words, EMBEDDING_DIM, input_length=MAX_SEQUENCE_LENGTH))\n",
    "model_cnn.add(Conv1D(filters, window_size, padding='same', activation='relu'))\n",
    "model_cnn.add(Dense(HIDDEN_SIZE, activation='relu'))\n",
    "model_cnn.add(Dropout(0.2)) # optional\n",
    "model_cnn.add(Dense(n_tags+1, activation='softmax'))\n",
    "model_cnn.compile(loss='categorical_crossentropy',\n",
    "              optimizer='adam',\n",
    "              metrics=['accuracy'])"
   ]
  },
  {
   "cell_type": "code",
   "execution_count": 30,
   "metadata": {},
   "outputs": [
    {
     "data": {
      "image/png": "[encoded data removed]",
      "text/plain": [
       "<IPython.core.display.Image object>"
      ]
     },
     "execution_count": 30,
     "metadata": {},
     "output_type": "execute_result"
    }
   ],
   "source": [
    "plot_model(model_cnn, show_shapes=True)"
   ]
  },
  {
   "cell_type": "code",
   "execution_count": 31,
   "metadata": {},
   "outputs": [
    {
     "name": "stdout",
     "output_type": "stream",
     "text": [
      "Epoch 1/4\n",
      "57/57 [==============================] - 5s 87ms/step - loss: 0.7362 - accuracy: 0.9256\n",
      "Epoch 2/4\n",
      "57/57 [==============================] - 5s 85ms/step - loss: 0.0791 - accuracy: 0.9782\n",
      "Epoch 3/4\n",
      "57/57 [==============================] - 5s 84ms/step - loss: 0.0286 - accuracy: 0.9919\n",
      "Epoch 4/4\n",
      "57/57 [==============================] - 5s 84ms/step - loss: 0.0119 - accuracy: 0.9969\n"
     ]
    }
   ],
   "source": [
    "history = model_cnn.fit(x_train_cnn, y_train_cnn_cat, epochs=EPOCHS, batch_size=BATCH_SIZE)"
   ]
  },
  {
   "cell_type": "code",
   "execution_count": 32,
   "metadata": {},
   "outputs": [],
   "source": [
    "tag_pred_cnn = model_cnn.predict(x_test_cnn)\n",
    "y_pred_cnn = tag_pred_cnn.argmax(2)"
   ]
  },
  {
   "cell_type": "markdown",
   "metadata": {},
   "source": [
    "Remove pads (somewhat arbitrarily assign them to X):"
   ]
  },
  {
   "cell_type": "code",
   "execution_count": 33,
   "metadata": {},
   "outputs": [],
   "source": [
    "y_pred_cnn = [[pred[i] if pred[i] != tag_pad else tag_index['X'] for i,t in enumerate(gold) if t != tag_pad] for gold,pred in zip(y_test_cnn,y_pred_cnn)]\n",
    "y_pred_cnn_flat = [item for sublist in y_pred_cnn for item in sublist]"
   ]
  },
  {
   "cell_type": "code",
   "execution_count": 34,
   "metadata": {
    "tags": []
   },
   "outputs": [
    {
     "name": "stdout",
     "output_type": "stream",
     "text": [
      "Accuracy: 92.25, Precision: 91.22, Recall: 81.93, F1: 84.51\n"
     ]
    }
   ],
   "source": [
    "show_accuracy(y_test, y_pred_cnn_flat)"
   ]
  },
  {
   "cell_type": "code",
   "execution_count": 35,
   "metadata": {},
   "outputs": [
    {
     "data": {
      "text/plain": [
       "<sklearn.metrics._plot.confusion_matrix.ConfusionMatrixDisplay at 0x7f3e04d9a520>"
      ]
     },
     "execution_count": 35,
     "metadata": {},
     "output_type": "execute_result"
    },
    {
     "data": {
      "image/png": "[encoded data removed]",
      "text/plain": [
       "<Figure size 576x576 with 1 Axes>"
      ]
     },
     "metadata": {
      "needs_background": "light"
     },
     "output_type": "display_data"
    }
   ],
   "source": [
    "fig_cnn, ax_cnn = plt.subplots(figsize=(8, 8))\n",
    "plt.rcParams.update({'font.size': 12})\n",
    "ConfusionMatrixDisplay.from_predictions(y_test, y_pred_cnn_flat, cmap='YlOrRd',\n",
    "                                        display_labels=tag_set, colorbar=False, ax=ax_cnn)"
   ]
  },
  {
   "cell_type": "markdown",
   "metadata": {},
   "source": [
    "# Classification report"
   ]
  },
  {
   "cell_type": "code",
   "execution_count": 36,
   "metadata": {},
   "outputs": [],
   "source": [
    "from sklearn.metrics import classification_report"
   ]
  },
  {
   "cell_type": "code",
   "execution_count": 37,
   "metadata": {},
   "outputs": [
    {
     "name": "stdout",
     "output_type": "stream",
     "text": [
      "              precision    recall  f1-score   support\n",
      "\n",
      "           .     0.9997    0.9993    0.9995      2898\n",
      "         ADJ     0.8611    0.7195    0.7839      1818\n",
      "         ADP     0.9255    0.9786    0.9513      2895\n",
      "         ADV     0.8783    0.7367    0.8013       999\n",
      "        CONJ     0.9940    0.9777    0.9858       673\n",
      "         DET     0.9966    0.9845    0.9905      2712\n",
      "        NOUN     0.8706    0.9544    0.9106      5984\n",
      "         NUM     0.9430    0.7013    0.8044       472\n",
      "        PRON     0.9897    0.9473    0.9680       607\n",
      "         PRT     0.9133    0.8264    0.8677       599\n",
      "        VERB     0.9080    0.9086    0.9083      3304\n",
      "           X     0.6667    0.0976    0.1702        41\n",
      "\n",
      "    accuracy                         0.9225     23002\n",
      "   macro avg     0.9122    0.8193    0.8451     23002\n",
      "weighted avg     0.9226    0.9225    0.9203     23002\n",
      "\n"
     ]
    }
   ],
   "source": [
    "print(classification_report([idx2tag[i] for i in y_test], [idx2tag[i] for i in y_pred_cnn_flat],\n",
    "                            digits=4, zero_division=0))"
   ]
  },
  {
   "cell_type": "markdown",
   "metadata": {
    "tags": []
   },
   "source": [
    "## HMM Tagger"
   ]
  },
  {
   "cell_type": "code",
   "execution_count": 38,
   "metadata": {},
   "outputs": [],
   "source": [
    "from nltk.tag.hmm import HiddenMarkovModelTrainer"
   ]
  },
  {
   "cell_type": "code",
   "execution_count": 39,
   "metadata": {},
   "outputs": [],
   "source": [
    "tag_set = list(set((tag for sent in brown_train for word,tag in sent)))\n",
    "symbols = list(set((word for sent in brown_train for word,tag in sent)))"
   ]
  },
  {
   "cell_type": "markdown",
   "metadata": {},
   "source": [
    "### Train the HMM"
   ]
  },
  {
   "cell_type": "code",
   "execution_count": 40,
   "metadata": {},
   "outputs": [],
   "source": [
    "trainer = HiddenMarkovModelTrainer(tag_set, symbols)\n",
    "hmm = trainer.train(brown_train)"
   ]
  },
  {
   "cell_type": "markdown",
   "metadata": {},
   "source": [
    "### Test the HMM"
   ]
  },
  {
   "cell_type": "code",
   "execution_count": 41,
   "metadata": {
    "tags": []
   },
   "outputs": [
    {
     "name": "stdout",
     "output_type": "stream",
     "text": [
      "accuracy over 23002 tokens: 46.58\n"
     ]
    }
   ],
   "source": [
    "hmm.test(brown_test, verbose=False)"
   ]
  },
  {
   "cell_type": "markdown",
   "metadata": {},
   "source": [
    "# POS Tagger based on Maximum Entropy Markov Model "
   ]
  },
  {
   "cell_type": "code",
   "execution_count": 42,
   "metadata": {},
   "outputs": [],
   "source": [
    "import numpy as np\n",
    "import re\n",
    "from nltk.classify.maxent import MaxentClassifier"
   ]
  },
  {
   "cell_type": "markdown",
   "metadata": {},
   "source": [
    "### The feature extractor\n",
    "The MaxEnt classifiers relies on hand crafted feature representations for the input words.\n",
    "\n",
    "The features we use:\n",
    "<ul>\n",
    "    <li>morphological aspects of English words, e.g. words ending in 'ed', 'ing', or 'ly'</li>\n",
    "    <li>capitalization, not at the beginning of a sentence</li>\n",
    "    <li>presence of the word in a list of closed POS categories, e.g. 'CONJ', 'DET', 'PRON', 'PRT</li>\n",
    "    <li>aspects of the previos word: e.g capitalization, particle</li>\n",
    "</ul>\n",
    "You can think of many such features.\n",
    "\n",
    "Until a few years ago, the SoTA POS taggers were using a rich feature set. See for example:\n",
    "\n",
    "Giménez, J., and Márquez, L. 2004. [SVMTool: A general POS tagger generator based on Support Vector Machines](https://www.cs.upc.edu/~nlp/SVMTool/lrec2004-gm.pdf]). Proceedings of LREC'04. Lisbon, Portugal."
   ]
  },
  {
   "cell_type": "markdown",
   "metadata": {},
   "source": [
    "Compute the most common suffixes:"
   ]
  },
  {
   "cell_type": "code",
   "execution_count": 43,
   "metadata": {},
   "outputs": [],
   "source": [
    "suffix_fdist = nltk.FreqDist()\n",
    "for word in brown.words():\n",
    "     word = word.lower()\n",
    "     suffix_fdist[word[-2:]] += 1\n",
    "     suffix_fdist[word[-3:]] += 1\n",
    "\n",
    "common_suffixes = [suffix for (suffix, count) in suffix_fdist.most_common(20)]"
   ]
  },
  {
   "cell_type": "code",
   "execution_count": 44,
   "metadata": {},
   "outputs": [
    {
     "name": "stdout",
     "output_type": "stream",
     "text": [
      "[',', '.', 'he', 'of', 'the', 'to', 'in', 'a', 'ed', 'nd', 'is', 'on', 'and', 'ng', 'er', 'as', 'ing', 'at', 'es', 'or']\n"
     ]
    }
   ],
   "source": [
    "print(common_suffixes)"
   ]
  },
  {
   "cell_type": "markdown",
   "metadata": {},
   "source": [
    "Collects the feature of a word at position n in a sentence"
   ]
  },
  {
   "cell_type": "code",
   "execution_count": 45,
   "metadata": {},
   "outputs": [],
   "source": [
    "def features_dict(word, prev_word, prev_tag, n, lexicon):\n",
    "    \"\"\"\n",
    "    :param word: the current word\n",
    "    :param prev_word: the preceding word, or None if it soes not exist\n",
    "    :param prev_tag: the tag of the previous word\n",
    "    :param n: the position of the wird in the sentence\n",
    "    :param lexicon: a lexicon of POS for each word\n",
    "    :return: a dictionary of features {feature: value}\n",
    "    \"\"\"\n",
    "    word = word.lower()\n",
    "    prev_word = prev_word.lower() if prev_word else ''\n",
    "    DET = lexicon['DET']\n",
    "    CONJ = lexicon['CONJ']\n",
    "    PRON = lexicon['PRON']\n",
    "    PRT = lexicon['PRT']\n",
    "\n",
    "    features = {\n",
    "        'wi': word,\n",
    "        'wi-1': prev_word,\n",
    "        'CurCap': is_cap(word),\n",
    "        'FirstWord': n == 0,\n",
    "        'HasNumb': has_number(word),\n",
    "        'Article': word in DET,\n",
    "        'PrevArticle': prev_word in DET,\n",
    "        'Conj': word in CONJ,\n",
    "        'Pron': word in PRON,\n",
    "        'Prt': word in PRT,\n",
    "        'PrevConj': prev_word in CONJ,\n",
    "        'PrevPrt': prev_word in PRT,\n",
    "        'PrevTag': prev_tag   # required to compute transition probabilities\n",
    "    }\n",
    "    for suffix in common_suffixes:\n",
    "        if word.endswith(suffix):\n",
    "            features[f'endswith({suffix})'] = 1\n",
    "    # presence in given POS list\n",
    "    for tag, words in lexicon.items():\n",
    "        if word in words:\n",
    "            features[tag] = 1\n",
    "    return features"
   ]
  },
  {
   "cell_type": "markdown",
   "metadata": {},
   "source": [
    "Features"
   ]
  },
  {
   "cell_type": "code",
   "execution_count": 46,
   "metadata": {},
   "outputs": [],
   "source": [
    "def is_cap(word):\n",
    "    return word[0].isupper()\n",
    "\n",
    "def has_number(word):\n",
    "    return re.search(r'\\d+', word) is not None"
   ]
  },
  {
   "cell_type": "code",
   "execution_count": 47,
   "metadata": {},
   "outputs": [],
   "source": [
    "def create_featuresets(sentence, lexicon):\n",
    "    \"\"\"\n",
    "    Build a featureset for each token in a sentence, for use in training a MaxentClassifier.\n",
    "    :param sentence: a list of pairs (word, tag).\n",
    "    :return: a list of pairs (featurset, tag)\n",
    "    \"\"\"\n",
    "    for n, (word, tag) in enumerate(sentence):\n",
    "        prev_word, prev_tag = sentence[n-1] if n > 0 else (None, None)\n",
    "        yield (features_dict(word, prev_word, prev_tag, n, lexicon), tag)\n"
   ]
  },
  {
   "cell_type": "markdown",
   "metadata": {},
   "source": [
    "Build lexicons for a certain closed classes of POS. We will use the presence in such lexicon as a feature."
   ]
  },
  {
   "cell_type": "code",
   "execution_count": 48,
   "metadata": {},
   "outputs": [],
   "source": [
    "from collections import defaultdict\n",
    "\n",
    "def create_lexicon(trainset, tags=('ADV', 'DET', 'PRON', 'PRT')):\n",
    "    \"\"\"\n",
    "    Build lexicon of words belonging to specific closed categories.\n",
    "    \"\"\"\n",
    "    lexicon = defaultdict(set)\n",
    "    for sent in trainset:\n",
    "        for w,t in sent:\n",
    "            if t in tags:\n",
    "                lexicon[t].add(w)\n",
    "    return lexicon"
   ]
  },
  {
   "cell_type": "markdown",
   "metadata": {},
   "source": [
    "## MaxEntropy Markov Model Tagger"
   ]
  },
  {
   "cell_type": "code",
   "execution_count": 49,
   "metadata": {},
   "outputs": [],
   "source": [
    "from nltk.classify.maxent import MaxentClassifier\n",
    "\n",
    "class MemmTagger():\n",
    "    \n",
    "    def __init__(self, trainset, max_iter=20):\n",
    "        \"\"\"\n",
    "        :param trainset: list of sentences, each a list of pairs (word, tag)\n",
    "        \"\"\"\n",
    "        self.tags = list(set((tag for sent in trainset for word,tag in sent)))\n",
    "        self.lexicon = create_lexicon(trainset)\n",
    "        self.featuresets = [pair for sentence in trainset for pair in create_featuresets(sentence, self.lexicon)]\n",
    "        self.classifier = MaxentClassifier.train(self.featuresets, max_iter=max_iter)\n",
    "    \n",
    "    def tag(self, sentence):\n",
    "        \"\"\"\n",
    "        :param sentence: list of pairs (word, tag)\n",
    "        \"\"\"\n",
    "        tags = self.viterbi(sentence)\n",
    "        return list(zip(sentence, tags))\n",
    "    \n",
    "    def viterbi(self, words):\n",
    "        \"\"\"\n",
    "        Returns the tag sequence of the optimal (most probable) path through\n",
    "        the MEMM. Uses the Viterbi algorithm to calculate this path by dynamic\n",
    "        programming.\n",
    "\n",
    "        :return: the tag sequence\n",
    "        :rtype: sequence of any\n",
    "        :param words: the sequence of words\n",
    "        :type words: list of pairs (word, tag)\n",
    "        \"\"\"\n",
    "        T = len(words)\n",
    "        N = len(self.tags)\n",
    "\n",
    "        V = np.zeros((T, N), np.float32)\n",
    "        B = -np.ones((T, N), np.int)\n",
    "\n",
    "        featuresets = list(create_featuresets(words, self.lexicon))\n",
    "        P = [ self.classifier.prob_classify(featureset) for (featureset, label) in featuresets ]\n",
    "        return [x.max() for x in P] # DEBUG\n",
    "\n",
    "        # the forward probability: s1 = previous label, s2 = next label\n",
    "        # A[t, s2] = Sum{s1} A[t-1, s1] * p(s2| s1,o_t)\n",
    "        # P[t/s1].prob(s2) = p(s2| s1,o_t)\n",
    "        # where P[t/s1] is the dist prob at t if previous tag was s1\n",
    "        # A[t, s2] = sum(A[t-1, s1] * P[t/s1].prob(s2) forall s1)\n",
    "        A = np.zeros(N)\n",
    "        for s in range(N):\n",
    "            A[s] = P[0].logprob(s)\n",
    "                \n",
    "        V[0] = A\n",
    "        for t in range(1, T):\n",
    "            # build transition probabilities\n",
    "            A1 = np.zeros(N)\n",
    "            for s in range(N):\n",
    "                A1[s] = sum([A[s1] + self.prob_from_tag(featuresets[t][0], s1).logprob(s) for s1 in range(N)])\n",
    "            A = A1\n",
    "            for s in range(N):\n",
    "                vs = V[t - 1, :] + A\n",
    "                best = np.argmax(vs)\n",
    "                V[t, s] = vs[best] + P[t].logprob(s)\n",
    "                B[t, s] = best\n",
    "\n",
    "        # backtrace:\n",
    "        current = np.argmax(V[T - 1, :])\n",
    "        tags = [current]\n",
    "        for t in range(T - 1, 0, -1):\n",
    "            last = B[t, current]\n",
    "            tags.insert(0, last)\n",
    "            current = last\n",
    "\n",
    "        return list(map(self.tags.__getitem__, tags))\n",
    "\n",
    "                            \n",
    "    def prob_from_tag(self, featureset, prev_tag):\n",
    "        \"\"\"\n",
    "        Calculate the probability distribution of featureset when the previous tag is :param prev_tag:\n",
    "        \"\"\"\n",
    "        cur_tag = featureset['PrevTag'] # save gold\n",
    "        featureset['PrevTag'] = self.tags[prev_tag] # predicted\n",
    "        prob_dist = self.classifier.prob_classify(featureset)\n",
    "        featureset['PrevTag'] = cur_tag # restore gold\n",
    "        return prob_dist"
   ]
  },
  {
   "cell_type": "markdown",
   "metadata": {},
   "source": [
    "## Train the Maximum Entropy Markov Model\n",
    "\n",
    "<b>Warning</b>: training is quite slow."
   ]
  },
  {
   "cell_type": "code",
   "execution_count": 50,
   "metadata": {},
   "outputs": [
    {
     "name": "stdout",
     "output_type": "stream",
     "text": [
      "  ==> Training (20 iterations)\n",
      "\n",
      "      Iteration    Log Likelihood    Accuracy\n",
      "      ---------------------------------------\n",
      "             1          -2.48491        0.001\n",
      "             2          -1.35686        0.531\n",
      "             3          -1.09917        0.637\n",
      "             4          -0.93441        0.731\n",
      "             5          -0.81685        0.804\n",
      "             6          -0.72837        0.840\n",
      "             7          -0.65944        0.857\n",
      "             8          -0.60426        0.870\n",
      "             9          -0.55907        0.884\n",
      "            10          -0.52133        0.894\n",
      "            11          -0.48927        0.903\n",
      "            12          -0.46165        0.913\n",
      "            13          -0.43755        0.919\n",
      "            14          -0.41630        0.924\n",
      "            15          -0.39739        0.929\n",
      "            16          -0.38043        0.936\n",
      "            17          -0.36510        0.940\n",
      "            18          -0.35117        0.943\n",
      "            19          -0.33843        0.946\n",
      "         Final          -0.32674        0.949\n"
     ]
    }
   ],
   "source": [
    "tagger = MemmTagger(brown_train, max_iter=20)"
   ]
  },
  {
   "cell_type": "code",
   "execution_count": 51,
   "metadata": {},
   "outputs": [
    {
     "name": "stderr",
     "output_type": "stream",
     "text": [
      "<ipython-input-49-e29a1cccf0bc>:36: DeprecationWarning: `np.int` is a deprecated alias for the builtin `int`. To silence this warning, use `int` by itself. Doing this will not modify any behavior and is safe. When replacing `np.int`, you may wish to use e.g. `np.int64` or `np.int32` to specify the precision. If you wish to review your current use, check the release note link for additional information.\n",
      "Deprecated in NumPy 1.20; for more details and guidance: https://numpy.org/devdocs/release/1.20.0-notes.html#deprecations\n",
      "  B = -np.ones((T, N), np.int)\n"
     ]
    },
    {
     "data": {
      "text/plain": [
       "[(('Mollusks', 'NOUN'), 'NOUN'),\n",
       " (('are', 'VERB'), 'VERB'),\n",
       " (('a', 'DET'), 'DET'),\n",
       " (('case', 'NOUN'), 'NOUN'),\n",
       " (('in', 'ADP'), 'ADP'),\n",
       " (('point', 'NOUN'), 'NOUN'),\n",
       " (('.', '.'), '.')]"
      ]
     },
     "execution_count": 51,
     "metadata": {},
     "output_type": "execute_result"
    }
   ],
   "source": [
    "tagger.tag(brown_test[1])"
   ]
  },
  {
   "cell_type": "code",
   "execution_count": 52,
   "metadata": {},
   "outputs": [
    {
     "name": "stderr",
     "output_type": "stream",
     "text": [
      "<ipython-input-49-e29a1cccf0bc>:36: DeprecationWarning: `np.int` is a deprecated alias for the builtin `int`. To silence this warning, use `int` by itself. Doing this will not modify any behavior and is safe. When replacing `np.int`, you may wish to use e.g. `np.int64` or `np.int32` to specify the precision. If you wish to review your current use, check the release note link for additional information.\n",
      "Deprecated in NumPy 1.20; for more details and guidance: https://numpy.org/devdocs/release/1.20.0-notes.html#deprecations\n",
      "  B = -np.ones((T, N), np.int)\n"
     ]
    }
   ],
   "source": [
    "tag_pred = [tagger.tag(sent) for sent in brown_test]"
   ]
  },
  {
   "cell_type": "code",
   "execution_count": 53,
   "metadata": {},
   "outputs": [
    {
     "name": "stdout",
     "output_type": "stream",
     "text": [
      "              precision    recall  f1-score   support\n",
      "\n",
      "           .     0.9715    0.8813    0.9242      2898\n",
      "         ADJ     0.8725    0.5121    0.6454      1818\n",
      "         ADP     0.9089    0.8653    0.8866      2895\n",
      "         ADV     0.9117    0.7237    0.8069       999\n",
      "        CONJ     0.9865    0.8692    0.9242       673\n",
      "         DET     0.9943    0.9687    0.9813      2712\n",
      "        NOUN     0.7579    0.9714    0.8515      5984\n",
      "         NUM     0.9586    0.6377    0.7659       472\n",
      "        PRON     0.9858    0.9160    0.9496       607\n",
      "         PRT     0.7570    0.8631    0.8066       599\n",
      "        VERB     0.8989    0.8938    0.8963      3304\n",
      "           X     1.0000    0.1463    0.2553        41\n",
      "\n",
      "    accuracy                         0.8726     23002\n",
      "   macro avg     0.9170    0.7707    0.8078     23002\n",
      "weighted avg     0.8849    0.8726    0.8693     23002\n",
      "\n"
     ]
    }
   ],
   "source": [
    "print(classification_report([x[1] for s in brown_test for x in s], [x[1] for s in tag_pred for x in s], digits=4,\n",
    "                           zero_division=True))"
   ]
  },
  {
   "cell_type": "markdown",
   "metadata": {},
   "source": [
    "# Conclusions"
   ]
  },
  {
   "cell_type": "markdown",
   "metadata": {},
   "source": [
    "Draw your conclusions about sequence tagging using either plain NN, NN with embrddings, CNN or Maximum Entropy using hand crafted features."
   ]
  },
  {
   "cell_type": "code",
   "execution_count": null,
   "metadata": {},
   "outputs": [],
   "source": [
    "# Why the classifer returns always 0?\n",
    "sent = brown_train[0]\n",
    "featuresets = create_featuresets(sent, tagger.lexicon)\n",
    "P = [ tagger.classifier.prob_classify(featureset) for (featureset, label) in featuresets ]\n",
    "[P[1].prob(i) for i in range(len(tagger.tags))]"
   ]
  }
 ],
 "metadata": {
  "kernelspec": {
   "display_name": "Python 3",
   "language": "python",
   "name": "python3"
  },
  "language_info": {
   "codemirror_mode": {
    "name": "ipython",
    "version": 3
   },
   "file_extension": ".py",
   "mimetype": "text/x-python",
   "name": "python",
   "nbconvert_exporter": "python",
   "pygments_lexer": "ipython3",
   "version": "3.8.10"
  }
 },
 "nbformat": 4,
 "nbformat_minor": 4
}
