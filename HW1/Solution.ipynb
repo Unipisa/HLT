{
 "cells": [
  {
   "cell_type": "markdown",
   "metadata": {},
   "source": [
    " # Homework 1\n",
    " \n",
    " # 1. Co-occurrences\n",
    " \n",
    "A co-occurrence matrix $M$ is a symmetric word-by-word matrix\n",
    "in which $M_{ij}$ is the number of times $w_j$ appears within\n",
    "distance $n$ from $w_i$ among all documents."
   ]
  },
  {
   "cell_type": "code",
   "execution_count": 1,
   "metadata": {},
   "outputs": [],
   "source": [
    "import nltk\n",
    "from nltk.corpus import brown"
   ]
  },
  {
   "cell_type": "markdown",
   "metadata": {},
   "source": [
    "### Vocabulary\n",
    "\n",
    "Extract the vocabulary and assign an index to each word."
   ]
  },
  {
   "cell_type": "code",
   "execution_count": 2,
   "metadata": {},
   "outputs": [],
   "source": [
    "brown_news = brown.words(categories='news')\n",
    "news_vocab = list(set(brown_news))\n",
    "\n",
    "news_word_ids = { word: word_id for word_id, word in enumerate(news_vocab) }"
   ]
  },
  {
   "cell_type": "markdown",
   "metadata": {},
   "source": [
    "## 1.1 Compute the co-occurrence Matrix\n",
    "Constructs a co-occurrence matrix for a certain window-size $n$ (with a default of\n",
    "4), considering words $n$ before and $n$ after the word in the center of the window."
   ]
  },
  {
   "cell_type": "code",
   "execution_count": 3,
   "metadata": {},
   "outputs": [],
   "source": [
    "import numpy as np\n",
    "\n",
    "def co_occurrence_matrix(words, word_ids, n=4):\n",
    "    \"\"\"\n",
    "    :param words: a list of words\n",
    "    :param word_ids: dictionary word -> id\n",
    "    :param n: size of context\n",
    "    :return: the matrix of cooccurrences\n",
    "    \"\"\"\n",
    "    V_size = len(word_ids)\n",
    "    M = np.zeros((V_size, V_size), dtype=int)\n",
    "\n",
    "    # sliding window through the corpus\n",
    "    for i in range(n, len(words) - n):\n",
    "        center_word = word_ids[words[i]]\n",
    "\n",
    "        for j in range(i-n, i):\n",
    "            word_left = word_ids[words[j]]    # word in left context\n",
    "            word_right = word_ids[words[j+n]] # word in right context\n",
    "            # increment the cooccurrence counts\n",
    "            M[center_word, word_left] += 1\n",
    "            M[center_word, word_right] += 1\n",
    "\n",
    "    return M"
   ]
  },
  {
   "cell_type": "code",
   "execution_count": 4,
   "metadata": {},
   "outputs": [],
   "source": [
    "M = co_occurrence_matrix(brown_news, news_word_ids, 5)"
   ]
  },
  {
   "cell_type": "markdown",
   "metadata": {},
   "source": [
    "### Explore co-occurences"
   ]
  },
  {
   "cell_type": "code",
   "execution_count": null,
   "metadata": {},
   "outputs": [],
   "source": [
    "def show_cooccurrences(word_list, word_ids, M):\n",
    "    for word in word_list:\n",
    "        if word in word_ids:\n",
    "            word_id = word_ids[word]\n",
    "            co_occurences = [(coword, M[word_id, coid]) for (coword, coid) in word_ids.items() ]\n",
    "            # sort by co-occurrence counts\n",
    "            co_occurences.sort(key=lambda pair: pair[1], reverse=True)\n",
    "            print('Co-occurrences for word \"%s\":' % word)\n",
    "            print([pair for pair in co_occurences[:15] if pair[1]])   # shorten output\n",
    "            print()\n",
    "        else:\n",
    "            print('The word \"%s\" does not exist in the vocabulary.' % word)\n",
    "            print()"
   ]
  },
  {
   "cell_type": "code",
   "execution_count": 6,
   "metadata": {},
   "outputs": [],
   "source": [
    "word_list = ['python', 'snake', 'language', 'cobra', 'food', 'bread', 'wine', 'beer',\n",
    "             'barrels', 'oil', 'energy', 'kuwait', 'revenues', 'profits']"
   ]
  },
  {
   "cell_type": "code",
   "execution_count": 7,
   "metadata": {},
   "outputs": [
    {
     "name": "stdout",
     "output_type": "stream",
     "text": [
      "The word \"python\" does not exist in the vocabulary.\n",
      "\n",
      "Co-occurrences for word \"snake\":\n",
      "[('and', 2), ('are', 1), ('restaurants', 1), ('braced', 1), (',', 1), ('stands', 1), ('farms', 1), ('souvenir', 1), ('snake', 1)]\n",
      "\n",
      "Co-occurrences for word \"language\":\n",
      "[(',', 3), (';', 2), ('you', 2), ('language', 2), ('and', 1), ('.', 1), ('history', 1), ('week', 1), ('have', 1), ('pure', 1), ('The', 1), ('science', 1), ('And', 1), ('problems', 1), ('think', 1)]\n",
      "\n",
      "The word \"cobra\" does not exist in the vocabulary.\n",
      "\n",
      "Co-occurrences for word \"food\":\n",
      "[('food', 13), (',', 11), ('.', 6), ('the', 5), ('a', 4), ('and', 3), ('of', 3), ('``', 3), ('they', 2), (\"''\", 2), ('to', 2), (\"SMU's\", 2), ('for', 2), ('on', 2), ('Ramsey', 2)]\n",
      "\n",
      "Co-occurrences for word \"bread\":\n",
      "[('rich', 1), ('and', 1), ('yeast', 1), ('bread', 1), ('coconut', 1), ('ring', 1), ('with', 1), (',', 1), ('a', 1), ('filling', 1)]\n",
      "\n",
      "The word \"wine\" does not exist in the vocabulary.\n",
      "\n",
      "Co-occurrences for word \"beer\":\n",
      "[('beer', 2), ('a', 2), ('run', 1), ('and', 1), ('wash', 1), ('to', 1), ('such', 1), ('drop', 1), ('in', 1), ('down', 1), ('the', 1), ('of', 1), ('stein', 1), ('at', 1), ('on', 1)]\n",
      "\n",
      "The word \"barrels\" does not exist in the vocabulary.\n",
      "\n",
      "Co-occurrences for word \"oil\":\n",
      "[('oil', 6), ('and', 5), ('.', 3), (',', 3), ('mill', 2), ('the', 2), ('by', 2), ('The', 2), ('supplies', 2), ('?', 2), ('colony', 1), ('also', 1), ('sir', 1), ('1900', 1), ('hardware', 1)]\n",
      "\n",
      "Co-occurrences for word \"energy\":\n",
      "[('energy', 2), ('was', 2), ('and', 1), ('not', 1), ('atomic', 1), ('it', 1), ('commission', 1), ('more', 1), ('displayed', 1), ('the', 1), ('of', 1), ('branch', 1), ('certainly', 1), ('any', 1), ('Westinghouse', 1)]\n",
      "\n",
      "The word \"kuwait\" does not exist in the vocabulary.\n",
      "\n",
      "Co-occurrences for word \"revenues\":\n",
      "[('revenues', 13), ('the', 13), ('in', 6), ('.', 5), (',', 4), ('to', 3), ('net', 3), ('of', 3), ('turnpikes', 2), ('tax', 2), ('on', 2), ('a', 2), ('risen', 1), ('also', 1), ('recent', 1)]\n",
      "\n",
      "Co-occurrences for word \"profits\":\n",
      "[('profits', 2), ('the', 2), (\"''\", 1), ('.', 1), ('Besides', 1), ('income', 1), ('drop', 1), ('in', 1), ('theaters', 1), ('tax', 1), ('of', 1), ('managers', 1), ('from', 1), ('on', 1), ('sale', 1)]\n",
      "\n"
     ]
    }
   ],
   "source": [
    "show_cooccurrences(word_list, news_word_ids, M)"
   ]
  },
  {
   "cell_type": "markdown",
   "metadata": {},
   "source": [
    "### Do the same for category ‘hobbies’."
   ]
  },
  {
   "cell_type": "code",
   "execution_count": 8,
   "metadata": {},
   "outputs": [
    {
     "name": "stdout",
     "output_type": "stream",
     "text": [
      "The word \"python\" does not exist in the vocabulary.\n",
      "\n",
      "The word \"snake\" does not exist in the vocabulary.\n",
      "\n",
      "The word \"language\" does not exist in the vocabulary.\n",
      "\n",
      "The word \"cobra\" does not exist in the vocabulary.\n",
      "\n",
      "Co-occurrences for word \"food\":\n",
      "[('food', 9), ('and', 6), (',', 6), ('of', 3), ('that', 3), ('.', 2), ('to', 2), ('in', 2), ('supplements', 2), ('with', 2), ('the', 2), ('those', 2), ('good', 2), ('also', 1), ('two', 1)]\n",
      "\n",
      "Co-occurrences for word \"bread\":\n",
      "[(',', 5), ('bread', 2), ('salad', 2), ('a', 2), ('and', 1), ('corn', 1), ('preparing', 1), ('making', 1), ('drink', 1), ('garlic', 1), ('with', 1), ('or', 1), ('meat', 1)]\n",
      "\n",
      "Co-occurrences for word \"wine\":\n",
      "[('wine', 2), ('white', 1), ('and', 1), ('one', 1), ('either', 1), ('merchant', 1), (':', 1), ('our', 1), ('with', 1), ('the', 1), ('took', 1), ('of', 1), ('beating', 1), ('at', 1), ('this', 1)]\n",
      "\n",
      "Co-occurrences for word \"beer\":\n",
      "[('and', 2), ('for', 2), ('or', 2), ('beer', 2), ('chilled', 1), ('earthenware', 1), ('keep', 1), ('soft', 1), ('cooler', 1), ('soup', 1), (',', 1), ('frozen', 1), ('mugs', 1), ('that', 1), ('hot', 1)]\n",
      "\n",
      "Co-occurrences for word \"barrels\":\n",
      "[('to', 2), ('barrels', 2), ('they', 1), ('shot', 1), ('(', 1), ('before', 1), ('so', 1), ('standard-weight', 1), ('with', 1), ('revolver', 1), ('the', 1), ('made', 1), ('out', 1), ('was', 1), ('how', 1)]\n",
      "\n",
      "Co-occurrences for word \"oil\":\n",
      "[('oil', 28), ('the', 19), ('.', 11), (',', 10), ('and', 9), ('for', 9), ('a', 9), ('in', 8), ('of', 6), ('company', 5), ('to', 4), ('is', 4), ('or', 3), ('companies', 2), ('metered', 2)]\n",
      "\n",
      "Co-occurrences for word \"energy\":\n",
      "[('energy', 6), ('the', 4), ('The', 4), ('.', 3), ('and', 2), ('of', 2), (',', 2), ('by', 2), ('!', 2), ('after', 2), ('burst', 1), ('received', 1), ('fire', 1), ('vibration', 1), ('one', 1)]\n",
      "\n",
      "The word \"kuwait\" does not exist in the vocabulary.\n",
      "\n",
      "The word \"revenues\" does not exist in the vocabulary.\n",
      "\n",
      "Co-occurrences for word \"profits\":\n",
      "[('as', 2), (\"distributor's\", 1), ('--', 1), ('profits', 1), ('well', 1), ('the', 1), (',', 1), ('which', 1), ('is', 1)]\n",
      "\n"
     ]
    }
   ],
   "source": [
    "brown_hobbies = brown.words(categories='hobbies')\n",
    "hobbies_vocab = list(set(brown_hobbies))\n",
    "\n",
    "hobbies_word_ids = { word: word_id for word_id, word in enumerate(hobbies_vocab) }\n",
    "M_hobbies = co_occurrence_matrix(brown_hobbies, hobbies_word_ids, 5)\n",
    "\n",
    "show_cooccurrences(word_list, hobbies_word_ids, M_hobbies)"
   ]
  },
  {
   "cell_type": "markdown",
   "metadata": {},
   "source": [
    "## 1.2 Visualize the Vectors\n",
    "Projects vectors into two dimensions and use it to plot the rows of the sliced matrix, using the technique of Principal\n",
    "Component Analysis,"
   ]
  },
  {
   "cell_type": "code",
   "execution_count": 13,
   "metadata": {},
   "outputs": [],
   "source": [
    "from sklearn.decomposition import PCA\n",
    "%matplotlib inline\n",
    "import matplotlib.pyplot as plt\n",
    "plt.style.use('ggplot')\n",
    "\n",
    "def visualize_vectors(words, word_vectors):\n",
    "    vector_twodim = PCA().fit_transform(word_vectors)[:,:2]\n",
    "    for w,v in zip(words, vector_twodim):\n",
    "        print(w, v)\n",
    "\n",
    "    plt.figure(figsize=(8,8))\n",
    "    plt.scatter(vector_twodim[:,0], vector_twodim[:,1], edgecolors='k', c='r')\n",
    "    for word, (x,y) in zip(words, vector_twodim):\n",
    "        plt.text(x+0.05, y+0.05, word)"
   ]
  },
  {
   "cell_type": "code",
   "execution_count": 14,
   "metadata": {},
   "outputs": [],
   "source": [
    "def cooccurrence_vectors(word_list, word_ids, M):\n",
    "    vectors = []\n",
    "    words = []\n",
    "    for word in word_list:\n",
    "        if word in word_ids:\n",
    "            word_id = word_ids[word]\n",
    "            vectors.append(M[word_id])\n",
    "            words.append(word)\n",
    "    return vectors, words"
   ]
  },
  {
   "cell_type": "code",
   "execution_count": 15,
   "metadata": {},
   "outputs": [
    {
     "name": "stdout",
     "output_type": "stream",
     "text": [
      "python [-4.72386161 -0.44064403]\n",
      "snake [-3.89013915  0.33507187]\n",
      "language [10.84042447 14.34534979]\n",
      "cobra [-4.64169013 -0.35966075]\n",
      "food [-3.73115986 -0.9596309 ]\n",
      "bread [-1.61506044  0.57137417]\n",
      "wine [-4.55201597 -1.10450227]\n",
      "beer [ 15.48341079 -10.98514487]\n",
      "barrels [-3.1699081  -1.40221301]\n"
     ]
    },
    {
     "data": {
      "image/png": "[encoded data removed]",
      "text/plain": [
       "<Figure size 576x576 with 1 Axes>"
      ]
     },
     "metadata": {},
     "output_type": "display_data"
    }
   ],
   "source": [
    "word_vectors, words = cooccurrence_vectors(word_list, news_word_ids, M)\n",
    "visualize_vectors(words, word_vectors)"
   ]
  },
  {
   "cell_type": "code",
   "execution_count": 44,
   "metadata": {},
   "outputs": [
    {
     "name": "stdout",
     "output_type": "stream",
     "text": [
      "python [-2.54689418 12.3053275 ]\n",
      "snake [-5.57911831 -0.93033756]\n",
      "language [-6.26356517 -2.30787893]\n",
      "cobra [-6.11620881 -1.58278289]\n",
      "food [-6.5732845  -2.31259296]\n",
      "bread [36.94829859 -0.94555299]\n",
      "wine [-3.43322623 -1.81523704]\n",
      "beer [-6.43600137 -2.41094513]\n"
     ]
    },
    {
     "data": {
      "image/png": "[encoded data removed]",
      "text/plain": [
       "<Figure size 576x576 with 1 Axes>"
      ]
     },
     "metadata": {
      "needs_background": "light"
     },
     "output_type": "display_data"
    }
   ],
   "source": [
    "word_vectors, words = cooccurrence_vectors(word_list, hobbies_word_ids, M_hobbies)\n",
    "visualize_vectors(words, word_vectors)"
   ]
  },
  {
   "cell_type": "markdown",
   "metadata": {},
   "source": [
    "## 1.3 Word Embeddings\n",
    "Perform the same analysis as before, extracting a slice of the matrix on the above list of words and\n",
    "then plot them in two dimensions."
   ]
  },
  {
   "cell_type": "code",
   "execution_count": 32,
   "metadata": {},
   "outputs": [
    {
     "name": "stdout",
     "output_type": "stream",
     "text": [
      "[==================================================] 100.0% 66.0/66.0MB downloaded\n"
     ]
    }
   ],
   "source": [
    "import gensim.downloader as api\n",
    "from gensim.models import Word2Vec\n",
    "\n",
    "glove = api.load(\"glove-wiki-gigaword-50\")"
   ]
  },
  {
   "cell_type": "code",
   "execution_count": 67,
   "metadata": {},
   "outputs": [],
   "source": [
    "def show_word_vectors(word_list, embeddings, topn=10):\n",
    "    word_vectors = []\n",
    "    for word in word_list:\n",
    "        print('The most similar words to word \"%s\":' % word)\n",
    "        pairs = embeddings.most_similar(word, topn=topn)\n",
    "        for pair in pairs: print(pair)\n",
    "        word_vectors.append(embeddings[word])\n",
    "    return word_vectors"
   ]
  },
  {
   "cell_type": "code",
   "execution_count": 68,
   "metadata": {},
   "outputs": [
    {
     "name": "stdout",
     "output_type": "stream",
     "text": [
      "The most similar words to word \"python\":\n",
      "('monty', 0.6892720460891724)\n",
      "('spamalot', 0.5611782073974609)\n",
      "('cleese', 0.5454379320144653)\n",
      "('php', 0.5255268812179565)\n",
      "('pythons', 0.5076838731765747)\n",
      "The most similar words to word \"snake\":\n",
      "('snakes', 0.7275532484054565)\n",
      "('lizard', 0.5701727867126465)\n",
      "('frog', 0.5546317100524902)\n",
      "('venomous', 0.5528967380523682)\n",
      "('serpent', 0.5473936200141907)\n",
      "The most similar words to word \"language\":\n",
      "('languages', 0.7869358062744141)\n",
      "('arabic', 0.6878665685653687)\n",
      "('word', 0.6791515946388245)\n",
      "('english', 0.6665443778038025)\n",
      "('spoken', 0.6331455707550049)\n",
      "The most similar words to word \"cobra\":\n",
      "('ah-1', 0.560380756855011)\n",
      "('ah-1w', 0.5121273994445801)\n",
      "('mustang', 0.4854917526245117)\n",
      "('starship', 0.47967591881752014)\n",
      "('scorpion', 0.45530185103416443)\n",
      "The most similar words to word \"food\":\n",
      "('foods', 0.7071868181228638)\n",
      "('supplies', 0.6728929877281189)\n",
      "('products', 0.631743311882019)\n",
      "('eating', 0.6229158639907837)\n",
      "('eat', 0.6227812767028809)\n",
      "The most similar words to word \"bread\":\n",
      "('loaf', 0.6961235404014587)\n",
      "('loaves', 0.6753547191619873)\n",
      "('baked', 0.6735719442367554)\n",
      "('flour', 0.6631898880004883)\n",
      "('breads', 0.6485045552253723)\n",
      "The most similar words to word \"wine\":\n",
      "('wines', 0.8265817761421204)\n",
      "('tasting', 0.6745213866233826)\n",
      "('grape', 0.6534834504127502)\n",
      "('champagne', 0.6358059644699097)\n",
      "('beer', 0.635413646697998)\n",
      "The most similar words to word \"beer\":\n",
      "('drink', 0.7326475381851196)\n",
      "('drinks', 0.711408257484436)\n",
      "('liquor', 0.6575122475624084)\n",
      "('beers', 0.6534110307693481)\n",
      "('beverage', 0.6375210285186768)\n",
      "The most similar words to word \"barrels\":\n",
      "('crude', 0.7276166677474976)\n",
      "('bpd', 0.7093127965927124)\n",
      "('barrel', 0.6132711172103882)\n",
      "('900,000', 0.6109632849693298)\n",
      "('gallons', 0.6019877195358276)\n",
      "The most similar words to word \"oil\":\n",
      "('petroleum', 0.7449624538421631)\n",
      "('crude', 0.7367627620697021)\n",
      "('gas', 0.6930847764015198)\n",
      "('pipeline', 0.6267949342727661)\n",
      "('prices', 0.6168235540390015)\n",
      "The most similar words to word \"energy\":\n",
      "('gas', 0.641808807849884)\n",
      "('renewable', 0.6387901902198792)\n",
      "('electricity', 0.633983850479126)\n",
      "('resources', 0.624033510684967)\n",
      "('natural', 0.5952275991439819)\n",
      "The most similar words to word \"kuwait\":\n",
      "('arabia', 0.7340227365493774)\n",
      "('qatar', 0.7213650941848755)\n",
      "('saudi', 0.7095928192138672)\n",
      "('kuwaiti', 0.6974800825119019)\n",
      "('bahrain', 0.6920292377471924)\n",
      "The most similar words to word \"revenues\":\n",
      "('revenue', 0.9092731475830078)\n",
      "('profits', 0.7544417381286621)\n",
      "('profit', 0.6646628379821777)\n",
      "('taxes', 0.6615843176841736)\n",
      "('sales', 0.6603635549545288)\n",
      "The most similar words to word \"profits\":\n",
      "('profit', 0.8704182505607605)\n",
      "('earnings', 0.8115085959434509)\n",
      "('revenues', 0.7544417381286621)\n",
      "('revenue', 0.7377654314041138)\n",
      "('gains', 0.7263848185539246)\n"
     ]
    }
   ],
   "source": [
    "glove_vectors = show_word_vectors(word_list, glove, topn=5)"
   ]
  },
  {
   "cell_type": "code",
   "execution_count": 54,
   "metadata": {},
   "outputs": [
    {
     "name": "stdout",
     "output_type": "stream",
     "text": [
      "python [ 5.06985766 -2.96844734]\n",
      "snake [ 3.2573322  -0.35122668]\n",
      "language [ 2.42679711 -0.98588501]\n",
      "cobra [ 3.2493278  -1.91472367]\n",
      "food [-0.23216499  2.55354723]\n",
      "bread [0.95149093 3.72894731]\n",
      "wine [0.28556279 4.38897573]\n",
      "beer [0.73446383 3.80456319]\n",
      "barrels [-3.40501899 -0.60631724]\n",
      "oil [-4.1581424  -0.75179565]\n",
      "energy [-2.82419362 -1.21934295]\n",
      "kuwait [-1.38013925 -3.53524155]\n",
      "revenues [-2.09236921 -1.22437846]\n",
      "profits [-1.88280386 -0.9186749 ]\n"
     ]
    },
    {
     "data": {
      "image/png": "[encoded data removed]",
      "text/plain": [
       "<Figure size 576x576 with 1 Axes>"
      ]
     },
     "metadata": {
      "needs_background": "light"
     },
     "output_type": "display_data"
    }
   ],
   "source": [
    "visualize_vectors(word_list, glove_vectors)"
   ]
  },
  {
   "cell_type": "markdown",
   "metadata": {},
   "source": [
    "## 1.4 Synonyms & Antonyms\n",
    "Find three words (w1,w2,w3) where w1 and w2 are synonyms and w1 and w3 are antonyms, but\n",
    "Cosine Distance(w1,w3) < Cosine Distance(w1,w2).\n",
    "\n",
    "For example, w1=\"happy\" is closer to w3=\"sad\" than to w2=\"cheerful\"."
   ]
  },
  {
   "cell_type": "code",
   "execution_count": 59,
   "metadata": {},
   "outputs": [
    {
     "name": "stdout",
     "output_type": "stream",
     "text": [
      "happy sad 0.4040136933326721\n",
      "happy cheerful 0.5172466933727264\n",
      "cosine_distance(happy, sad) < cosine_distance(happy, cheerful) = True\n"
     ]
    }
   ],
   "source": [
    "word1 = 'happy'\n",
    "word2 = 'cheerful'\n",
    "word3 = 'sad'\n",
    "\n",
    "print(word1, word3, glove.distance(word1, word3))\n",
    "print(word1, word2, glove.distance(word1, word2))\n",
    "print('cosine_distance(%s, %s) < cosine_distance(%s, %s) = %s' %\n",
    "      (word1, word3, word1, word2, glove.distance(word1, word3) < glove.distance(word1, word2)))"
   ]
  },
  {
   "cell_type": "code",
   "execution_count": 60,
   "metadata": {},
   "outputs": [
    {
     "name": "stdout",
     "output_type": "stream",
     "text": [
      "bad good 0.28903740644454956\n",
      "bad evil 0.588481605052948\n",
      "cosine_distance(bad, good) < cosine_distance(bad, evil) = True\n"
     ]
    }
   ],
   "source": [
    "word1 = 'bad'\n",
    "word2 = 'evil'\n",
    "word3 = 'good'\n",
    "\n",
    "print(word1, word3, glove.distance(word1, word3))\n",
    "print(word1, word2, glove.distance(word1, word2))\n",
    "print('cosine_distance(%s, %s) < cosine_distance(%s, %s) = %s' %\n",
    "      (word1, word3, word1, word2, glove.distance(word1, word3) < glove.distance(word1, word2)))"
   ]
  },
  {
   "cell_type": "markdown",
   "metadata": {},
   "source": [
    "# 2 Naïve Bayes Classifier\n",
    "We will use the Movie Review dataset from https://www.kaggle.com/pankrzysiu/keras-imdb\n",
    "It contains 50,000 highly polarized reviews, preprocessed, tokenized, indexed and stored into\n",
    "numpy arrays."
   ]
  },
  {
   "cell_type": "code",
   "execution_count": 2,
   "metadata": {},
   "outputs": [],
   "source": [
    "num_words = 10000\n",
    "\n",
    "from keras.datasets import imdb"
   ]
  },
  {
   "cell_type": "code",
   "execution_count": 3,
   "metadata": {},
   "outputs": [],
   "source": [
    "# Fix for:\n",
    "#    ValueError: Object arrays cannot be loaded when allow_pickle=False\n",
    "# save np.load\n",
    "import numpy as np\n",
    "np_load_old = np.load\n",
    "\n",
    "# modify the default parameters of np.load\n",
    "np.load = lambda *a,**k: np_load_old(*a, allow_pickle=True, **k)"
   ]
  },
  {
   "cell_type": "code",
   "execution_count": 11,
   "metadata": {},
   "outputs": [],
   "source": [
    "(x_train, y_train), (x_test, y_test) = imdb.load_data(num_words=MAX_NUM_WORDS,\n",
    "                                                     index_from=1)"
   ]
  },
  {
   "cell_type": "markdown",
   "metadata": {},
   "source": [
    "## 2.1 Classifier"
   ]
  },
  {
   "cell_type": "code",
   "execution_count": 26,
   "metadata": {},
   "outputs": [],
   "source": [
    "import numpy as np\n",
    "from collections import defaultdict\n",
    "\n",
    "class NBayesClassifier():\n",
    "    \n",
    "    def train(self, x_train, y_train):       \n",
    "        # compute priors\n",
    "        unique, counts = np.unique(y_train, return_counts=True)\n",
    "        self.P_C = dict(zip(unique, np.log(counts / len(y_train))))\n",
    "        \n",
    "        class_counts = np.zeros(len(self.P_C))\n",
    "        self.logprob = np.zeros((len(self.P_C), num_words))\n",
    "        total_count = 0\n",
    "        for doc, label in zip(x_train, y_train):\n",
    "            for item in doc:\n",
    "                self.logprob[label, item] += 1\n",
    "                class_counts[label] += 1\n",
    "        # turn counts into logprob\n",
    "        for label in self.P_C:\n",
    "            # add regularization and apply log()\n",
    "            self.logprob[label] = np.log((self.logprob[label] + 1)/ (class_counts[label] + total_count))\n",
    "\n",
    "    def predict(self, x_test):\n",
    "        y_pred = np.zeros(len(x_test))\n",
    "        for i, doc in enumerate(x_test):\n",
    "            max_prob = -np.inf\n",
    "            for label in self.P_C:\n",
    "                logprob = self.P_C[label]\n",
    "                for item in doc:\n",
    "                    logprob += self.logprob[label, item]\n",
    "                if logprob > max_prob:\n",
    "                    max_prob = logprob\n",
    "                    best_class = label\n",
    "            y_pred[i] = best_class\n",
    "        return y_pred"
   ]
  },
  {
   "cell_type": "code",
   "execution_count": 27,
   "metadata": {},
   "outputs": [],
   "source": [
    "nb_classifier = NBayesClassifier()\n",
    "nb_classifier.train(x_train, y_train)"
   ]
  },
  {
   "cell_type": "markdown",
   "metadata": {},
   "source": [
    "## 2.2 Evaluation"
   ]
  },
  {
   "cell_type": "code",
   "execution_count": 28,
   "metadata": {},
   "outputs": [],
   "source": [
    "def evaluate(y_test, y_pred):\n",
    "    count = 0\n",
    "    tp = 0\n",
    "    fp = 0\n",
    "    fn = 0\n",
    "    for ti, pi in zip(y_test, y_pred):\n",
    "        if ti == pi:\n",
    "            count += 1\n",
    "        if ti == 1 and pi == 1:\n",
    "            tp += 1\n",
    "        if ti == 0 and pi == 1:\n",
    "            fp += 1\n",
    "        if ti == 1 and pi == 0:\n",
    "            fn += 1\n",
    "\n",
    "    accuracy = (count / len(y_test)) * 100\n",
    "    print('Accuracy: %.2f %%' % accuracy)\n",
    "    precision = tp / (tp + fp)\n",
    "    print('Precision:', precision)\n",
    "    recall = tp / (tp + fn)\n",
    "    print('Recall:', recall)\n",
    "    print('F1:', (2*precision*recall) / (precision + recall))"
   ]
  },
  {
   "cell_type": "code",
   "execution_count": 29,
   "metadata": {},
   "outputs": [
    {
     "name": "stdout",
     "output_type": "stream",
     "text": [
      "Accuracy: 81.60 %\n",
      "Precision: 0.8510619390384786\n",
      "Recall: 0.76616\n",
      "F1: 0.8063823517029428\n"
     ]
    }
   ],
   "source": [
    "y_pred = nb_classifier.predict(x_test)\n",
    "evaluate(y_test, y_pred)"
   ]
  },
  {
   "cell_type": "code",
   "execution_count": 31,
   "metadata": {},
   "outputs": [
    {
     "name": "stdout",
     "output_type": "stream",
     "text": [
      "              precision    recall  f1-score   support\n",
      "\n",
      "           0       0.79      0.87      0.82     12500\n",
      "           1       0.85      0.77      0.81     12500\n",
      "\n",
      "   micro avg       0.82      0.82      0.82     25000\n",
      "   macro avg       0.82      0.82      0.82     25000\n",
      "weighted avg       0.82      0.82      0.82     25000\n",
      "\n"
     ]
    }
   ],
   "source": [
    "from sklearn.metrics import classification_report\n",
    "print(classification_report(y_test, y_pred))"
   ]
  },
  {
   "cell_type": "markdown",
   "metadata": {},
   "source": [
    "# 3   Neural Network Classifier"
   ]
  },
  {
   "cell_type": "markdown",
   "metadata": {},
   "source": [
    "## 3.1 Gradients\n",
    "\n",
    "*Consider the following Neural Network:*\n",
    "\\begin{align}\n",
    "𝐡 & = \\tanh(𝑊𝐱+𝑏) \\\\\n",
    "𝐲̂  & = softmax(𝑈𝐡+𝑑) \\\\\n",
    "\\end{align}\n",
    "*with the cross-entropy loss function:*\n",
    "\\begin{equation}\n",
    "J = - \\sum_{i}y_i \\log(𝐲̂ _i)\n",
    "\\end{equation}\n",
    "*What is the gradient of $J$ with respect to $x$, $\\delta J/\\delta x$?*\n",
    "\n",
    "*Hint: $\\frac{\\partial tanh(z)}{\\partial z} = 1 – \\tanh^2(z)$*"
   ]
  },
  {
   "cell_type": "markdown",
   "metadata": {},
   "source": [
    "**Solution**\n",
    "\n",
    "Let $w = Wx + b$ and $z = Uh + d$\n",
    "\n",
    "\\begin{align}\n",
    "\\frac{\\partial J}{\\partial x} &= \\frac{\\partial J}{\\partial w} \\frac{\\partial w}{\\partial x} = W \\frac{\\partial J}{\\partial w} \\\\\n",
    "\\frac{\\partial J}{\\partial w} &= \\frac{\\partial J}{\\partial h} \\frac{\\partial h}{\\partial w} = \\frac{\\partial J}{\\partial h} \\circ (1 - \\tanh^2(w)) \\\\\n",
    "\\frac{\\partial J}{\\partial h} &= \\frac{\\partial J}{\\partial z} \\frac{\\partial z}{\\partial h} = U \\frac{\\partial J}{\\partial z} \\\\\n",
    "\\frac{\\partial J}{\\partial z} &= \\hat{y} - y\n",
    "\\end{align}"
   ]
  },
  {
   "cell_type": "markdown",
   "metadata": {},
   "source": [
    "The last derivative can be obtained as follows:\n",
    "\\begin{align}\n",
    "\\frac{\\partial J}{\\partial z_i} &= - \\sum_{k}y_k \\frac{\\partial \\log(\\hat{y}_k)}{\\partial z_i} \\\\\n",
    "&= - \\sum_{k}y_k \\frac{\\partial \\log(\\hat{y}_k)}{\\partial \\hat{y}_k} \\frac{\\partial \\hat{y}_k}{\\partial z_i} \\\\\n",
    "&= - \\sum_{k}y_k \\frac{1}{\\hat{y}_k} \\frac{\\partial \\hat{y}_k}{\\partial z_i} \\\\\n",
    "\\end{align}"
   ]
  },
  {
   "cell_type": "markdown",
   "metadata": {},
   "source": [
    "Since $\\hat{y}_i = softmax(z_i)$, and the derivative of $softmax$ is:\n",
    "\\begin{align}\n",
    "\\frac{\\partial \\hat{y}_i}{\\partial z_i} &= \\hat{y}_i (1 - \\hat{y}_j)  & if & i=j \\\\\n",
    "\\frac{\\partial \\hat{y}_i}{\\partial z_i} &= - \\hat{y}_j \\hat{y}_i      & if & i \\neq j\n",
    "\\end{align}\n",
    "\n",
    "considering separately the case $k = i$, we get:\n",
    "\\begin{align}\n",
    "\\frac{\\partial J}{\\partial z_i} &= - y_i(1 - \\hat{y}_i) - \\sum_{k \\neq i}y_k \\frac{1}{\\hat{y}_k} (- \\hat{y}_k \\hat{y}_i) \\\\\n",
    "&= - y_i(1 - \\hat{y}_i) + \\sum_{k \\neq i}y_k \\hat{y}_i \\\\\n",
    "&= \\hat{y}_i \\left( y_i + \\sum_{k \\neq i}y_k \\right) - y_i\\\\\n",
    "&= \\hat{y}_i - y_i\\\\\n",
    "\\end{align}\n",
    "since $y$ is a one hot encoded vector for the labels, so:\n",
    "\\begin{align}\n",
    "y_i + \\sum_{k \\neq i}y_k = 1\n",
    "\\end{align}"
   ]
  },
  {
   "cell_type": "markdown",
   "metadata": {},
   "source": [
    "## 3.2 Classifier\n",
    "*Build a NN binary classifier in Keras using the following layers:*\n",
    "1. word embeddings\n",
    "2. Convolutional Neural Network\n",
    "3. Max Pooling\n",
    "4. Dense\n",
    "\n",
    "and a cross-entropy loss function."
   ]
  },
  {
   "cell_type": "markdown",
   "metadata": {},
   "source": [
    "### Load GloVE embeddings"
   ]
  },
  {
   "cell_type": "code",
   "execution_count": 16,
   "metadata": {},
   "outputs": [],
   "source": [
    "glove = api.load(\"glove-wiki-gigaword-50\")"
   ]
  },
  {
   "cell_type": "code",
   "execution_count": 38,
   "metadata": {},
   "outputs": [
    {
     "data": {
      "text/plain": [
       "(400000, 50)"
      ]
     },
     "execution_count": 38,
     "metadata": {},
     "output_type": "execute_result"
    }
   ],
   "source": [
    "glove.vectors.shape"
   ]
  },
  {
   "cell_type": "markdown",
   "metadata": {},
   "source": [
    "## Load the word index of IMDB\n",
    "We need the index of words for the IMDB, dowloaded from https://s3.amazonaws.com/text-datasets/imdb_word_index.json"
   ]
  },
  {
   "cell_type": "code",
   "execution_count": 39,
   "metadata": {},
   "outputs": [],
   "source": [
    "word_index = imdb.get_word_index()"
   ]
  },
  {
   "cell_type": "markdown",
   "metadata": {},
   "source": [
    "word_index['the'] should be 1, since 0 is reserved for padding."
   ]
  },
  {
   "cell_type": "markdown",
   "metadata": {},
   "source": [
    "### Pad sequences"
   ]
  },
  {
   "cell_type": "code",
   "execution_count": 41,
   "metadata": {},
   "outputs": [],
   "source": [
    "MAX_SEQUENCE_LENGTH = 250\n",
    "MAX_NUM_WORDS = 10000 # Top most frequent words to consider. Includes padding.\n",
    "VALIDATION_SPLIT = 0.1\n",
    "EPOCHS = 5\n",
    "BATCH_SIZE = 64"
   ]
  },
  {
   "cell_type": "raw",
   "metadata": {},
   "source": [
    "Pad sequences to `MAX_SEQUENCE_LENGTH`. Padding can be done either at the front or at the end of sentences, depending on the parametere `padding`."
   ]
  },
  {
   "cell_type": "code",
   "execution_count": 42,
   "metadata": {
    "scrolled": true
   },
   "outputs": [],
   "source": [
    "from keras.preprocessing.sequence import pad_sequences\n",
    "\n",
    "x_train = pad_sequences(x_train, maxlen=MAX_SEQUENCE_LENGTH, padding='post', truncating='post')\n",
    "x_test = pad_sequences(x_test, maxlen=MAX_SEQUENCE_LENGTH, padding='post', truncating='post')"
   ]
  },
  {
   "cell_type": "markdown",
   "metadata": {},
   "source": [
    "### Split train data into train and validation:"
   ]
  },
  {
   "cell_type": "code",
   "execution_count": 65,
   "metadata": {},
   "outputs": [
    {
     "data": {
      "text/plain": [
       "((22500, 250), (22500,), (2500, 250), (2500,))"
      ]
     },
     "execution_count": 65,
     "metadata": {},
     "output_type": "execute_result"
    }
   ],
   "source": [
    "indices = np.arange(x_train.shape[0])\n",
    "np.random.shuffle(indices)\n",
    "data = x_train[indices]\n",
    "labels = y_train[indices]\n",
    "nb_validation_samples = int(VALIDATION_SPLIT * data.shape[0])\n",
    "\n",
    "x_train = data[:-nb_validation_samples]\n",
    "y_train = labels[:-nb_validation_samples]\n",
    "x_val = data[-nb_validation_samples:]\n",
    "y_val = labels[-nb_validation_samples:]\n",
    "\n",
    "x_train.shape, y_train.shape, x_val.shape, y_val.shape"
   ]
  },
  {
   "cell_type": "markdown",
   "metadata": {},
   "source": [
    "### Build embeddings corresponding to the IMDB word index"
   ]
  },
  {
   "cell_type": "code",
   "execution_count": 57,
   "metadata": {},
   "outputs": [],
   "source": [
    "num_words = min(MAX_NUM_WORDS, len(word_index) + 1) # +1 for padding\n",
    "# Initialize with random weights\n",
    "word_embeddings = np.random.uniform(-0.2, 0.2, (num_words, glove.vectors.shape[1]))\n",
    "\n",
    "for word, i in word_index.items():\n",
    "    if i >= num_words:\n",
    "        continue\n",
    "    if word in glove:\n",
    "        # words not found in embeddings will have random weights\n",
    "        word_embeddings[i] = glove[word]"
   ]
  },
  {
   "cell_type": "markdown",
   "metadata": {},
   "source": [
    "## Build the model"
   ]
  },
  {
   "cell_type": "code",
   "execution_count": 58,
   "metadata": {},
   "outputs": [],
   "source": [
    "from keras.models import Model, Sequential\n",
    "from keras.layers import Input, Embedding, Conv1D, MaxPooling1D, Flatten\n",
    "from keras.layers import Dropout, Dense\n",
    "from keras.losses import binary_crossentropy, categorical_crossentropy"
   ]
  },
  {
   "cell_type": "code",
   "execution_count": 59,
   "metadata": {},
   "outputs": [],
   "source": [
    "model = Sequential()\n",
    "model.add(Embedding(word_embeddings.shape[0],\n",
    "              word_embeddings.shape[1],\n",
    "              weights=[word_embeddings],\n",
    "              input_length=MAX_SEQUENCE_LENGTH))"
   ]
  },
  {
   "cell_type": "markdown",
   "metadata": {},
   "source": [
    "A `Conv1D` with `kernel_size=5` builds a convolution over time of windows of size 5, and `MaxPooling1D` collapses each group of consecutive 5 into a single vector. "
   ]
  },
  {
   "cell_type": "code",
   "execution_count": 61,
   "metadata": {},
   "outputs": [],
   "source": [
    "HIDDEN_SIZE = 128\n",
    "\n",
    "model.add(Conv1D(HIDDEN_SIZE, 5, padding='same', activation='relu'))\n",
    "model.add(MaxPooling1D(5))\n",
    "model.add(Flatten())\n",
    "model.add(Dense(HIDDEN_SIZE, activation='relu'))\n",
    "#model.add(Dropout(0.1))\n",
    "model.add(Dense(1, activation='sigmoid'))"
   ]
  },
  {
   "cell_type": "markdown",
   "metadata": {},
   "source": [
    "### Show the model"
   ]
  },
  {
   "cell_type": "code",
   "execution_count": 62,
   "metadata": {},
   "outputs": [
    {
     "data": {
      "image/svg+xml": [
       "<svg height=\"553pt\" viewBox=\"0.00 0.00 380.00 553.00\" width=\"380pt\" xmlns=\"http://www.w3.org/2000/svg\" xmlns:xlink=\"http://www.w3.org/1999/xlink\">\n",
       "<g class=\"graph\" id=\"graph0\" transform=\"scale(1 1) rotate(0) translate(4 549)\">\n",
       "<title>G</title>\n",
       "<polygon fill=\"#ffffff\" points=\"-4,4 -4,-549 376,-549 376,4 -4,4\" stroke=\"transparent\"/>\n",
       "<!-- 140448113551232 -->\n",
       "<g class=\"node\" id=\"node1\">\n",
       "<title>140448113551232</title>\n",
       "<polygon fill=\"none\" points=\"20.5,-498.5 20.5,-544.5 351.5,-544.5 351.5,-498.5 20.5,-498.5\" stroke=\"#000000\"/>\n",
       "<text fill=\"#000000\" font-family=\"Times,serif\" font-size=\"14.00\" text-anchor=\"middle\" x=\"117\" y=\"-517.8\">embedding_1_input: InputLayer</text>\n",
       "<polyline fill=\"none\" points=\"213.5,-498.5 213.5,-544.5 \" stroke=\"#000000\"/>\n",
       "<text fill=\"#000000\" font-family=\"Times,serif\" font-size=\"14.00\" text-anchor=\"middle\" x=\"241\" y=\"-529.3\">input:</text>\n",
       "<polyline fill=\"none\" points=\"213.5,-521.5 268.5,-521.5 \" stroke=\"#000000\"/>\n",
       "<text fill=\"#000000\" font-family=\"Times,serif\" font-size=\"14.00\" text-anchor=\"middle\" x=\"241\" y=\"-506.3\">output:</text>\n",
       "<polyline fill=\"none\" points=\"268.5,-498.5 268.5,-544.5 \" stroke=\"#000000\"/>\n",
       "<text fill=\"#000000\" font-family=\"Times,serif\" font-size=\"14.00\" text-anchor=\"middle\" x=\"310\" y=\"-529.3\">(None, 250)</text>\n",
       "<polyline fill=\"none\" points=\"268.5,-521.5 351.5,-521.5 \" stroke=\"#000000\"/>\n",
       "<text fill=\"#000000\" font-family=\"Times,serif\" font-size=\"14.00\" text-anchor=\"middle\" x=\"310\" y=\"-506.3\">(None, 250)</text>\n",
       "</g>\n",
       "<!-- 140448113551176 -->\n",
       "<g class=\"node\" id=\"node2\">\n",
       "<title>140448113551176</title>\n",
       "<polygon fill=\"none\" points=\"26,-415.5 26,-461.5 346,-461.5 346,-415.5 26,-415.5\" stroke=\"#000000\"/>\n",
       "<text fill=\"#000000\" font-family=\"Times,serif\" font-size=\"14.00\" text-anchor=\"middle\" x=\"106.5\" y=\"-434.8\">embedding_1: Embedding</text>\n",
       "<polyline fill=\"none\" points=\"187,-415.5 187,-461.5 \" stroke=\"#000000\"/>\n",
       "<text fill=\"#000000\" font-family=\"Times,serif\" font-size=\"14.00\" text-anchor=\"middle\" x=\"214.5\" y=\"-446.3\">input:</text>\n",
       "<polyline fill=\"none\" points=\"187,-438.5 242,-438.5 \" stroke=\"#000000\"/>\n",
       "<text fill=\"#000000\" font-family=\"Times,serif\" font-size=\"14.00\" text-anchor=\"middle\" x=\"214.5\" y=\"-423.3\">output:</text>\n",
       "<polyline fill=\"none\" points=\"242,-415.5 242,-461.5 \" stroke=\"#000000\"/>\n",
       "<text fill=\"#000000\" font-family=\"Times,serif\" font-size=\"14.00\" text-anchor=\"middle\" x=\"294\" y=\"-446.3\">(None, 250)</text>\n",
       "<polyline fill=\"none\" points=\"242,-438.5 346,-438.5 \" stroke=\"#000000\"/>\n",
       "<text fill=\"#000000\" font-family=\"Times,serif\" font-size=\"14.00\" text-anchor=\"middle\" x=\"294\" y=\"-423.3\">(None, 250, 50)</text>\n",
       "</g>\n",
       "<!-- 140448113551232&#45;&gt;140448113551176 -->\n",
       "<g class=\"edge\" id=\"edge1\">\n",
       "<title>140448113551232-&gt;140448113551176</title>\n",
       "<path d=\"M186,-498.3799C186,-490.1745 186,-480.7679 186,-471.8786\" fill=\"none\" stroke=\"#000000\"/>\n",
       "<polygon fill=\"#000000\" points=\"189.5001,-471.784 186,-461.784 182.5001,-471.784 189.5001,-471.784\" stroke=\"#000000\"/>\n",
       "</g>\n",
       "<!-- 140447989116488 -->\n",
       "<g class=\"node\" id=\"node3\">\n",
       "<title>140447989116488</title>\n",
       "<polygon fill=\"none\" points=\"42,-332.5 42,-378.5 330,-378.5 330,-332.5 42,-332.5\" stroke=\"#000000\"/>\n",
       "<text fill=\"#000000\" font-family=\"Times,serif\" font-size=\"14.00\" text-anchor=\"middle\" x=\"103.5\" y=\"-351.8\">conv1d_1: Conv1D</text>\n",
       "<polyline fill=\"none\" points=\"165,-332.5 165,-378.5 \" stroke=\"#000000\"/>\n",
       "<text fill=\"#000000\" font-family=\"Times,serif\" font-size=\"14.00\" text-anchor=\"middle\" x=\"192.5\" y=\"-363.3\">input:</text>\n",
       "<polyline fill=\"none\" points=\"165,-355.5 220,-355.5 \" stroke=\"#000000\"/>\n",
       "<text fill=\"#000000\" font-family=\"Times,serif\" font-size=\"14.00\" text-anchor=\"middle\" x=\"192.5\" y=\"-340.3\">output:</text>\n",
       "<polyline fill=\"none\" points=\"220,-332.5 220,-378.5 \" stroke=\"#000000\"/>\n",
       "<text fill=\"#000000\" font-family=\"Times,serif\" font-size=\"14.00\" text-anchor=\"middle\" x=\"275\" y=\"-363.3\">(None, 250, 50)</text>\n",
       "<polyline fill=\"none\" points=\"220,-355.5 330,-355.5 \" stroke=\"#000000\"/>\n",
       "<text fill=\"#000000\" font-family=\"Times,serif\" font-size=\"14.00\" text-anchor=\"middle\" x=\"275\" y=\"-340.3\">(None, 250, 128)</text>\n",
       "</g>\n",
       "<!-- 140448113551176&#45;&gt;140447989116488 -->\n",
       "<g class=\"edge\" id=\"edge2\">\n",
       "<title>140448113551176-&gt;140447989116488</title>\n",
       "<path d=\"M186,-415.3799C186,-407.1745 186,-397.7679 186,-388.8786\" fill=\"none\" stroke=\"#000000\"/>\n",
       "<polygon fill=\"#000000\" points=\"189.5001,-388.784 186,-378.784 182.5001,-388.784 189.5001,-388.784\" stroke=\"#000000\"/>\n",
       "</g>\n",
       "<!-- 140448113551736 -->\n",
       "<g class=\"node\" id=\"node4\">\n",
       "<title>140448113551736</title>\n",
       "<polygon fill=\"none\" points=\"0,-249.5 0,-295.5 372,-295.5 372,-249.5 0,-249.5\" stroke=\"#000000\"/>\n",
       "<text fill=\"#000000\" font-family=\"Times,serif\" font-size=\"14.00\" text-anchor=\"middle\" x=\"103.5\" y=\"-268.8\">max_pooling1d_1: MaxPooling1D</text>\n",
       "<polyline fill=\"none\" points=\"207,-249.5 207,-295.5 \" stroke=\"#000000\"/>\n",
       "<text fill=\"#000000\" font-family=\"Times,serif\" font-size=\"14.00\" text-anchor=\"middle\" x=\"234.5\" y=\"-280.3\">input:</text>\n",
       "<polyline fill=\"none\" points=\"207,-272.5 262,-272.5 \" stroke=\"#000000\"/>\n",
       "<text fill=\"#000000\" font-family=\"Times,serif\" font-size=\"14.00\" text-anchor=\"middle\" x=\"234.5\" y=\"-257.3\">output:</text>\n",
       "<polyline fill=\"none\" points=\"262,-249.5 262,-295.5 \" stroke=\"#000000\"/>\n",
       "<text fill=\"#000000\" font-family=\"Times,serif\" font-size=\"14.00\" text-anchor=\"middle\" x=\"317\" y=\"-280.3\">(None, 250, 128)</text>\n",
       "<polyline fill=\"none\" points=\"262,-272.5 372,-272.5 \" stroke=\"#000000\"/>\n",
       "<text fill=\"#000000\" font-family=\"Times,serif\" font-size=\"14.00\" text-anchor=\"middle\" x=\"317\" y=\"-257.3\">(None, 50, 128)</text>\n",
       "</g>\n",
       "<!-- 140447989116488&#45;&gt;140448113551736 -->\n",
       "<g class=\"edge\" id=\"edge3\">\n",
       "<title>140447989116488-&gt;140448113551736</title>\n",
       "<path d=\"M186,-332.3799C186,-324.1745 186,-314.7679 186,-305.8786\" fill=\"none\" stroke=\"#000000\"/>\n",
       "<polygon fill=\"#000000\" points=\"189.5001,-305.784 186,-295.784 182.5001,-305.784 189.5001,-305.784\" stroke=\"#000000\"/>\n",
       "</g>\n",
       "<!-- 140450230185432 -->\n",
       "<g class=\"node\" id=\"node5\">\n",
       "<title>140450230185432</title>\n",
       "<polygon fill=\"none\" points=\"51.5,-166.5 51.5,-212.5 320.5,-212.5 320.5,-166.5 51.5,-166.5\" stroke=\"#000000\"/>\n",
       "<text fill=\"#000000\" font-family=\"Times,serif\" font-size=\"14.00\" text-anchor=\"middle\" x=\"106.5\" y=\"-185.8\">flatten_1: Flatten</text>\n",
       "<polyline fill=\"none\" points=\"161.5,-166.5 161.5,-212.5 \" stroke=\"#000000\"/>\n",
       "<text fill=\"#000000\" font-family=\"Times,serif\" font-size=\"14.00\" text-anchor=\"middle\" x=\"189\" y=\"-197.3\">input:</text>\n",
       "<polyline fill=\"none\" points=\"161.5,-189.5 216.5,-189.5 \" stroke=\"#000000\"/>\n",
       "<text fill=\"#000000\" font-family=\"Times,serif\" font-size=\"14.00\" text-anchor=\"middle\" x=\"189\" y=\"-174.3\">output:</text>\n",
       "<polyline fill=\"none\" points=\"216.5,-166.5 216.5,-212.5 \" stroke=\"#000000\"/>\n",
       "<text fill=\"#000000\" font-family=\"Times,serif\" font-size=\"14.00\" text-anchor=\"middle\" x=\"268.5\" y=\"-197.3\">(None, 50, 128)</text>\n",
       "<polyline fill=\"none\" points=\"216.5,-189.5 320.5,-189.5 \" stroke=\"#000000\"/>\n",
       "<text fill=\"#000000\" font-family=\"Times,serif\" font-size=\"14.00\" text-anchor=\"middle\" x=\"268.5\" y=\"-174.3\">(None, 6400)</text>\n",
       "</g>\n",
       "<!-- 140448113551736&#45;&gt;140450230185432 -->\n",
       "<g class=\"edge\" id=\"edge4\">\n",
       "<title>140448113551736-&gt;140450230185432</title>\n",
       "<path d=\"M186,-249.3799C186,-241.1745 186,-231.7679 186,-222.8786\" fill=\"none\" stroke=\"#000000\"/>\n",
       "<polygon fill=\"#000000\" points=\"189.5001,-222.784 186,-212.784 182.5001,-222.784 189.5001,-222.784\" stroke=\"#000000\"/>\n",
       "</g>\n",
       "<!-- 140447989116768 -->\n",
       "<g class=\"node\" id=\"node6\">\n",
       "<title>140447989116768</title>\n",
       "<polygon fill=\"none\" points=\"63,-83.5 63,-129.5 309,-129.5 309,-83.5 63,-83.5\" stroke=\"#000000\"/>\n",
       "<text fill=\"#000000\" font-family=\"Times,serif\" font-size=\"14.00\" text-anchor=\"middle\" x=\"114\" y=\"-102.8\">dense_1: Dense</text>\n",
       "<polyline fill=\"none\" points=\"165,-83.5 165,-129.5 \" stroke=\"#000000\"/>\n",
       "<text fill=\"#000000\" font-family=\"Times,serif\" font-size=\"14.00\" text-anchor=\"middle\" x=\"192.5\" y=\"-114.3\">input:</text>\n",
       "<polyline fill=\"none\" points=\"165,-106.5 220,-106.5 \" stroke=\"#000000\"/>\n",
       "<text fill=\"#000000\" font-family=\"Times,serif\" font-size=\"14.00\" text-anchor=\"middle\" x=\"192.5\" y=\"-91.3\">output:</text>\n",
       "<polyline fill=\"none\" points=\"220,-83.5 220,-129.5 \" stroke=\"#000000\"/>\n",
       "<text fill=\"#000000\" font-family=\"Times,serif\" font-size=\"14.00\" text-anchor=\"middle\" x=\"264.5\" y=\"-114.3\">(None, 6400)</text>\n",
       "<polyline fill=\"none\" points=\"220,-106.5 309,-106.5 \" stroke=\"#000000\"/>\n",
       "<text fill=\"#000000\" font-family=\"Times,serif\" font-size=\"14.00\" text-anchor=\"middle\" x=\"264.5\" y=\"-91.3\">(None, 128)</text>\n",
       "</g>\n",
       "<!-- 140450230185432&#45;&gt;140447989116768 -->\n",
       "<g class=\"edge\" id=\"edge5\">\n",
       "<title>140450230185432-&gt;140447989116768</title>\n",
       "<path d=\"M186,-166.3799C186,-158.1745 186,-148.7679 186,-139.8786\" fill=\"none\" stroke=\"#000000\"/>\n",
       "<polygon fill=\"#000000\" points=\"189.5001,-139.784 186,-129.784 182.5001,-139.784 189.5001,-139.784\" stroke=\"#000000\"/>\n",
       "</g>\n",
       "<!-- 140447989124568 -->\n",
       "<g class=\"node\" id=\"node7\">\n",
       "<title>140447989124568</title>\n",
       "<polygon fill=\"none\" points=\"66,-.5 66,-46.5 306,-46.5 306,-.5 66,-.5\" stroke=\"#000000\"/>\n",
       "<text fill=\"#000000\" font-family=\"Times,serif\" font-size=\"14.00\" text-anchor=\"middle\" x=\"117\" y=\"-19.8\">dense_2: Dense</text>\n",
       "<polyline fill=\"none\" points=\"168,-.5 168,-46.5 \" stroke=\"#000000\"/>\n",
       "<text fill=\"#000000\" font-family=\"Times,serif\" font-size=\"14.00\" text-anchor=\"middle\" x=\"195.5\" y=\"-31.3\">input:</text>\n",
       "<polyline fill=\"none\" points=\"168,-23.5 223,-23.5 \" stroke=\"#000000\"/>\n",
       "<text fill=\"#000000\" font-family=\"Times,serif\" font-size=\"14.00\" text-anchor=\"middle\" x=\"195.5\" y=\"-8.3\">output:</text>\n",
       "<polyline fill=\"none\" points=\"223,-.5 223,-46.5 \" stroke=\"#000000\"/>\n",
       "<text fill=\"#000000\" font-family=\"Times,serif\" font-size=\"14.00\" text-anchor=\"middle\" x=\"264.5\" y=\"-31.3\">(None, 128)</text>\n",
       "<polyline fill=\"none\" points=\"223,-23.5 306,-23.5 \" stroke=\"#000000\"/>\n",
       "<text fill=\"#000000\" font-family=\"Times,serif\" font-size=\"14.00\" text-anchor=\"middle\" x=\"264.5\" y=\"-8.3\">(None, 1)</text>\n",
       "</g>\n",
       "<!-- 140447989116768&#45;&gt;140447989124568 -->\n",
       "<g class=\"edge\" id=\"edge6\">\n",
       "<title>140447989116768-&gt;140447989124568</title>\n",
       "<path d=\"M186,-83.3799C186,-75.1745 186,-65.7679 186,-56.8786\" fill=\"none\" stroke=\"#000000\"/>\n",
       "<polygon fill=\"#000000\" points=\"189.5001,-56.784 186,-46.784 182.5001,-56.784 189.5001,-56.784\" stroke=\"#000000\"/>\n",
       "</g>\n",
       "</g>\n",
       "</svg>"
      ],
      "text/plain": [
       "<IPython.core.display.SVG object>"
      ]
     },
     "execution_count": 62,
     "metadata": {},
     "output_type": "execute_result"
    }
   ],
   "source": [
    "from IPython.display import SVG\n",
    "from keras.utils.vis_utils import model_to_dot\n",
    "SVG(model_to_dot(model, show_shapes=True).create(prog='dot', format='svg'))"
   ]
  },
  {
   "cell_type": "markdown",
   "metadata": {},
   "source": [
    "## Compile\n",
    "`Keras` is built on top of `Theano` and `TensorFlow`. Both packages allow you to define a computation graph in `Python`, which is then compiled and run efficiently on the CPU or GPU without the overhead of the Python interpreter.\n",
    "\n",
    "The `compile` method takes three arguments:\n",
    "- A loss function. The objective that the model will try to minimize. It can be the name of an existing loss function (such as `categorical_crossentropy` or ` mse`), or it can be an objective function.\n",
    "- An optimizer. The name of an existing optimizer (such as `rmsprop` or `adagrad`), or an instance of the Optimizer class.\n",
    "- A list of metrics. For any classification problem you will want to set this to `metrics=['accuracy']`. A metric could be the name of an existing metric or a custom metric function."
   ]
  },
  {
   "cell_type": "code",
   "execution_count": 63,
   "metadata": {},
   "outputs": [],
   "source": [
    "model.compile(loss='binary_crossentropy',\n",
    "              optimizer='adam',\n",
    "              metrics=['acc'])"
   ]
  },
  {
   "cell_type": "markdown",
   "metadata": {},
   "source": [
    "## Train the model\n",
    "\n",
    "*Train the classifier on the Movie Review dataset, using fold 10 for testing and the rest for training.*"
   ]
  },
  {
   "cell_type": "code",
   "execution_count": 66,
   "metadata": {},
   "outputs": [
    {
     "name": "stdout",
     "output_type": "stream",
     "text": [
      "Train on 22500 samples, validate on 2500 samples\n",
      "Epoch 1/5\n",
      "22500/22500 [==============================] - 16s 712us/step - loss: 0.7113 - acc: 0.5079 - val_loss: 0.6912 - val_acc: 0.5144\n",
      "Epoch 2/5\n",
      "22500/22500 [==============================] - 16s 696us/step - loss: 0.6268 - acc: 0.6669 - val_loss: 0.5472 - val_acc: 0.7840\n",
      "Epoch 3/5\n",
      "22500/22500 [==============================] - 16s 697us/step - loss: 0.4315 - acc: 0.8556 - val_loss: 0.3570 - val_acc: 0.8492\n",
      "Epoch 4/5\n",
      "22500/22500 [==============================] - 16s 694us/step - loss: 0.2296 - acc: 0.9118 - val_loss: 0.3588 - val_acc: 0.8536\n",
      "Epoch 5/5\n",
      "22500/22500 [==============================] - 16s 697us/step - loss: 0.1327 - acc: 0.9533 - val_loss: 0.3591 - val_acc: 0.8696\n"
     ]
    },
    {
     "data": {
      "text/plain": [
       "<keras.callbacks.History at 0x7fbc9ff592b0>"
      ]
     },
     "execution_count": 66,
     "metadata": {},
     "output_type": "execute_result"
    }
   ],
   "source": [
    "model.fit(x_train, y_train,\n",
    "          batch_size=BATCH_SIZE,  # default 32\n",
    "          epochs=EPOCHS,\n",
    "          validation_data=(x_val, y_val),\n",
    "          verbose=True)"
   ]
  },
  {
   "cell_type": "markdown",
   "metadata": {},
   "source": [
    "## 3.3 Evaluate the NN classifier\n",
    "\n",
    "*Compare the accuracy and F1 wrt the Naïve Bayes classifier.*"
   ]
  },
  {
   "cell_type": "code",
   "execution_count": 67,
   "metadata": {},
   "outputs": [],
   "source": [
    "y_pred = model.predict(x_test)\n",
    "y_pred = [int(y > 0.5) for y in y_pred]"
   ]
  },
  {
   "cell_type": "code",
   "execution_count": 68,
   "metadata": {},
   "outputs": [],
   "source": [
    "from sklearn.metrics import confusion_matrix\n",
    "\n",
    "def show_metrics(y_test, y_pred):\n",
    "    \"\"\"\n",
    "    Print metrics comparing :param y_test: with :param y_pred:.\n",
    "    \"\"\"\n",
    "    tn, fp, fn, tp = confusion_matrix(y_test, y_pred).ravel()\n",
    "    accuracy = (tp + tn) / (tp + tn + fp + fn)\n",
    "    precision = tp / (tp + fp)\n",
    "    recall = tp / (tp + fn)\n",
    "    f1 = 2 * (precision * recall) / (precision + recall)\n",
    "\n",
    "    print(\"Accuracy: %.2f; Precision: %.2f; Recall: %.2f; F1: %.2f\" %\n",
    "          (accuracy*100, precision*100, recall*100, f1*100))"
   ]
  },
  {
   "cell_type": "code",
   "execution_count": 69,
   "metadata": {},
   "outputs": [
    {
     "name": "stdout",
     "output_type": "stream",
     "text": [
      "Accuracy: 85.32; Precision: 85.12; Recall: 85.60; F1: 85.36\n"
     ]
    }
   ],
   "source": [
    "show_metrics(y_test, y_pred)"
   ]
  },
  {
   "cell_type": "markdown",
   "metadata": {},
   "source": [
    "# 4 POS\tTagger\n",
    "Get the tokenized and tagged with Universal POS sentences from the \"news\" category from the\n",
    "Brown corpus:"
   ]
  },
  {
   "cell_type": "code",
   "execution_count": 7,
   "metadata": {},
   "outputs": [],
   "source": [
    "from nltk.corpus import brown\n",
    "brown_sents = brown.tagged_sents(categories='news', tagset='universal')"
   ]
  },
  {
   "cell_type": "markdown",
   "metadata": {},
   "source": [
    "## 4.1 Classifier\n",
    "Adapt the previous classifier to a multiclass classifier to predict the POS tag of each word. Use a\n",
    "sliding window, i.e. represent each word by the concatenation of the embeddings of 5 words, i.e. the\n",
    "word, two preceding and two following words. Add a special padding word to the embeddings to\n",
    "represent words close to the beginning or end of a sentence"
   ]
  },
  {
   "cell_type": "markdown",
   "metadata": {},
   "source": [
    "### Split into train and test\n",
    "Use all but the last 1000 sentences to train the classifier. (It should be better to choose them randomly)."
   ]
  },
  {
   "cell_type": "code",
   "execution_count": 8,
   "metadata": {},
   "outputs": [],
   "source": [
    "brown_train = brown_sents[:-1000]\n",
    "brown_test = brown_sents[-1000:]"
   ]
  },
  {
   "cell_type": "markdown",
   "metadata": {},
   "source": [
    "### Build dictionary of words and tags\n",
    "\n",
    "Vocabularies of words and tags:"
   ]
  },
  {
   "cell_type": "code",
   "execution_count": 9,
   "metadata": {},
   "outputs": [],
   "source": [
    "word_set = set()\n",
    "tag_set = set()\n",
    "for sentence in brown_sents:\n",
    "    for word, tag in sentence:\n",
    "        word_set.add(word)\n",
    "        tag_set.add(tag)"
   ]
  },
  {
   "cell_type": "markdown",
   "metadata": {},
   "source": [
    "Dictionaries of words and tags:"
   ]
  },
  {
   "cell_type": "code",
   "execution_count": 10,
   "metadata": {},
   "outputs": [],
   "source": [
    "word_index = {}\n",
    "for idx, word in enumerate(word_set):\n",
    "    word_index[word] = idx + 2 # leave 0 and 1 for padding and unknown\n",
    "    \n",
    "tag_index = {}\n",
    "int2tag = {}\n",
    "for idx, tag in enumerate(tag_set):\n",
    "    tag_index[tag] = idx\n",
    "    int2tag[idx] = tag\n",
    "\n",
    "n_words = len(word_index) + 2 # for padding and OOV\n",
    "n_tags = len(tag_set)"
   ]
  },
  {
   "cell_type": "markdown",
   "metadata": {},
   "source": [
    "We represent each word as an n-gram of a few tokens around the word."
   ]
  },
  {
   "cell_type": "code",
   "execution_count": 11,
   "metadata": {},
   "outputs": [],
   "source": [
    "import numpy as np\n",
    "\n",
    "def build_ngrams(sentences, ctx_size, word_index, tag_index):\n",
    "    \"\"\"\n",
    "    Turn sentences into n-grams of word indices, taken from word_index.\n",
    "    :param setences: a list of sentences.\n",
    "    :param ctx_size: numer of tokens to consider before and after each word.\n",
    "    :param word_index: dictionary of words.\n",
    "    :param tag_index: dictionary of tags.\n",
    "    :return: the list of n-grams and the list of corresponding labels.\n",
    "    \"\"\"\n",
    "    padding_idx = 0\n",
    "    unknown_idx = 1\n",
    "    \n",
    "    X = []\n",
    "    Y = []\n",
    "    \n",
    "    for sentence in sentences:\n",
    "        for n, (word, tag) in enumerate(sentence):\n",
    "            word_indices = []\n",
    "            for i in range(n - ctx_size, n + ctx_size + 1):\n",
    "                # add padding\n",
    "                if i < 0 or i >= len(sentence):\n",
    "                    word_indices.append(padding_idx)\n",
    "                    continue\n",
    "                gram = sentence[i][0]\n",
    "                # index of either word, lowercase word or unknown\n",
    "                word_idx = word_index.get(gram) or word_index.get(gram.lower(),\n",
    "                                                                  unknown_idx)\n",
    "                word_indices.append(word_idx)\n",
    "\n",
    "            X.append(word_indices)\n",
    "            Y.append(tag_index[tag])\n",
    "            \n",
    "    return np.asarray(X), np.asarray(Y)                    "
   ]
  },
  {
   "cell_type": "markdown",
   "metadata": {},
   "source": [
    "### Build the data set of n-grams"
   ]
  },
  {
   "cell_type": "code",
   "execution_count": 12,
   "metadata": {},
   "outputs": [],
   "source": [
    "ctx_size = 2\n",
    "window_size = 2 * ctx_size + 1\n",
    "x_train, y_train = build_ngrams(brown_train, ctx_size, word_index, tag_index)\n",
    "x_test, y_test = build_ngrams(brown_test, ctx_size, word_index, tag_index)"
   ]
  },
  {
   "cell_type": "markdown",
   "metadata": {},
   "source": [
    "Turn tags into a one-hot representation:"
   ]
  },
  {
   "cell_type": "code",
   "execution_count": 14,
   "metadata": {},
   "outputs": [
    {
     "data": {
      "text/plain": [
       "\u001b[0;31mSignature:\u001b[0m \u001b[0mto_categorical\u001b[0m\u001b[0;34m(\u001b[0m\u001b[0my\u001b[0m\u001b[0;34m,\u001b[0m \u001b[0mnum_classes\u001b[0m\u001b[0;34m=\u001b[0m\u001b[0;32mNone\u001b[0m\u001b[0;34m)\u001b[0m\u001b[0;34m\u001b[0m\u001b[0;34m\u001b[0m\u001b[0m\n",
       "\u001b[0;31mDocstring:\u001b[0m\n",
       "Converts a class vector (integers) to binary class matrix.\n",
       "\n",
       "E.g. for use with categorical_crossentropy.\n",
       "\n",
       "# Arguments\n",
       "    y: class vector to be converted into a matrix\n",
       "        (integers from 0 to num_classes).\n",
       "    num_classes: total number of classes.\n",
       "\n",
       "# Returns\n",
       "    A binary matrix representation of the input.\n",
       "\u001b[0;31mFile:\u001b[0m      /usr/local/lib/python3.6/dist-packages/keras/utils/np_utils.py\n",
       "\u001b[0;31mType:\u001b[0m      function\n"
      ]
     },
     "metadata": {},
     "output_type": "display_data"
    }
   ],
   "source": [
    "from keras.utils import to_categorical\n",
    "to_categorical?"
   ]
  },
  {
   "cell_type": "markdown",
   "metadata": {},
   "source": [
    "Convert outputs to one-hot vectors, so that the classifier will produce a probability distribution for each tag: "
   ]
  },
  {
   "cell_type": "code",
   "execution_count": 15,
   "metadata": {},
   "outputs": [],
   "source": [
    "y_train_cat = to_categorical(y_train, num_classes=n_tags)\n",
    "y_test_cat = to_categorical(y_test, num_classes=n_tags)"
   ]
  },
  {
   "cell_type": "code",
   "execution_count": 16,
   "metadata": {},
   "outputs": [
    {
     "data": {
      "text/plain": [
       "((77552, 5), (77552, 12), (23002, 5), (23002, 12))"
      ]
     },
     "execution_count": 16,
     "metadata": {},
     "output_type": "execute_result"
    }
   ],
   "source": [
    "x_train.shape, y_train_cat.shape, x_test.shape, y_test_cat.shape"
   ]
  },
  {
   "cell_type": "markdown",
   "metadata": {},
   "source": [
    "See one result in categorical form:"
   ]
  },
  {
   "cell_type": "code",
   "execution_count": 17,
   "metadata": {},
   "outputs": [
    {
     "data": {
      "text/plain": [
       "(6, array([0., 0., 0., 0., 0., 0., 1., 0., 0., 0., 0., 0.]))"
      ]
     },
     "execution_count": 17,
     "metadata": {},
     "output_type": "execute_result"
    }
   ],
   "source": [
    "y_train[0], y_train_cat[0]"
   ]
  },
  {
   "cell_type": "markdown",
   "metadata": {},
   "source": [
    "### Build the model"
   ]
  },
  {
   "cell_type": "code",
   "execution_count": 18,
   "metadata": {},
   "outputs": [],
   "source": [
    "from keras.models import Model, Sequential\n",
    "from keras.layers import Input, Embedding, Conv1D, MaxPooling1D, Flatten\n",
    "from keras.layers import Dropout, Dense\n",
    "from keras.losses import binary_crossentropy, categorical_crossentropy"
   ]
  },
  {
   "cell_type": "markdown",
   "metadata": {},
   "source": [
    "Hyperparameters"
   ]
  },
  {
   "cell_type": "code",
   "execution_count": 19,
   "metadata": {},
   "outputs": [],
   "source": [
    "MAX_SEQUENCE_LENGTH = 250\n",
    "HIDDEN_SIZE = 128\n",
    "EMBEDDING_DIM = 50\n",
    "EPOCHS = 4\n",
    "BATCH_SIZE = 64"
   ]
  },
  {
   "cell_type": "code",
   "execution_count": 20,
   "metadata": {},
   "outputs": [],
   "source": [
    "model = Sequential()\n",
    "model.add(Embedding(n_words, EMBEDDING_DIM, input_length=window_size))\n",
    "model.add(Flatten())\n",
    "model.add(Dropout(0.2)) # optional\n",
    "model.add(Dense(HIDDEN_SIZE, activation='relu'))\n",
    "model.add(Dropout(0.2)) # optional\n",
    "model.add(Dense(n_tags, activation='softmax'))\n",
    "model.compile(loss='categorical_crossentropy',\n",
    "              optimizer='adam',\n",
    "              metrics=['acc'])"
   ]
  },
  {
   "cell_type": "code",
   "execution_count": 21,
   "metadata": {},
   "outputs": [
    {
     "data": {
      "image/svg+xml": [
       "<svg height=\"553pt\" viewBox=\"0.00 0.00 325.00 553.00\" width=\"325pt\" xmlns=\"http://www.w3.org/2000/svg\" xmlns:xlink=\"http://www.w3.org/1999/xlink\">\n",
       "<g class=\"graph\" id=\"graph0\" transform=\"scale(1 1) rotate(0) translate(4 549)\">\n",
       "<title>G</title>\n",
       "<polygon fill=\"#ffffff\" points=\"-4,4 -4,-549 321,-549 321,4 -4,4\" stroke=\"transparent\"/>\n",
       "<!-- 140410590487328 -->\n",
       "<g class=\"node\" id=\"node1\">\n",
       "<title>140410590487328</title>\n",
       "<polygon fill=\"none\" points=\"0,-498.5 0,-544.5 317,-544.5 317,-498.5 0,-498.5\" stroke=\"#000000\"/>\n",
       "<text fill=\"#000000\" font-family=\"Times,serif\" font-size=\"14.00\" text-anchor=\"middle\" x=\"96.5\" y=\"-517.8\">embedding_1_input: InputLayer</text>\n",
       "<polyline fill=\"none\" points=\"193,-498.5 193,-544.5 \" stroke=\"#000000\"/>\n",
       "<text fill=\"#000000\" font-family=\"Times,serif\" font-size=\"14.00\" text-anchor=\"middle\" x=\"220.5\" y=\"-529.3\">input:</text>\n",
       "<polyline fill=\"none\" points=\"193,-521.5 248,-521.5 \" stroke=\"#000000\"/>\n",
       "<text fill=\"#000000\" font-family=\"Times,serif\" font-size=\"14.00\" text-anchor=\"middle\" x=\"220.5\" y=\"-506.3\">output:</text>\n",
       "<polyline fill=\"none\" points=\"248,-498.5 248,-544.5 \" stroke=\"#000000\"/>\n",
       "<text fill=\"#000000\" font-family=\"Times,serif\" font-size=\"14.00\" text-anchor=\"middle\" x=\"282.5\" y=\"-529.3\">(None, 5)</text>\n",
       "<polyline fill=\"none\" points=\"248,-521.5 317,-521.5 \" stroke=\"#000000\"/>\n",
       "<text fill=\"#000000\" font-family=\"Times,serif\" font-size=\"14.00\" text-anchor=\"middle\" x=\"282.5\" y=\"-506.3\">(None, 5)</text>\n",
       "</g>\n",
       "<!-- 140410590486880 -->\n",
       "<g class=\"node\" id=\"node2\">\n",
       "<title>140410590486880</title>\n",
       "<polygon fill=\"none\" points=\"5.5,-415.5 5.5,-461.5 311.5,-461.5 311.5,-415.5 5.5,-415.5\" stroke=\"#000000\"/>\n",
       "<text fill=\"#000000\" font-family=\"Times,serif\" font-size=\"14.00\" text-anchor=\"middle\" x=\"86\" y=\"-434.8\">embedding_1: Embedding</text>\n",
       "<polyline fill=\"none\" points=\"166.5,-415.5 166.5,-461.5 \" stroke=\"#000000\"/>\n",
       "<text fill=\"#000000\" font-family=\"Times,serif\" font-size=\"14.00\" text-anchor=\"middle\" x=\"194\" y=\"-446.3\">input:</text>\n",
       "<polyline fill=\"none\" points=\"166.5,-438.5 221.5,-438.5 \" stroke=\"#000000\"/>\n",
       "<text fill=\"#000000\" font-family=\"Times,serif\" font-size=\"14.00\" text-anchor=\"middle\" x=\"194\" y=\"-423.3\">output:</text>\n",
       "<polyline fill=\"none\" points=\"221.5,-415.5 221.5,-461.5 \" stroke=\"#000000\"/>\n",
       "<text fill=\"#000000\" font-family=\"Times,serif\" font-size=\"14.00\" text-anchor=\"middle\" x=\"266.5\" y=\"-446.3\">(None, 5)</text>\n",
       "<polyline fill=\"none\" points=\"221.5,-438.5 311.5,-438.5 \" stroke=\"#000000\"/>\n",
       "<text fill=\"#000000\" font-family=\"Times,serif\" font-size=\"14.00\" text-anchor=\"middle\" x=\"266.5\" y=\"-423.3\">(None, 5, 50)</text>\n",
       "</g>\n",
       "<!-- 140410590487328&#45;&gt;140410590486880 -->\n",
       "<g class=\"edge\" id=\"edge1\">\n",
       "<title>140410590487328-&gt;140410590486880</title>\n",
       "<path d=\"M158.5,-498.3799C158.5,-490.1745 158.5,-480.7679 158.5,-471.8786\" fill=\"none\" stroke=\"#000000\"/>\n",
       "<polygon fill=\"#000000\" points=\"162.0001,-471.784 158.5,-461.784 155.0001,-471.784 162.0001,-471.784\" stroke=\"#000000\"/>\n",
       "</g>\n",
       "<!-- 140410590486824 -->\n",
       "<g class=\"node\" id=\"node3\">\n",
       "<title>140410590486824</title>\n",
       "<polygon fill=\"none\" points=\"31,-332.5 31,-378.5 286,-378.5 286,-332.5 31,-332.5\" stroke=\"#000000\"/>\n",
       "<text fill=\"#000000\" font-family=\"Times,serif\" font-size=\"14.00\" text-anchor=\"middle\" x=\"86\" y=\"-351.8\">flatten_1: Flatten</text>\n",
       "<polyline fill=\"none\" points=\"141,-332.5 141,-378.5 \" stroke=\"#000000\"/>\n",
       "<text fill=\"#000000\" font-family=\"Times,serif\" font-size=\"14.00\" text-anchor=\"middle\" x=\"168.5\" y=\"-363.3\">input:</text>\n",
       "<polyline fill=\"none\" points=\"141,-355.5 196,-355.5 \" stroke=\"#000000\"/>\n",
       "<text fill=\"#000000\" font-family=\"Times,serif\" font-size=\"14.00\" text-anchor=\"middle\" x=\"168.5\" y=\"-340.3\">output:</text>\n",
       "<polyline fill=\"none\" points=\"196,-332.5 196,-378.5 \" stroke=\"#000000\"/>\n",
       "<text fill=\"#000000\" font-family=\"Times,serif\" font-size=\"14.00\" text-anchor=\"middle\" x=\"241\" y=\"-363.3\">(None, 5, 50)</text>\n",
       "<polyline fill=\"none\" points=\"196,-355.5 286,-355.5 \" stroke=\"#000000\"/>\n",
       "<text fill=\"#000000\" font-family=\"Times,serif\" font-size=\"14.00\" text-anchor=\"middle\" x=\"241\" y=\"-340.3\">(None, 250)</text>\n",
       "</g>\n",
       "<!-- 140410590486880&#45;&gt;140410590486824 -->\n",
       "<g class=\"edge\" id=\"edge2\">\n",
       "<title>140410590486880-&gt;140410590486824</title>\n",
       "<path d=\"M158.5,-415.3799C158.5,-407.1745 158.5,-397.7679 158.5,-388.8786\" fill=\"none\" stroke=\"#000000\"/>\n",
       "<polygon fill=\"#000000\" points=\"162.0001,-388.784 158.5,-378.784 155.0001,-388.784 162.0001,-388.784\" stroke=\"#000000\"/>\n",
       "</g>\n",
       "<!-- 140410590487384 -->\n",
       "<g class=\"node\" id=\"node4\">\n",
       "<title>140410590487384</title>\n",
       "<polygon fill=\"none\" points=\"27,-249.5 27,-295.5 290,-295.5 290,-249.5 27,-249.5\" stroke=\"#000000\"/>\n",
       "<text fill=\"#000000\" font-family=\"Times,serif\" font-size=\"14.00\" text-anchor=\"middle\" x=\"89.5\" y=\"-268.8\">dropout_1: Dropout</text>\n",
       "<polyline fill=\"none\" points=\"152,-249.5 152,-295.5 \" stroke=\"#000000\"/>\n",
       "<text fill=\"#000000\" font-family=\"Times,serif\" font-size=\"14.00\" text-anchor=\"middle\" x=\"179.5\" y=\"-280.3\">input:</text>\n",
       "<polyline fill=\"none\" points=\"152,-272.5 207,-272.5 \" stroke=\"#000000\"/>\n",
       "<text fill=\"#000000\" font-family=\"Times,serif\" font-size=\"14.00\" text-anchor=\"middle\" x=\"179.5\" y=\"-257.3\">output:</text>\n",
       "<polyline fill=\"none\" points=\"207,-249.5 207,-295.5 \" stroke=\"#000000\"/>\n",
       "<text fill=\"#000000\" font-family=\"Times,serif\" font-size=\"14.00\" text-anchor=\"middle\" x=\"248.5\" y=\"-280.3\">(None, 250)</text>\n",
       "<polyline fill=\"none\" points=\"207,-272.5 290,-272.5 \" stroke=\"#000000\"/>\n",
       "<text fill=\"#000000\" font-family=\"Times,serif\" font-size=\"14.00\" text-anchor=\"middle\" x=\"248.5\" y=\"-257.3\">(None, 250)</text>\n",
       "</g>\n",
       "<!-- 140410590486824&#45;&gt;140410590487384 -->\n",
       "<g class=\"edge\" id=\"edge3\">\n",
       "<title>140410590486824-&gt;140410590487384</title>\n",
       "<path d=\"M158.5,-332.3799C158.5,-324.1745 158.5,-314.7679 158.5,-305.8786\" fill=\"none\" stroke=\"#000000\"/>\n",
       "<polygon fill=\"#000000\" points=\"162.0001,-305.784 158.5,-295.784 155.0001,-305.784 162.0001,-305.784\" stroke=\"#000000\"/>\n",
       "</g>\n",
       "<!-- 140410590487496 -->\n",
       "<g class=\"node\" id=\"node5\">\n",
       "<title>140410590487496</title>\n",
       "<polygon fill=\"none\" points=\"38.5,-166.5 38.5,-212.5 278.5,-212.5 278.5,-166.5 38.5,-166.5\" stroke=\"#000000\"/>\n",
       "<text fill=\"#000000\" font-family=\"Times,serif\" font-size=\"14.00\" text-anchor=\"middle\" x=\"89.5\" y=\"-185.8\">dense_1: Dense</text>\n",
       "<polyline fill=\"none\" points=\"140.5,-166.5 140.5,-212.5 \" stroke=\"#000000\"/>\n",
       "<text fill=\"#000000\" font-family=\"Times,serif\" font-size=\"14.00\" text-anchor=\"middle\" x=\"168\" y=\"-197.3\">input:</text>\n",
       "<polyline fill=\"none\" points=\"140.5,-189.5 195.5,-189.5 \" stroke=\"#000000\"/>\n",
       "<text fill=\"#000000\" font-family=\"Times,serif\" font-size=\"14.00\" text-anchor=\"middle\" x=\"168\" y=\"-174.3\">output:</text>\n",
       "<polyline fill=\"none\" points=\"195.5,-166.5 195.5,-212.5 \" stroke=\"#000000\"/>\n",
       "<text fill=\"#000000\" font-family=\"Times,serif\" font-size=\"14.00\" text-anchor=\"middle\" x=\"237\" y=\"-197.3\">(None, 250)</text>\n",
       "<polyline fill=\"none\" points=\"195.5,-189.5 278.5,-189.5 \" stroke=\"#000000\"/>\n",
       "<text fill=\"#000000\" font-family=\"Times,serif\" font-size=\"14.00\" text-anchor=\"middle\" x=\"237\" y=\"-174.3\">(None, 128)</text>\n",
       "</g>\n",
       "<!-- 140410590487384&#45;&gt;140410590487496 -->\n",
       "<g class=\"edge\" id=\"edge4\">\n",
       "<title>140410590487384-&gt;140410590487496</title>\n",
       "<path d=\"M158.5,-249.3799C158.5,-241.1745 158.5,-231.7679 158.5,-222.8786\" fill=\"none\" stroke=\"#000000\"/>\n",
       "<polygon fill=\"#000000\" points=\"162.0001,-222.784 158.5,-212.784 155.0001,-222.784 162.0001,-222.784\" stroke=\"#000000\"/>\n",
       "</g>\n",
       "<!-- 140410590487888 -->\n",
       "<g class=\"node\" id=\"node6\">\n",
       "<title>140410590487888</title>\n",
       "<polygon fill=\"none\" points=\"27,-83.5 27,-129.5 290,-129.5 290,-83.5 27,-83.5\" stroke=\"#000000\"/>\n",
       "<text fill=\"#000000\" font-family=\"Times,serif\" font-size=\"14.00\" text-anchor=\"middle\" x=\"89.5\" y=\"-102.8\">dropout_2: Dropout</text>\n",
       "<polyline fill=\"none\" points=\"152,-83.5 152,-129.5 \" stroke=\"#000000\"/>\n",
       "<text fill=\"#000000\" font-family=\"Times,serif\" font-size=\"14.00\" text-anchor=\"middle\" x=\"179.5\" y=\"-114.3\">input:</text>\n",
       "<polyline fill=\"none\" points=\"152,-106.5 207,-106.5 \" stroke=\"#000000\"/>\n",
       "<text fill=\"#000000\" font-family=\"Times,serif\" font-size=\"14.00\" text-anchor=\"middle\" x=\"179.5\" y=\"-91.3\">output:</text>\n",
       "<polyline fill=\"none\" points=\"207,-83.5 207,-129.5 \" stroke=\"#000000\"/>\n",
       "<text fill=\"#000000\" font-family=\"Times,serif\" font-size=\"14.00\" text-anchor=\"middle\" x=\"248.5\" y=\"-114.3\">(None, 128)</text>\n",
       "<polyline fill=\"none\" points=\"207,-106.5 290,-106.5 \" stroke=\"#000000\"/>\n",
       "<text fill=\"#000000\" font-family=\"Times,serif\" font-size=\"14.00\" text-anchor=\"middle\" x=\"248.5\" y=\"-91.3\">(None, 128)</text>\n",
       "</g>\n",
       "<!-- 140410590487496&#45;&gt;140410590487888 -->\n",
       "<g class=\"edge\" id=\"edge5\">\n",
       "<title>140410590487496-&gt;140410590487888</title>\n",
       "<path d=\"M158.5,-166.3799C158.5,-158.1745 158.5,-148.7679 158.5,-139.8786\" fill=\"none\" stroke=\"#000000\"/>\n",
       "<polygon fill=\"#000000\" points=\"162.0001,-139.784 158.5,-129.784 155.0001,-139.784 162.0001,-139.784\" stroke=\"#000000\"/>\n",
       "</g>\n",
       "<!-- 140410582909840 -->\n",
       "<g class=\"node\" id=\"node7\">\n",
       "<title>140410582909840</title>\n",
       "<polygon fill=\"none\" points=\"38.5,-.5 38.5,-46.5 278.5,-46.5 278.5,-.5 38.5,-.5\" stroke=\"#000000\"/>\n",
       "<text fill=\"#000000\" font-family=\"Times,serif\" font-size=\"14.00\" text-anchor=\"middle\" x=\"89.5\" y=\"-19.8\">dense_2: Dense</text>\n",
       "<polyline fill=\"none\" points=\"140.5,-.5 140.5,-46.5 \" stroke=\"#000000\"/>\n",
       "<text fill=\"#000000\" font-family=\"Times,serif\" font-size=\"14.00\" text-anchor=\"middle\" x=\"168\" y=\"-31.3\">input:</text>\n",
       "<polyline fill=\"none\" points=\"140.5,-23.5 195.5,-23.5 \" stroke=\"#000000\"/>\n",
       "<text fill=\"#000000\" font-family=\"Times,serif\" font-size=\"14.00\" text-anchor=\"middle\" x=\"168\" y=\"-8.3\">output:</text>\n",
       "<polyline fill=\"none\" points=\"195.5,-.5 195.5,-46.5 \" stroke=\"#000000\"/>\n",
       "<text fill=\"#000000\" font-family=\"Times,serif\" font-size=\"14.00\" text-anchor=\"middle\" x=\"237\" y=\"-31.3\">(None, 128)</text>\n",
       "<polyline fill=\"none\" points=\"195.5,-23.5 278.5,-23.5 \" stroke=\"#000000\"/>\n",
       "<text fill=\"#000000\" font-family=\"Times,serif\" font-size=\"14.00\" text-anchor=\"middle\" x=\"237\" y=\"-8.3\">(None, 12)</text>\n",
       "</g>\n",
       "<!-- 140410590487888&#45;&gt;140410582909840 -->\n",
       "<g class=\"edge\" id=\"edge6\">\n",
       "<title>140410590487888-&gt;140410582909840</title>\n",
       "<path d=\"M158.5,-83.3799C158.5,-75.1745 158.5,-65.7679 158.5,-56.8786\" fill=\"none\" stroke=\"#000000\"/>\n",
       "<polygon fill=\"#000000\" points=\"162.0001,-56.784 158.5,-46.784 155.0001,-56.784 162.0001,-56.784\" stroke=\"#000000\"/>\n",
       "</g>\n",
       "</g>\n",
       "</svg>"
      ],
      "text/plain": [
       "<IPython.core.display.SVG object>"
      ]
     },
     "execution_count": 21,
     "metadata": {},
     "output_type": "execute_result"
    }
   ],
   "source": [
    "from IPython.display import SVG\n",
    "from keras.utils.vis_utils import model_to_dot\n",
    "SVG(model_to_dot(model, show_shapes=True).create(prog='dot', format='svg'))"
   ]
  },
  {
   "cell_type": "markdown",
   "metadata": {},
   "source": [
    "### Train the model"
   ]
  },
  {
   "cell_type": "code",
   "execution_count": 22,
   "metadata": {},
   "outputs": [
    {
     "name": "stdout",
     "output_type": "stream",
     "text": [
      "Epoch 1/4\n",
      "77552/77552 [==============================] - 14s 177us/step - loss: 0.5266 - acc: 0.8459\n",
      "Epoch 2/4\n",
      "77552/77552 [==============================] - 14s 176us/step - loss: 0.0952 - acc: 0.9715\n",
      "Epoch 3/4\n",
      "77552/77552 [==============================] - 14s 176us/step - loss: 0.0411 - acc: 0.9874\n",
      "Epoch 4/4\n",
      "77552/77552 [==============================] - 14s 175us/step - loss: 0.0242 - acc: 0.9929\n"
     ]
    }
   ],
   "source": [
    "history = model.fit(x_train, y_train_cat, epochs=EPOCHS, batch_size=BATCH_SIZE)"
   ]
  },
  {
   "cell_type": "markdown",
   "metadata": {},
   "source": [
    "### Evaluate the tagger\n",
    "`predict_classes` returns the `argmax` of the predicted `softmax` scores."
   ]
  },
  {
   "cell_type": "code",
   "execution_count": 23,
   "metadata": {},
   "outputs": [],
   "source": [
    "y_pred = model.predict_classes(x_test)"
   ]
  },
  {
   "cell_type": "markdown",
   "metadata": {},
   "source": [
    "This is equivalent of calling `predict` to obtain a probability distribution and then taking the `argmax`:"
   ]
  },
  {
   "cell_type": "code",
   "execution_count": 24,
   "metadata": {},
   "outputs": [
    {
     "data": {
      "text/plain": [
       "array([ True,  True,  True, ...,  True,  True,  True])"
      ]
     },
     "execution_count": 24,
     "metadata": {},
     "output_type": "execute_result"
    }
   ],
   "source": [
    "y_pred_cat = model.predict(x_test)\n",
    "y_pred == y_pred_cat.argmax(1)"
   ]
  },
  {
   "cell_type": "code",
   "execution_count": 25,
   "metadata": {},
   "outputs": [],
   "source": [
    "from sklearn.metrics import accuracy_score, precision_score, recall_score, f1_score\n",
    "\n",
    "def show_micro_avg(y_test, y_pred):\n",
    "    acc = accuracy_score(y_test, y_pred) * 100\n",
    "    pr = precision_score(y_test, y_pred, average='micro') * 100\n",
    "    rc = recall_score(y_test, y_pred, average='micro') * 100\n",
    "    f1 = f1_score(y_test, y_pred, average='micro') * 100\n",
    "    print(\"Accuracy: %.2f, Precision: %.2f, Recall: %.2f, F1: %.2f\" %\n",
    "          (acc, pr, rc, f1))"
   ]
  },
  {
   "cell_type": "code",
   "execution_count": 26,
   "metadata": {},
   "outputs": [
    {
     "name": "stdout",
     "output_type": "stream",
     "text": [
      "Accuracy: 93.39, Precision: 93.39, Recall: 93.39, F1: 93.39\n"
     ]
    }
   ],
   "source": [
    "show_micro_avg(y_test, y_pred)"
   ]
  },
  {
   "cell_type": "markdown",
   "metadata": {},
   "source": [
    "### Show the confusion matrix"
   ]
  },
  {
   "cell_type": "code",
   "execution_count": 27,
   "metadata": {},
   "outputs": [
    {
     "data": {
      "text/plain": [
       "<matplotlib.axes._subplots.AxesSubplot at 0x7f259c755978>"
      ]
     },
     "execution_count": 27,
     "metadata": {},
     "output_type": "execute_result"
    },
    {
     "data": {
      "image/png": "[encoded data removed]",
      "text/plain": [
       "<Figure size 432x288 with 1 Axes>"
      ]
     },
     "metadata": {
      "needs_background": "light"
     },
     "output_type": "display_data"
    }
   ],
   "source": [
    "from sklearn.metrics import confusion_matrix\n",
    "\n",
    "cm = confusion_matrix(y_test, y_pred)\n",
    "\n",
    "import seaborn as sn\n",
    "import pandas as pd\n",
    "%matplotlib inline\n",
    "\n",
    "df = pd.DataFrame(cm, columns=tag_set)\n",
    "sn.heatmap(df, annot=True, cbar=False, fmt=\"d\", cmap=\"YlGnBu\", annot_kws={\"size\": 14})# font size"
   ]
  }
 ],
 "metadata": {
  "kernelspec": {
   "display_name": "Python 3",
   "language": "python",
   "name": "python3"
  },
  "language_info": {
   "codemirror_mode": {
    "name": "ipython",
    "version": 3
   },
   "file_extension": ".py",
   "mimetype": "text/x-python",
   "name": "python",
   "nbconvert_exporter": "python",
   "pygments_lexer": "ipython3",
   "version": "3.6.9"
  }
 },
 "nbformat": 4,
 "nbformat_minor": 4
}
