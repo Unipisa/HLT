{
 "cells": [
  {
   "cell_type": "markdown",
   "metadata": {},
   "source": [
    "# Word Embeddings Tutorial"
   ]
  },
  {
   "cell_type": "markdown",
   "metadata": {},
   "source": [
    "We will be using some utilities form the Gensim package.\n",
    "For more details on the implementation of word2vec in gensim, see this tutorial https://rare-technologies.com/word2vec-tutorial/.\n",
    "\n",
    "## Install Gensim."
   ]
  },
  {
   "cell_type": "code",
   "execution_count": 59,
   "metadata": {},
   "outputs": [
    {
     "name": "stdout",
     "output_type": "stream",
     "text": [
      "Defaulting to user installation because normal site-packages is not writeable\n",
      "Requirement already satisfied: gensim in /usr/local/lib/python3.6/dist-packages (3.8.1)\n",
      "Requirement already satisfied: smart-open>=1.8.1 in /usr/local/lib/python3.6/dist-packages (from gensim) (1.9.0)\n",
      "Requirement already satisfied: scipy>=0.18.1 in /usr/local/lib/python3.6/dist-packages (from gensim) (1.4.1)\n",
      "Requirement already satisfied: six>=1.5.0 in /usr/local/lib/python3.6/dist-packages (from gensim) (1.14.0)\n",
      "Requirement already satisfied: numpy>=1.11.3 in /usr/local/lib/python3.6/dist-packages (from gensim) (1.18.1)\n",
      "Requirement already satisfied: requests in /usr/local/lib/python3.6/dist-packages (from smart-open>=1.8.1->gensim) (2.23.0)\n",
      "Requirement already satisfied: boto>=2.32 in /usr/local/lib/python3.6/dist-packages (from smart-open>=1.8.1->gensim) (2.49.0)\n",
      "Requirement already satisfied: boto3 in /usr/local/lib/python3.6/dist-packages (from smart-open>=1.8.1->gensim) (1.12.3)\n",
      "Requirement already satisfied: urllib3!=1.25.0,!=1.25.1,<1.26,>=1.21.1 in /usr/local/lib/python3.6/dist-packages (from requests->smart-open>=1.8.1->gensim) (1.25.8)\n",
      "Requirement already satisfied: chardet<4,>=3.0.2 in /usr/lib/python3/dist-packages (from requests->smart-open>=1.8.1->gensim) (3.0.4)\n",
      "Requirement already satisfied: idna<3,>=2.5 in /usr/local/lib/python3.6/dist-packages (from requests->smart-open>=1.8.1->gensim) (2.9)\n",
      "Requirement already satisfied: certifi>=2017.4.17 in /usr/local/lib/python3.6/dist-packages (from requests->smart-open>=1.8.1->gensim) (2019.11.28)\n",
      "Requirement already satisfied: s3transfer<0.4.0,>=0.3.0 in /usr/local/lib/python3.6/dist-packages (from boto3->smart-open>=1.8.1->gensim) (0.3.3)\n",
      "Requirement already satisfied: jmespath<1.0.0,>=0.7.1 in /usr/local/lib/python3.6/dist-packages (from boto3->smart-open>=1.8.1->gensim) (0.9.4)\n",
      "Requirement already satisfied: botocore<1.16.0,>=1.15.3 in /usr/local/lib/python3.6/dist-packages (from boto3->smart-open>=1.8.1->gensim) (1.15.3)\n",
      "Requirement already satisfied: docutils<0.16,>=0.10 in /usr/local/lib/python3.6/dist-packages (from botocore<1.16.0,>=1.15.3->boto3->smart-open>=1.8.1->gensim) (0.15.2)\n",
      "Requirement already satisfied: python-dateutil<3.0.0,>=2.1 in /usr/local/lib/python3.6/dist-packages (from botocore<1.16.0,>=1.15.3->boto3->smart-open>=1.8.1->gensim) (2.8.1)\n"
     ]
    }
   ],
   "source": [
    "!pip3 install gensim"
   ]
  },
  {
   "cell_type": "markdown",
   "metadata": {},
   "source": [
    "Define a helper function for downloading files."
   ]
  },
  {
   "cell_type": "code",
   "execution_count": 60,
   "metadata": {},
   "outputs": [],
   "source": [
    "import urllib.request\n",
    "import os\n",
    "\n",
    "def download_file(url, local_file):\n",
    "    \"\"\"\n",
    "    Helper function to download a file and store it locally\n",
    "    \"\"\"\n",
    "    if not os.path.exists(local_file):\n",
    "        print('Downloading')\n",
    "        with urllib.request.urlopen(url) as opener, \\\n",
    "             open(local_file, mode='wb') as outfile:\n",
    "                    outfile.write(opener.read())\n",
    "    else:\n",
    "        print('Already downloaded')"
   ]
  },
  {
   "cell_type": "markdown",
   "metadata": {},
   "source": [
    "Let's use a corpus from Peter Norvig."
   ]
  },
  {
   "cell_type": "code",
   "execution_count": 61,
   "metadata": {},
   "outputs": [
    {
     "name": "stdout",
     "output_type": "stream",
     "text": [
      "Already downloaded\n"
     ]
    }
   ],
   "source": [
    "big_text_file = 'data/big.txt'\n",
    "download_file('http://norvig.com/big.txt', big_text_file)"
   ]
  },
  {
   "cell_type": "markdown",
   "metadata": {},
   "source": [
    "Convert each line in the file into a list of tokens:"
   ]
  },
  {
   "cell_type": "code",
   "execution_count": 62,
   "metadata": {},
   "outputs": [
    {
     "name": "stdout",
     "output_type": "stream",
     "text": [
      "The Project Gutenberg EBook of The Adventures of Sherlock Holmes\n",
      "\n",
      "by Sir Arthur Conan Doyle\n",
      "\n",
      "(#15 in our series by Sir Arthur Conan Doyle)\n",
      "\n",
      "\n",
      "\n",
      "Copyright laws are changing all over the world. Be sure to check the\n",
      "\n",
      "copyright laws for your country before downloading or redistributing\n",
      "\n",
      "this or any other Project Gutenberg eBook.\n",
      "\n",
      "\n",
      "\n",
      "This header should be the first thing seen when viewing this Project\n",
      "\n",
      "Gutenberg file.  Please do not remove it.  Do not change or edit the\n",
      "\n"
     ]
    }
   ],
   "source": [
    "with open(big_text_file, mode='r', encoding='utf-8') as infile:\n",
    "    for i in range(10):\n",
    "        line = next(infile)\n",
    "        print(line)"
   ]
  },
  {
   "cell_type": "code",
   "execution_count": 63,
   "metadata": {},
   "outputs": [],
   "source": [
    "import re\n",
    "\n",
    "sentences = []\n",
    "with open(big_text_file, mode='r', encoding='utf-8') as infile:\n",
    "    for line in infile:\n",
    "        sentences.append(re.split('[\\W\\d_]+', line.lower()))"
   ]
  },
  {
   "cell_type": "markdown",
   "metadata": {},
   "source": [
    "Enable logging the execution of gensim."
   ]
  },
  {
   "cell_type": "code",
   "execution_count": 64,
   "metadata": {},
   "outputs": [],
   "source": [
    "import logging\n",
    "logging.basicConfig(format='%(asctime)s : %(levelname)s : %(message)s', level=logging.INFO)"
   ]
  },
  {
   "cell_type": "markdown",
   "metadata": {},
   "source": [
    "## Train a `word2vec` model on this corpus."
   ]
  },
  {
   "cell_type": "code",
   "execution_count": null,
   "metadata": {},
   "outputs": [],
   "source": [
    "from gensim.models import Word2Vec\n",
    "model = Word2Vec(sentences, size=100, window=10, min_count=5, sg=1, iter=20, workers=8, negative=10)"
   ]
  },
  {
   "cell_type": "markdown",
   "metadata": {},
   "source": [
    "The method `most_similar` returns the top 10 closest words to the input, according to euclidean (L2) distance between their embedding vectors."
   ]
  },
  {
   "cell_type": "code",
   "execution_count": 69,
   "metadata": {},
   "outputs": [
    {
     "data": {
      "text/plain": [
       "[('parchment', 0.7194594740867615),\n",
       " ('chocolate', 0.7141339778900146),\n",
       " ('robber', 0.7136014699935913),\n",
       " ('voltaire', 0.7000627517700195),\n",
       " ('basic', 0.6810798645019531),\n",
       " ('orange', 0.6780054569244385),\n",
       " ('conscientious', 0.6769378781318665),\n",
       " ('symbols', 0.6705729961395264),\n",
       " ('magazines', 0.669700026512146),\n",
       " ('hound', 0.6680736541748047)]"
      ]
     },
     "execution_count": 69,
     "metadata": {},
     "output_type": "execute_result"
    }
   ],
   "source": [
    "model.wv.most_similar('lemon')"
   ]
  },
  {
   "cell_type": "markdown",
   "metadata": {},
   "source": [
    "Embedding vectors are stored in `model.vw`, here the vector of a word:"
   ]
  },
  {
   "cell_type": "code",
   "execution_count": 70,
   "metadata": {},
   "outputs": [
    {
     "data": {
      "text/plain": [
       "array([-2.5432853e-02,  1.7475882e-01, -2.4659063e-01,  1.5796936e-01,\n",
       "       -1.5934931e-01, -6.4758068e-01, -2.3359986e-01, -6.1180305e-01,\n",
       "       -5.1521289e-01,  6.1115885e-01, -8.6010331e-01, -2.7175543e-01,\n",
       "        4.1587451e-01,  9.4346142e-01, -2.1622545e-01,  1.1367339e-01,\n",
       "       -2.9938603e-02,  5.4370159e-01, -3.1393487e-02,  3.1429020e-01,\n",
       "       -3.5453072e-01,  1.0455128e+00, -3.1041902e-01, -7.5869292e-01,\n",
       "        1.8373707e-01, -5.8236009e-01,  7.8112155e-01,  1.1550092e+00,\n",
       "        4.6694726e-01, -9.9365258e-01, -2.3194110e-02, -2.8324774e-01,\n",
       "        2.7289498e-01, -7.6772898e-02,  5.0243080e-01, -6.8995404e-01,\n",
       "        5.4123241e-02,  1.4126004e-02,  6.2727880e-01,  5.0530732e-01,\n",
       "       -1.1450762e-01,  6.4593035e-01,  7.6572210e-01,  4.5214301e-01,\n",
       "       -4.7532442e-01,  8.4757209e-01,  1.3727783e-01,  8.9591360e-01,\n",
       "       -9.5968646e-01,  1.7984517e-01, -7.4194402e-02, -1.9932204e-01,\n",
       "        3.1237483e-01,  8.1662911e-01, -4.3899754e-01, -1.3364074e-01,\n",
       "        9.7324169e-01,  6.1597967e-01,  5.4307413e-01,  4.1526029e-01,\n",
       "       -3.3680293e-01,  4.4518328e-01, -2.6359168e-01, -6.4872891e-01,\n",
       "        8.3399899e-02, -7.1758908e-01,  1.2391824e-01,  2.4614233e-01,\n",
       "       -4.4902301e-01, -3.9363635e-01,  1.4499302e-01,  4.4367808e-01,\n",
       "       -1.6922696e-01, -5.2626199e-01,  4.8173937e-01, -1.8293668e-01,\n",
       "        1.7270556e-01, -5.2889431e-01,  7.8023411e-04,  3.9605412e-01,\n",
       "        4.3151838e-01, -1.1212084e+00, -2.5022808e-01,  1.1249148e+00,\n",
       "       -2.9570314e-01, -2.8202143e-01, -7.8555949e-02,  7.0608415e-02,\n",
       "        4.5888314e-01,  6.0539621e-01, -5.8668959e-01, -3.9202702e-01,\n",
       "       -2.3152398e-01,  9.7388619e-01, -7.1518242e-01, -8.3818561e-01,\n",
       "        1.2895499e-01,  2.3911208e-01, -4.5107082e-01, -8.4573841e-01],\n",
       "      dtype=float32)"
      ]
     },
     "execution_count": 70,
     "metadata": {},
     "output_type": "execute_result"
    }
   ],
   "source": [
    "model.wv['project']"
   ]
  },
  {
   "cell_type": "markdown",
   "metadata": {},
   "source": [
    "## Compute the similarity of among all embeddings and plot them.\n",
    "We will use `sklearn`."
   ]
  },
  {
   "cell_type": "code",
   "execution_count": 71,
   "metadata": {},
   "outputs": [
    {
     "name": "stdout",
     "output_type": "stream",
     "text": [
      "Defaulting to user installation because normal site-packages is not writeable\n",
      "Requirement already satisfied: sklearn in /usr/local/lib/python3.6/dist-packages (0.0)\n",
      "Requirement already satisfied: scikit-learn in /usr/local/lib/python3.6/dist-packages (from sklearn) (0.20.2)\n",
      "Requirement already satisfied: numpy>=1.8.2 in /usr/local/lib/python3.6/dist-packages (from scikit-learn->sklearn) (1.18.1)\n",
      "Requirement already satisfied: scipy>=0.13.3 in /usr/local/lib/python3.6/dist-packages (from scikit-learn->sklearn) (1.4.1)\n"
     ]
    }
   ],
   "source": [
    "!pip install sklearn"
   ]
  },
  {
   "cell_type": "code",
   "execution_count": 72,
   "metadata": {},
   "outputs": [],
   "source": [
    "from sklearn.metrics.pairwise import cosine_similarity\n",
    "similarities = cosine_similarity(model.wv.vectors)"
   ]
  },
  {
   "cell_type": "code",
   "execution_count": 79,
   "metadata": {},
   "outputs": [
    {
     "data": {
      "text/plain": [
       "0.80474955"
      ]
     },
     "execution_count": 79,
     "metadata": {},
     "output_type": "execute_result"
    }
   ],
   "source": [
    "similarities[1,2]"
   ]
  },
  {
   "cell_type": "markdown",
   "metadata": {},
   "source": [
    "Load the analogy test and measure the accuracy:"
   ]
  },
  {
   "cell_type": "code",
   "execution_count": null,
   "metadata": {},
   "outputs": [],
   "source": [
    "test_file = 'data/questions-words.txt'\n",
    "download_file('http://download.tensorflow.org/data/questions-words.txt', test_file)\n",
    "\n",
    "model.wv.evaluate_word_analogies(test_file)"
   ]
  },
  {
   "cell_type": "markdown",
   "metadata": {},
   "source": [
    "# Explore embeddings from the Google News corpus"
   ]
  },
  {
   "cell_type": "markdown",
   "metadata": {},
   "source": [
    "Download pretrained word embeddings from https://code.google.com/archive/p/word2vec/ and gunzip the file.\n",
    "The two cells below do the work, otherwise you can do it manually.\n",
    "__WARNING__: the gz file is 1.5GB, the extracted model is 3.5GB!"
   ]
  },
  {
   "cell_type": "code",
   "execution_count": 80,
   "metadata": {},
   "outputs": [
    {
     "name": "stdout",
     "output_type": "stream",
     "text": [
      "Already downloaded\n"
     ]
    }
   ],
   "source": [
    "google_w2v_file = 'data/GoogleNews-vectors-negative300.bin'\n",
    "download_file('https://s3.amazonaws.com/mordecai-geo/GoogleNews-vectors-negative300.bin.gz',\n",
    "              google_w2v_file+'.gz')"
   ]
  },
  {
   "cell_type": "markdown",
   "metadata": {},
   "source": [
    "The file is compressed, it must be uncompressed:"
   ]
  },
  {
   "cell_type": "code",
   "execution_count": 81,
   "metadata": {},
   "outputs": [],
   "source": [
    "!if [ ! -f data/GoogleNews-vectors-negative300.bin ]; then gunzip data/GoogleNews-vectors-negative300.bin.gz; fi"
   ]
  },
  {
   "cell_type": "markdown",
   "metadata": {},
   "source": [
    "Google's vector were computed some time ago. It requires a special command to be loaded. Use this code if you want to use Google's embeddings in your code."
   ]
  },
  {
   "cell_type": "code",
   "execution_count": 82,
   "metadata": {},
   "outputs": [
    {
     "name": "stderr",
     "output_type": "stream",
     "text": [
      "2020-02-27 09:44:53,270 : INFO : loading projection weights from data/GoogleNews-vectors-negative300.bin\n",
      "2020-02-27 09:47:32,413 : INFO : loaded (3000000, 300) matrix from data/GoogleNews-vectors-negative300.bin\n"
     ]
    }
   ],
   "source": [
    "news_model = gensim.models.KeyedVectors.load_word2vec_format(google_w2v_file, binary=True)"
   ]
  },
  {
   "cell_type": "markdown",
   "metadata": {},
   "source": [
    "## Playing with word similarity"
   ]
  },
  {
   "cell_type": "markdown",
   "metadata": {},
   "source": [
    "See words which are closer in the embeddings vector space."
   ]
  },
  {
   "cell_type": "code",
   "execution_count": 83,
   "metadata": {},
   "outputs": [
    {
     "name": "stderr",
     "output_type": "stream",
     "text": [
      "2020-02-27 09:47:58,687 : INFO : precomputing L2-norms of word weight vectors\n"
     ]
    },
    {
     "data": {
      "text/plain": [
       "[('sunlight', 0.7269680500030518),\n",
       " ('sun_rays', 0.6871298551559448),\n",
       " ('sunshine', 0.6767958402633667),\n",
       " ('sunrays', 0.6644463539123535),\n",
       " ('noonday_sun', 0.6227596402168274),\n",
       " ('rays', 0.601547360420227),\n",
       " ('suns_rays', 0.5943776369094849),\n",
       " ('dried_tomato_basil', 0.5823874473571777),\n",
       " ('sun_shining', 0.5802727937698364),\n",
       " ('UV_rays', 0.5749224424362183)]"
      ]
     },
     "execution_count": 83,
     "metadata": {},
     "output_type": "execute_result"
    }
   ],
   "source": [
    "news_model.most_similar(['sun'])"
   ]
  },
  {
   "cell_type": "code",
   "execution_count": 18,
   "metadata": {},
   "outputs": [
    {
     "data": {
      "text/plain": [
       "[('mccain', 0.7319011688232422),\n",
       " ('hillary', 0.7284599542617798),\n",
       " ('obamas', 0.7229631543159485),\n",
       " ('george_bush', 0.7205674648284912),\n",
       " ('barack_obama', 0.7045838832855225),\n",
       " ('palin', 0.7043113708496094),\n",
       " ('clinton', 0.6934447884559631),\n",
       " ('clintons', 0.6816834211349487),\n",
       " ('sarah_palin', 0.6815145611763),\n",
       " ('john_mccain', 0.6800708770751953)]"
      ]
     },
     "execution_count": 18,
     "metadata": {},
     "output_type": "execute_result"
    }
   ],
   "source": [
    "news_model.most_similar('obama')"
   ]
  },
  {
   "cell_type": "code",
   "execution_count": 84,
   "metadata": {},
   "outputs": [
    {
     "data": {
      "text/plain": [
       "[('apples', 0.720359742641449),\n",
       " ('pear', 0.6450696587562561),\n",
       " ('fruit', 0.6410146355628967),\n",
       " ('berry', 0.6302294731140137),\n",
       " ('pears', 0.613396167755127),\n",
       " ('strawberry', 0.6058260798454285),\n",
       " ('peach', 0.6025872230529785),\n",
       " ('potato', 0.596093475818634),\n",
       " ('grape', 0.5935864448547363),\n",
       " ('blueberry', 0.5866668820381165)]"
      ]
     },
     "execution_count": 84,
     "metadata": {},
     "output_type": "execute_result"
    }
   ],
   "source": [
    "news_model.most_similar('apple')"
   ]
  },
  {
   "cell_type": "code",
   "execution_count": 85,
   "metadata": {},
   "outputs": [
    {
     "data": {
      "text/plain": [
       "[('NORWALK_CONN', 0.23768547177314758),\n",
       " ('JIM_HANNON_TimesDaily', 0.2376764714717865),\n",
       " ('KITCHENER_ONTARIO', 0.23705120384693146),\n",
       " ('DENVER_CO_PRWEB', 0.23474794626235962),\n",
       " ('GRANDE_BAY_MAURITIUS', 0.23164315521717072),\n",
       " ('Dr._Parviz_Azar', 0.22826240956783295),\n",
       " ('HuMax_IL8_TM', 0.22697213292121887),\n",
       " ('subsidiary_Airstar', 0.22571393847465515),\n",
       " ('AB_OMX_Stockholm', 0.2248857468366623),\n",
       " ('MotoTron_electronic_controls', 0.22116824984550476)]"
      ]
     },
     "execution_count": 85,
     "metadata": {},
     "output_type": "execute_result"
    }
   ],
   "source": [
    "news_model.most_similar(negative=['banana'])"
   ]
  },
  {
   "cell_type": "markdown",
   "metadata": {},
   "source": [
    "Which word is in the same relation to `female` as `man` to `king`?\n",
    "\n",
    "This method computes cosine similarity between a simple mean of the projection weight vectors of the given words."
   ]
  },
  {
   "cell_type": "code",
   "execution_count": 86,
   "metadata": {},
   "outputs": [
    {
     "data": {
      "text/plain": [
       "[('queen', 0.7118191719055176),\n",
       " ('monarch', 0.6189674139022827),\n",
       " ('princess', 0.5902431011199951),\n",
       " ('crown_prince', 0.5499460697174072),\n",
       " ('prince', 0.5377321243286133),\n",
       " ('kings', 0.5236844420433044),\n",
       " ('Queen_Consort', 0.5235945582389832),\n",
       " ('queens', 0.5181134343147278),\n",
       " ('sultan', 0.5098593235015869),\n",
       " ('monarchy', 0.5087411403656006)]"
      ]
     },
     "execution_count": 86,
     "metadata": {},
     "output_type": "execute_result"
    }
   ],
   "source": [
    "news_model.most_similar(positive=['king', 'woman'], negative=['man'])"
   ]
  },
  {
   "cell_type": "markdown",
   "metadata": {},
   "source": [
    "Function to find an analogy"
   ]
  },
  {
   "cell_type": "code",
   "execution_count": 87,
   "metadata": {},
   "outputs": [],
   "source": [
    "def analogy(x1, x2, y1):\n",
    "    result = news_model.most_similar(positive=[y1, x2], negative=[x1])\n",
    "    return result[0][0]"
   ]
  },
  {
   "cell_type": "code",
   "execution_count": 88,
   "metadata": {},
   "outputs": [
    {
     "data": {
      "text/plain": [
       "'canada'"
      ]
     },
     "execution_count": 88,
     "metadata": {},
     "output_type": "execute_result"
    }
   ],
   "source": [
    "analogy('japan', 'japanese', 'australia')"
   ]
  },
  {
   "cell_type": "code",
   "execution_count": 89,
   "metadata": {},
   "outputs": [
    {
     "data": {
      "text/plain": [
       "'beers'"
      ]
     },
     "execution_count": 89,
     "metadata": {},
     "output_type": "execute_result"
    }
   ],
   "source": [
    "analogy('australia', 'beer', 'france')"
   ]
  },
  {
   "cell_type": "code",
   "execution_count": 90,
   "metadata": {},
   "outputs": [
    {
     "data": {
      "text/plain": [
       "'kerry'"
      ]
     },
     "execution_count": 90,
     "metadata": {},
     "output_type": "execute_result"
    }
   ],
   "source": [
    "analogy('obama', 'clinton', 'reagan')"
   ]
  },
  {
   "cell_type": "code",
   "execution_count": 91,
   "metadata": {},
   "outputs": [
    {
     "data": {
      "text/plain": [
       "'longest'"
      ]
     },
     "execution_count": 91,
     "metadata": {},
     "output_type": "execute_result"
    }
   ],
   "source": [
    "analogy('tall', 'tallest', 'long')"
   ]
  },
  {
   "cell_type": "code",
   "execution_count": 92,
   "metadata": {},
   "outputs": [
    {
     "data": {
      "text/plain": [
       "'horrible'"
      ]
     },
     "execution_count": 92,
     "metadata": {},
     "output_type": "execute_result"
    }
   ],
   "source": [
    "analogy('good', 'fantastic', 'bad')"
   ]
  },
  {
   "cell_type": "markdown",
   "metadata": {},
   "source": [
    "Which word is in the same relation to `warm` as `summer` to `cold`?"
   ]
  },
  {
   "cell_type": "code",
   "execution_count": 93,
   "metadata": {},
   "outputs": [
    {
     "data": {
      "text/plain": [
       "[('winter', 0.5936813950538635),\n",
       " ('spring', 0.550656259059906),\n",
       " ('summertime', 0.5165988206863403),\n",
       " ('summers', 0.5085427761077881),\n",
       " ('autumn', 0.49106645584106445),\n",
       " ('week', 0.45701587200164795),\n",
       " ('midwinter', 0.45652201771736145),\n",
       " ('Summer', 0.4489293098449707),\n",
       " ('springtime', 0.4475139081478119),\n",
       " ('month', 0.44610556960105896)]"
      ]
     },
     "execution_count": 93,
     "metadata": {},
     "output_type": "execute_result"
    }
   ],
   "source": [
    "news_model.most_similar(['summer', 'cold'], ['warm'])"
   ]
  },
  {
   "cell_type": "markdown",
   "metadata": {},
   "source": [
    "Accuracy in the analogy test is much better than our very small model"
   ]
  },
  {
   "cell_type": "code",
   "execution_count": null,
   "metadata": {},
   "outputs": [],
   "source": [
    "news_model.accuracy(test_file)"
   ]
  },
  {
   "cell_type": "markdown",
   "metadata": {},
   "source": [
    "Which word from the given list doesn’t go with the others?"
   ]
  },
  {
   "cell_type": "code",
   "execution_count": 95,
   "metadata": {},
   "outputs": [
    {
     "name": "stderr",
     "output_type": "stream",
     "text": [
      "/usr/local/lib/python3.6/dist-packages/gensim/models/keyedvectors.py:877: FutureWarning: arrays to stack must be passed as a \"sequence\" type such as list or tuple. Support for non-sequence iterables such as generators is deprecated as of NumPy 1.16 and will raise an error in the future.\n",
      "  vectors = vstack(self.word_vec(word, use_norm=True) for word in used_words).astype(REAL)\n"
     ]
    },
    {
     "data": {
      "text/plain": [
       "'sand'"
      ]
     },
     "execution_count": 95,
     "metadata": {},
     "output_type": "execute_result"
    }
   ],
   "source": [
    "news_model.doesnt_match(['sun', 'moon', 'sand', 'jupiter'])"
   ]
  },
  {
   "cell_type": "code",
   "execution_count": 96,
   "metadata": {},
   "outputs": [
    {
     "data": {
      "text/plain": [
       "'cereal'"
      ]
     },
     "execution_count": 96,
     "metadata": {},
     "output_type": "execute_result"
    }
   ],
   "source": [
    "news_model.doesnt_match(\"breakfast cereal dinner lunch\".split())"
   ]
  },
  {
   "cell_type": "markdown",
   "metadata": {},
   "source": [
    "# Visualize embeddings"
   ]
  },
  {
   "cell_type": "markdown",
   "metadata": {},
   "source": [
    "Explore the vectors, by mapping them into 2 dimensions and plotting them on the plane."
   ]
  },
  {
   "cell_type": "code",
   "execution_count": null,
   "metadata": {},
   "outputs": [],
   "source": [
    "import numpy as np\n",
    "\n",
    "# Get the interactive Tools for Matplotlib\n",
    "%matplotlib notebook\n",
    "import matplotlib.pyplot as plt\n",
    "plt.style.use('ggplot')"
   ]
  },
  {
   "cell_type": "markdown",
   "metadata": {},
   "source": [
    "Use Principal Compoment Analysis in order to reduce the size of the array made with word embeddings vectors."
   ]
  },
  {
   "cell_type": "code",
   "execution_count": 97,
   "metadata": {},
   "outputs": [],
   "source": [
    "from sklearn.decomposition import PCA\n",
    "\n",
    "def display_pca_scatterplot(model, words=None, sample=0):\n",
    "    \"\"\"\n",
    "    Collect from ::parameter: model the vectors for the given :parameter: words.\n",
    " \n",
    "    Apply PCA to the matrix to project into 2 dimensional space, then plot them.\n",
    "    \"\"\"\n",
    "    if words == None:\n",
    "        if sample > 0:\n",
    "            words = np.random.choice(list(model.vocab.keys()), sample)\n",
    "        else:\n",
    "            words = [ word for word in model.vocab ]\n",
    "        \n",
    "    word_vectors = np.array([model[w] for w in words])\n",
    "\n",
    "    twodim = PCA().fit_transform(word_vectors)[:,:2]\n",
    "    \n",
    "    plt.figure(figsize=(6,6))\n",
    "    plt.scatter(twodim[:,0], twodim[:,1], edgecolors='k', c='r')\n",
    "    for word, (x,y) in zip(words, twodim):\n",
    "        plt.text(x+0.05, y+0.05, word)"
   ]
  },
  {
   "cell_type": "markdown",
   "metadata": {},
   "source": [
    "Show the vectors for a list of words in 2 dimensions."
   ]
  },
  {
   "cell_type": "code",
   "execution_count": 98,
   "metadata": {},
   "outputs": [
    {
     "data": {
      "application/javascript": [
       "/* Put everything inside the global mpl namespace */\n",
       "window.mpl = {};\n",
       "\n",
       "\n",
       "mpl.get_websocket_type = function() {\n",
       "    if (typeof(WebSocket) !== 'undefined') {\n",
       "        return WebSocket;\n",
       "    } else if (typeof(MozWebSocket) !== 'undefined') {\n",
       "        return MozWebSocket;\n",
       "    } else {\n",
       "        alert('Your browser does not have WebSocket support.' +\n",
       "              'Please try Chrome, Safari or Firefox ≥ 6. ' +\n",
       "              'Firefox 4 and 5 are also supported but you ' +\n",
       "              'have to enable WebSockets in about:config.');\n",
       "    };\n",
       "}\n",
       "\n",
       "mpl.figure = function(figure_id, websocket, ondownload, parent_element) {\n",
       "    this.id = figure_id;\n",
       "\n",
       "    this.ws = websocket;\n",
       "\n",
       "    this.supports_binary = (this.ws.binaryType != undefined);\n",
       "\n",
       "    if (!this.supports_binary) {\n",
       "        var warnings = document.getElementById(\"mpl-warnings\");\n",
       "        if (warnings) {\n",
       "            warnings.style.display = 'block';\n",
       "            warnings.textContent = (\n",
       "                \"This browser does not support binary websocket messages. \" +\n",
       "                    \"Performance may be slow.\");\n",
       "        }\n",
       "    }\n",
       "\n",
       "    this.imageObj = new Image();\n",
       "\n",
       "    this.context = undefined;\n",
       "    this.message = undefined;\n",
       "    this.canvas = undefined;\n",
       "    this.rubberband_canvas = undefined;\n",
       "    this.rubberband_context = undefined;\n",
       "    this.format_dropdown = undefined;\n",
       "\n",
       "    this.image_mode = 'full';\n",
       "\n",
       "    this.root = $('<div/>');\n",
       "    this._root_extra_style(this.root)\n",
       "    this.root.attr('style', 'display: inline-block');\n",
       "\n",
       "    $(parent_element).append(this.root);\n",
       "\n",
       "    this._init_header(this);\n",
       "    this._init_canvas(this);\n",
       "    this._init_toolbar(this);\n",
       "\n",
       "    var fig = this;\n",
       "\n",
       "    this.waiting = false;\n",
       "\n",
       "    this.ws.onopen =  function () {\n",
       "            fig.send_message(\"supports_binary\", {value: fig.supports_binary});\n",
       "            fig.send_message(\"send_image_mode\", {});\n",
       "            if (mpl.ratio != 1) {\n",
       "                fig.send_message(\"set_dpi_ratio\", {'dpi_ratio': mpl.ratio});\n",
       "            }\n",
       "            fig.send_message(\"refresh\", {});\n",
       "        }\n",
       "\n",
       "    this.imageObj.onload = function() {\n",
       "            if (fig.image_mode == 'full') {\n",
       "                // Full images could contain transparency (where diff images\n",
       "                // almost always do), so we need to clear the canvas so that\n",
       "                // there is no ghosting.\n",
       "                fig.context.clearRect(0, 0, fig.canvas.width, fig.canvas.height);\n",
       "            }\n",
       "            fig.context.drawImage(fig.imageObj, 0, 0);\n",
       "        };\n",
       "\n",
       "    this.imageObj.onunload = function() {\n",
       "        fig.ws.close();\n",
       "    }\n",
       "\n",
       "    this.ws.onmessage = this._make_on_message_function(this);\n",
       "\n",
       "    this.ondownload = ondownload;\n",
       "}\n",
       "\n",
       "mpl.figure.prototype._init_header = function() {\n",
       "    var titlebar = $(\n",
       "        '<div class=\"ui-dialog-titlebar ui-widget-header ui-corner-all ' +\n",
       "        'ui-helper-clearfix\"/>');\n",
       "    var titletext = $(\n",
       "        '<div class=\"ui-dialog-title\" style=\"width: 100%; ' +\n",
       "        'text-align: center; padding: 3px;\"/>');\n",
       "    titlebar.append(titletext)\n",
       "    this.root.append(titlebar);\n",
       "    this.header = titletext[0];\n",
       "}\n",
       "\n",
       "\n",
       "\n",
       "mpl.figure.prototype._canvas_extra_style = function(canvas_div) {\n",
       "\n",
       "}\n",
       "\n",
       "\n",
       "mpl.figure.prototype._root_extra_style = function(canvas_div) {\n",
       "\n",
       "}\n",
       "\n",
       "mpl.figure.prototype._init_canvas = function() {\n",
       "    var fig = this;\n",
       "\n",
       "    var canvas_div = $('<div/>');\n",
       "\n",
       "    canvas_div.attr('style', 'position: relative; clear: both; outline: 0');\n",
       "\n",
       "    function canvas_keyboard_event(event) {\n",
       "        return fig.key_event(event, event['data']);\n",
       "    }\n",
       "\n",
       "    canvas_div.keydown('key_press', canvas_keyboard_event);\n",
       "    canvas_div.keyup('key_release', canvas_keyboard_event);\n",
       "    this.canvas_div = canvas_div\n",
       "    this._canvas_extra_style(canvas_div)\n",
       "    this.root.append(canvas_div);\n",
       "\n",
       "    var canvas = $('<canvas/>');\n",
       "    canvas.addClass('mpl-canvas');\n",
       "    canvas.attr('style', \"left: 0; top: 0; z-index: 0; outline: 0\")\n",
       "\n",
       "    this.canvas = canvas[0];\n",
       "    this.context = canvas[0].getContext(\"2d\");\n",
       "\n",
       "    var backingStore = this.context.backingStorePixelRatio ||\n",
       "\tthis.context.webkitBackingStorePixelRatio ||\n",
       "\tthis.context.mozBackingStorePixelRatio ||\n",
       "\tthis.context.msBackingStorePixelRatio ||\n",
       "\tthis.context.oBackingStorePixelRatio ||\n",
       "\tthis.context.backingStorePixelRatio || 1;\n",
       "\n",
       "    mpl.ratio = (window.devicePixelRatio || 1) / backingStore;\n",
       "\n",
       "    var rubberband = $('<canvas/>');\n",
       "    rubberband.attr('style', \"position: absolute; left: 0; top: 0; z-index: 1;\")\n",
       "\n",
       "    var pass_mouse_events = true;\n",
       "\n",
       "    canvas_div.resizable({\n",
       "        start: function(event, ui) {\n",
       "            pass_mouse_events = false;\n",
       "        },\n",
       "        resize: function(event, ui) {\n",
       "            fig.request_resize(ui.size.width, ui.size.height);\n",
       "        },\n",
       "        stop: function(event, ui) {\n",
       "            pass_mouse_events = true;\n",
       "            fig.request_resize(ui.size.width, ui.size.height);\n",
       "        },\n",
       "    });\n",
       "\n",
       "    function mouse_event_fn(event) {\n",
       "        if (pass_mouse_events)\n",
       "            return fig.mouse_event(event, event['data']);\n",
       "    }\n",
       "\n",
       "    rubberband.mousedown('button_press', mouse_event_fn);\n",
       "    rubberband.mouseup('button_release', mouse_event_fn);\n",
       "    // Throttle sequential mouse events to 1 every 20ms.\n",
       "    rubberband.mousemove('motion_notify', mouse_event_fn);\n",
       "\n",
       "    rubberband.mouseenter('figure_enter', mouse_event_fn);\n",
       "    rubberband.mouseleave('figure_leave', mouse_event_fn);\n",
       "\n",
       "    canvas_div.on(\"wheel\", function (event) {\n",
       "        event = event.originalEvent;\n",
       "        event['data'] = 'scroll'\n",
       "        if (event.deltaY < 0) {\n",
       "            event.step = 1;\n",
       "        } else {\n",
       "            event.step = -1;\n",
       "        }\n",
       "        mouse_event_fn(event);\n",
       "    });\n",
       "\n",
       "    canvas_div.append(canvas);\n",
       "    canvas_div.append(rubberband);\n",
       "\n",
       "    this.rubberband = rubberband;\n",
       "    this.rubberband_canvas = rubberband[0];\n",
       "    this.rubberband_context = rubberband[0].getContext(\"2d\");\n",
       "    this.rubberband_context.strokeStyle = \"#000000\";\n",
       "\n",
       "    this._resize_canvas = function(width, height) {\n",
       "        // Keep the size of the canvas, canvas container, and rubber band\n",
       "        // canvas in synch.\n",
       "        canvas_div.css('width', width)\n",
       "        canvas_div.css('height', height)\n",
       "\n",
       "        canvas.attr('width', width * mpl.ratio);\n",
       "        canvas.attr('height', height * mpl.ratio);\n",
       "        canvas.attr('style', 'width: ' + width + 'px; height: ' + height + 'px;');\n",
       "\n",
       "        rubberband.attr('width', width);\n",
       "        rubberband.attr('height', height);\n",
       "    }\n",
       "\n",
       "    // Set the figure to an initial 600x600px, this will subsequently be updated\n",
       "    // upon first draw.\n",
       "    this._resize_canvas(600, 600);\n",
       "\n",
       "    // Disable right mouse context menu.\n",
       "    $(this.rubberband_canvas).bind(\"contextmenu\",function(e){\n",
       "        return false;\n",
       "    });\n",
       "\n",
       "    function set_focus () {\n",
       "        canvas.focus();\n",
       "        canvas_div.focus();\n",
       "    }\n",
       "\n",
       "    window.setTimeout(set_focus, 100);\n",
       "}\n",
       "\n",
       "mpl.figure.prototype._init_toolbar = function() {\n",
       "    var fig = this;\n",
       "\n",
       "    var nav_element = $('<div/>')\n",
       "    nav_element.attr('style', 'width: 100%');\n",
       "    this.root.append(nav_element);\n",
       "\n",
       "    // Define a callback function for later on.\n",
       "    function toolbar_event(event) {\n",
       "        return fig.toolbar_button_onclick(event['data']);\n",
       "    }\n",
       "    function toolbar_mouse_event(event) {\n",
       "        return fig.toolbar_button_onmouseover(event['data']);\n",
       "    }\n",
       "\n",
       "    for(var toolbar_ind in mpl.toolbar_items) {\n",
       "        var name = mpl.toolbar_items[toolbar_ind][0];\n",
       "        var tooltip = mpl.toolbar_items[toolbar_ind][1];\n",
       "        var image = mpl.toolbar_items[toolbar_ind][2];\n",
       "        var method_name = mpl.toolbar_items[toolbar_ind][3];\n",
       "\n",
       "        if (!name) {\n",
       "            // put a spacer in here.\n",
       "            continue;\n",
       "        }\n",
       "        var button = $('<button/>');\n",
       "        button.addClass('ui-button ui-widget ui-state-default ui-corner-all ' +\n",
       "                        'ui-button-icon-only');\n",
       "        button.attr('role', 'button');\n",
       "        button.attr('aria-disabled', 'false');\n",
       "        button.click(method_name, toolbar_event);\n",
       "        button.mouseover(tooltip, toolbar_mouse_event);\n",
       "\n",
       "        var icon_img = $('<span/>');\n",
       "        icon_img.addClass('ui-button-icon-primary ui-icon');\n",
       "        icon_img.addClass(image);\n",
       "        icon_img.addClass('ui-corner-all');\n",
       "\n",
       "        var tooltip_span = $('<span/>');\n",
       "        tooltip_span.addClass('ui-button-text');\n",
       "        tooltip_span.html(tooltip);\n",
       "\n",
       "        button.append(icon_img);\n",
       "        button.append(tooltip_span);\n",
       "\n",
       "        nav_element.append(button);\n",
       "    }\n",
       "\n",
       "    var fmt_picker_span = $('<span/>');\n",
       "\n",
       "    var fmt_picker = $('<select/>');\n",
       "    fmt_picker.addClass('mpl-toolbar-option ui-widget ui-widget-content');\n",
       "    fmt_picker_span.append(fmt_picker);\n",
       "    nav_element.append(fmt_picker_span);\n",
       "    this.format_dropdown = fmt_picker[0];\n",
       "\n",
       "    for (var ind in mpl.extensions) {\n",
       "        var fmt = mpl.extensions[ind];\n",
       "        var option = $(\n",
       "            '<option/>', {selected: fmt === mpl.default_extension}).html(fmt);\n",
       "        fmt_picker.append(option)\n",
       "    }\n",
       "\n",
       "    // Add hover states to the ui-buttons\n",
       "    $( \".ui-button\" ).hover(\n",
       "        function() { $(this).addClass(\"ui-state-hover\");},\n",
       "        function() { $(this).removeClass(\"ui-state-hover\");}\n",
       "    );\n",
       "\n",
       "    var status_bar = $('<span class=\"mpl-message\"/>');\n",
       "    nav_element.append(status_bar);\n",
       "    this.message = status_bar[0];\n",
       "}\n",
       "\n",
       "mpl.figure.prototype.request_resize = function(x_pixels, y_pixels) {\n",
       "    // Request matplotlib to resize the figure. Matplotlib will then trigger a resize in the client,\n",
       "    // which will in turn request a refresh of the image.\n",
       "    this.send_message('resize', {'width': x_pixels, 'height': y_pixels});\n",
       "}\n",
       "\n",
       "mpl.figure.prototype.send_message = function(type, properties) {\n",
       "    properties['type'] = type;\n",
       "    properties['figure_id'] = this.id;\n",
       "    this.ws.send(JSON.stringify(properties));\n",
       "}\n",
       "\n",
       "mpl.figure.prototype.send_draw_message = function() {\n",
       "    if (!this.waiting) {\n",
       "        this.waiting = true;\n",
       "        this.ws.send(JSON.stringify({type: \"draw\", figure_id: this.id}));\n",
       "    }\n",
       "}\n",
       "\n",
       "\n",
       "mpl.figure.prototype.handle_save = function(fig, msg) {\n",
       "    var format_dropdown = fig.format_dropdown;\n",
       "    var format = format_dropdown.options[format_dropdown.selectedIndex].value;\n",
       "    fig.ondownload(fig, format);\n",
       "}\n",
       "\n",
       "\n",
       "mpl.figure.prototype.handle_resize = function(fig, msg) {\n",
       "    var size = msg['size'];\n",
       "    if (size[0] != fig.canvas.width || size[1] != fig.canvas.height) {\n",
       "        fig._resize_canvas(size[0], size[1]);\n",
       "        fig.send_message(\"refresh\", {});\n",
       "    };\n",
       "}\n",
       "\n",
       "mpl.figure.prototype.handle_rubberband = function(fig, msg) {\n",
       "    var x0 = msg['x0'] / mpl.ratio;\n",
       "    var y0 = (fig.canvas.height - msg['y0']) / mpl.ratio;\n",
       "    var x1 = msg['x1'] / mpl.ratio;\n",
       "    var y1 = (fig.canvas.height - msg['y1']) / mpl.ratio;\n",
       "    x0 = Math.floor(x0) + 0.5;\n",
       "    y0 = Math.floor(y0) + 0.5;\n",
       "    x1 = Math.floor(x1) + 0.5;\n",
       "    y1 = Math.floor(y1) + 0.5;\n",
       "    var min_x = Math.min(x0, x1);\n",
       "    var min_y = Math.min(y0, y1);\n",
       "    var width = Math.abs(x1 - x0);\n",
       "    var height = Math.abs(y1 - y0);\n",
       "\n",
       "    fig.rubberband_context.clearRect(\n",
       "        0, 0, fig.canvas.width, fig.canvas.height);\n",
       "\n",
       "    fig.rubberband_context.strokeRect(min_x, min_y, width, height);\n",
       "}\n",
       "\n",
       "mpl.figure.prototype.handle_figure_label = function(fig, msg) {\n",
       "    // Updates the figure title.\n",
       "    fig.header.textContent = msg['label'];\n",
       "}\n",
       "\n",
       "mpl.figure.prototype.handle_cursor = function(fig, msg) {\n",
       "    var cursor = msg['cursor'];\n",
       "    switch(cursor)\n",
       "    {\n",
       "    case 0:\n",
       "        cursor = 'pointer';\n",
       "        break;\n",
       "    case 1:\n",
       "        cursor = 'default';\n",
       "        break;\n",
       "    case 2:\n",
       "        cursor = 'crosshair';\n",
       "        break;\n",
       "    case 3:\n",
       "        cursor = 'move';\n",
       "        break;\n",
       "    }\n",
       "    fig.rubberband_canvas.style.cursor = cursor;\n",
       "}\n",
       "\n",
       "mpl.figure.prototype.handle_message = function(fig, msg) {\n",
       "    fig.message.textContent = msg['message'];\n",
       "}\n",
       "\n",
       "mpl.figure.prototype.handle_draw = function(fig, msg) {\n",
       "    // Request the server to send over a new figure.\n",
       "    fig.send_draw_message();\n",
       "}\n",
       "\n",
       "mpl.figure.prototype.handle_image_mode = function(fig, msg) {\n",
       "    fig.image_mode = msg['mode'];\n",
       "}\n",
       "\n",
       "mpl.figure.prototype.updated_canvas_event = function() {\n",
       "    // Called whenever the canvas gets updated.\n",
       "    this.send_message(\"ack\", {});\n",
       "}\n",
       "\n",
       "// A function to construct a web socket function for onmessage handling.\n",
       "// Called in the figure constructor.\n",
       "mpl.figure.prototype._make_on_message_function = function(fig) {\n",
       "    return function socket_on_message(evt) {\n",
       "        if (evt.data instanceof Blob) {\n",
       "            /* FIXME: We get \"Resource interpreted as Image but\n",
       "             * transferred with MIME type text/plain:\" errors on\n",
       "             * Chrome.  But how to set the MIME type?  It doesn't seem\n",
       "             * to be part of the websocket stream */\n",
       "            evt.data.type = \"image/png\";\n",
       "\n",
       "            /* Free the memory for the previous frames */\n",
       "            if (fig.imageObj.src) {\n",
       "                (window.URL || window.webkitURL).revokeObjectURL(\n",
       "                    fig.imageObj.src);\n",
       "            }\n",
       "\n",
       "            fig.imageObj.src = (window.URL || window.webkitURL).createObjectURL(\n",
       "                evt.data);\n",
       "            fig.updated_canvas_event();\n",
       "            fig.waiting = false;\n",
       "            return;\n",
       "        }\n",
       "        else if (typeof evt.data === 'string' && evt.data.slice(0, 21) == \"data:image/png;base64\") {\n",
       "            fig.imageObj.src = evt.data;\n",
       "            fig.updated_canvas_event();\n",
       "            fig.waiting = false;\n",
       "            return;\n",
       "        }\n",
       "\n",
       "        var msg = JSON.parse(evt.data);\n",
       "        var msg_type = msg['type'];\n",
       "\n",
       "        // Call the  \"handle_{type}\" callback, which takes\n",
       "        // the figure and JSON message as its only arguments.\n",
       "        try {\n",
       "            var callback = fig[\"handle_\" + msg_type];\n",
       "        } catch (e) {\n",
       "            console.log(\"No handler for the '\" + msg_type + \"' message type: \", msg);\n",
       "            return;\n",
       "        }\n",
       "\n",
       "        if (callback) {\n",
       "            try {\n",
       "                // console.log(\"Handling '\" + msg_type + \"' message: \", msg);\n",
       "                callback(fig, msg);\n",
       "            } catch (e) {\n",
       "                console.log(\"Exception inside the 'handler_\" + msg_type + \"' callback:\", e, e.stack, msg);\n",
       "            }\n",
       "        }\n",
       "    };\n",
       "}\n",
       "\n",
       "// from http://stackoverflow.com/questions/1114465/getting-mouse-location-in-canvas\n",
       "mpl.findpos = function(e) {\n",
       "    //this section is from http://www.quirksmode.org/js/events_properties.html\n",
       "    var targ;\n",
       "    if (!e)\n",
       "        e = window.event;\n",
       "    if (e.target)\n",
       "        targ = e.target;\n",
       "    else if (e.srcElement)\n",
       "        targ = e.srcElement;\n",
       "    if (targ.nodeType == 3) // defeat Safari bug\n",
       "        targ = targ.parentNode;\n",
       "\n",
       "    // jQuery normalizes the pageX and pageY\n",
       "    // pageX,Y are the mouse positions relative to the document\n",
       "    // offset() returns the position of the element relative to the document\n",
       "    var x = e.pageX - $(targ).offset().left;\n",
       "    var y = e.pageY - $(targ).offset().top;\n",
       "\n",
       "    return {\"x\": x, \"y\": y};\n",
       "};\n",
       "\n",
       "/*\n",
       " * return a copy of an object with only non-object keys\n",
       " * we need this to avoid circular references\n",
       " * http://stackoverflow.com/a/24161582/3208463\n",
       " */\n",
       "function simpleKeys (original) {\n",
       "  return Object.keys(original).reduce(function (obj, key) {\n",
       "    if (typeof original[key] !== 'object')\n",
       "        obj[key] = original[key]\n",
       "    return obj;\n",
       "  }, {});\n",
       "}\n",
       "\n",
       "mpl.figure.prototype.mouse_event = function(event, name) {\n",
       "    var canvas_pos = mpl.findpos(event)\n",
       "\n",
       "    if (name === 'button_press')\n",
       "    {\n",
       "        this.canvas.focus();\n",
       "        this.canvas_div.focus();\n",
       "    }\n",
       "\n",
       "    var x = canvas_pos.x * mpl.ratio;\n",
       "    var y = canvas_pos.y * mpl.ratio;\n",
       "\n",
       "    this.send_message(name, {x: x, y: y, button: event.button,\n",
       "                             step: event.step,\n",
       "                             guiEvent: simpleKeys(event)});\n",
       "\n",
       "    /* This prevents the web browser from automatically changing to\n",
       "     * the text insertion cursor when the button is pressed.  We want\n",
       "     * to control all of the cursor setting manually through the\n",
       "     * 'cursor' event from matplotlib */\n",
       "    event.preventDefault();\n",
       "    return false;\n",
       "}\n",
       "\n",
       "mpl.figure.prototype._key_event_extra = function(event, name) {\n",
       "    // Handle any extra behaviour associated with a key event\n",
       "}\n",
       "\n",
       "mpl.figure.prototype.key_event = function(event, name) {\n",
       "\n",
       "    // Prevent repeat events\n",
       "    if (name == 'key_press')\n",
       "    {\n",
       "        if (event.which === this._key)\n",
       "            return;\n",
       "        else\n",
       "            this._key = event.which;\n",
       "    }\n",
       "    if (name == 'key_release')\n",
       "        this._key = null;\n",
       "\n",
       "    var value = '';\n",
       "    if (event.ctrlKey && event.which != 17)\n",
       "        value += \"ctrl+\";\n",
       "    if (event.altKey && event.which != 18)\n",
       "        value += \"alt+\";\n",
       "    if (event.shiftKey && event.which != 16)\n",
       "        value += \"shift+\";\n",
       "\n",
       "    value += 'k';\n",
       "    value += event.which.toString();\n",
       "\n",
       "    this._key_event_extra(event, name);\n",
       "\n",
       "    this.send_message(name, {key: value,\n",
       "                             guiEvent: simpleKeys(event)});\n",
       "    return false;\n",
       "}\n",
       "\n",
       "mpl.figure.prototype.toolbar_button_onclick = function(name) {\n",
       "    if (name == 'download') {\n",
       "        this.handle_save(this, null);\n",
       "    } else {\n",
       "        this.send_message(\"toolbar_button\", {name: name});\n",
       "    }\n",
       "};\n",
       "\n",
       "mpl.figure.prototype.toolbar_button_onmouseover = function(tooltip) {\n",
       "    this.message.textContent = tooltip;\n",
       "};\n",
       "mpl.toolbar_items = [[\"Home\", \"Reset original view\", \"fa fa-home icon-home\", \"home\"], [\"Back\", \"Back to previous view\", \"fa fa-arrow-left icon-arrow-left\", \"back\"], [\"Forward\", \"Forward to next view\", \"fa fa-arrow-right icon-arrow-right\", \"forward\"], [\"\", \"\", \"\", \"\"], [\"Pan\", \"Pan axes with left mouse, zoom with right\", \"fa fa-arrows icon-move\", \"pan\"], [\"Zoom\", \"Zoom to rectangle\", \"fa fa-square-o icon-check-empty\", \"zoom\"], [\"\", \"\", \"\", \"\"], [\"Download\", \"Download plot\", \"fa fa-floppy-o icon-save\", \"download\"]];\n",
       "\n",
       "mpl.extensions = [\"eps\", \"jpeg\", \"pdf\", \"png\", \"ps\", \"raw\", \"svg\", \"tif\"];\n",
       "\n",
       "mpl.default_extension = \"png\";var comm_websocket_adapter = function(comm) {\n",
       "    // Create a \"websocket\"-like object which calls the given IPython comm\n",
       "    // object with the appropriate methods. Currently this is a non binary\n",
       "    // socket, so there is still some room for performance tuning.\n",
       "    var ws = {};\n",
       "\n",
       "    ws.close = function() {\n",
       "        comm.close()\n",
       "    };\n",
       "    ws.send = function(m) {\n",
       "        //console.log('sending', m);\n",
       "        comm.send(m);\n",
       "    };\n",
       "    // Register the callback with on_msg.\n",
       "    comm.on_msg(function(msg) {\n",
       "        //console.log('receiving', msg['content']['data'], msg);\n",
       "        // Pass the mpl event to the overridden (by mpl) onmessage function.\n",
       "        ws.onmessage(msg['content']['data'])\n",
       "    });\n",
       "    return ws;\n",
       "}\n",
       "\n",
       "mpl.mpl_figure_comm = function(comm, msg) {\n",
       "    // This is the function which gets called when the mpl process\n",
       "    // starts-up an IPython Comm through the \"matplotlib\" channel.\n",
       "\n",
       "    var id = msg.content.data.id;\n",
       "    // Get hold of the div created by the display call when the Comm\n",
       "    // socket was opened in Python.\n",
       "    var element = $(\"#\" + id);\n",
       "    var ws_proxy = comm_websocket_adapter(comm)\n",
       "\n",
       "    function ondownload(figure, format) {\n",
       "        window.open(figure.imageObj.src);\n",
       "    }\n",
       "\n",
       "    var fig = new mpl.figure(id, ws_proxy,\n",
       "                           ondownload,\n",
       "                           element.get(0));\n",
       "\n",
       "    // Call onopen now - mpl needs it, as it is assuming we've passed it a real\n",
       "    // web socket which is closed, not our websocket->open comm proxy.\n",
       "    ws_proxy.onopen();\n",
       "\n",
       "    fig.parent_element = element.get(0);\n",
       "    fig.cell_info = mpl.find_output_cell(\"<div id='\" + id + \"'></div>\");\n",
       "    if (!fig.cell_info) {\n",
       "        console.error(\"Failed to find cell for figure\", id, fig);\n",
       "        return;\n",
       "    }\n",
       "\n",
       "    var output_index = fig.cell_info[2]\n",
       "    var cell = fig.cell_info[0];\n",
       "\n",
       "};\n",
       "\n",
       "mpl.figure.prototype.handle_close = function(fig, msg) {\n",
       "    var width = fig.canvas.width/mpl.ratio\n",
       "    fig.root.unbind('remove')\n",
       "\n",
       "    // Update the output cell to use the data from the current canvas.\n",
       "    fig.push_to_output();\n",
       "    var dataURL = fig.canvas.toDataURL();\n",
       "    // Re-enable the keyboard manager in IPython - without this line, in FF,\n",
       "    // the notebook keyboard shortcuts fail.\n",
       "    IPython.keyboard_manager.enable()\n",
       "    $(fig.parent_element).html('<img src=\"' + dataURL + '\" width=\"' + width + '\">');\n",
       "    fig.close_ws(fig, msg);\n",
       "}\n",
       "\n",
       "mpl.figure.prototype.close_ws = function(fig, msg){\n",
       "    fig.send_message('closing', msg);\n",
       "    // fig.ws.close()\n",
       "}\n",
       "\n",
       "mpl.figure.prototype.push_to_output = function(remove_interactive) {\n",
       "    // Turn the data on the canvas into data in the output cell.\n",
       "    var width = this.canvas.width/mpl.ratio\n",
       "    var dataURL = this.canvas.toDataURL();\n",
       "    this.cell_info[1]['text/html'] = '<img src=\"' + dataURL + '\" width=\"' + width + '\">';\n",
       "}\n",
       "\n",
       "mpl.figure.prototype.updated_canvas_event = function() {\n",
       "    // Tell IPython that the notebook contents must change.\n",
       "    IPython.notebook.set_dirty(true);\n",
       "    this.send_message(\"ack\", {});\n",
       "    var fig = this;\n",
       "    // Wait a second, then push the new image to the DOM so\n",
       "    // that it is saved nicely (might be nice to debounce this).\n",
       "    setTimeout(function () { fig.push_to_output() }, 1000);\n",
       "}\n",
       "\n",
       "mpl.figure.prototype._init_toolbar = function() {\n",
       "    var fig = this;\n",
       "\n",
       "    var nav_element = $('<div/>')\n",
       "    nav_element.attr('style', 'width: 100%');\n",
       "    this.root.append(nav_element);\n",
       "\n",
       "    // Define a callback function for later on.\n",
       "    function toolbar_event(event) {\n",
       "        return fig.toolbar_button_onclick(event['data']);\n",
       "    }\n",
       "    function toolbar_mouse_event(event) {\n",
       "        return fig.toolbar_button_onmouseover(event['data']);\n",
       "    }\n",
       "\n",
       "    for(var toolbar_ind in mpl.toolbar_items){\n",
       "        var name = mpl.toolbar_items[toolbar_ind][0];\n",
       "        var tooltip = mpl.toolbar_items[toolbar_ind][1];\n",
       "        var image = mpl.toolbar_items[toolbar_ind][2];\n",
       "        var method_name = mpl.toolbar_items[toolbar_ind][3];\n",
       "\n",
       "        if (!name) { continue; };\n",
       "\n",
       "        var button = $('<button class=\"btn btn-default\" href=\"#\" title=\"' + name + '\"><i class=\"fa ' + image + ' fa-lg\"></i></button>');\n",
       "        button.click(method_name, toolbar_event);\n",
       "        button.mouseover(tooltip, toolbar_mouse_event);\n",
       "        nav_element.append(button);\n",
       "    }\n",
       "\n",
       "    // Add the status bar.\n",
       "    var status_bar = $('<span class=\"mpl-message\" style=\"text-align:right; float: right;\"/>');\n",
       "    nav_element.append(status_bar);\n",
       "    this.message = status_bar[0];\n",
       "\n",
       "    // Add the close button to the window.\n",
       "    var buttongrp = $('<div class=\"btn-group inline pull-right\"></div>');\n",
       "    var button = $('<button class=\"btn btn-mini btn-primary\" href=\"#\" title=\"Stop Interaction\"><i class=\"fa fa-power-off icon-remove icon-large\"></i></button>');\n",
       "    button.click(function (evt) { fig.handle_close(fig, {}); } );\n",
       "    button.mouseover('Stop Interaction', toolbar_mouse_event);\n",
       "    buttongrp.append(button);\n",
       "    var titlebar = this.root.find($('.ui-dialog-titlebar'));\n",
       "    titlebar.prepend(buttongrp);\n",
       "}\n",
       "\n",
       "mpl.figure.prototype._root_extra_style = function(el){\n",
       "    var fig = this\n",
       "    el.on(\"remove\", function(){\n",
       "\tfig.close_ws(fig, {});\n",
       "    });\n",
       "}\n",
       "\n",
       "mpl.figure.prototype._canvas_extra_style = function(el){\n",
       "    // this is important to make the div 'focusable\n",
       "    el.attr('tabindex', 0)\n",
       "    // reach out to IPython and tell the keyboard manager to turn it's self\n",
       "    // off when our div gets focus\n",
       "\n",
       "    // location in version 3\n",
       "    if (IPython.notebook.keyboard_manager) {\n",
       "        IPython.notebook.keyboard_manager.register_events(el);\n",
       "    }\n",
       "    else {\n",
       "        // location in version 2\n",
       "        IPython.keyboard_manager.register_events(el);\n",
       "    }\n",
       "\n",
       "}\n",
       "\n",
       "mpl.figure.prototype._key_event_extra = function(event, name) {\n",
       "    var manager = IPython.notebook.keyboard_manager;\n",
       "    if (!manager)\n",
       "        manager = IPython.keyboard_manager;\n",
       "\n",
       "    // Check for shift+enter\n",
       "    if (event.shiftKey && event.which == 13) {\n",
       "        this.canvas_div.blur();\n",
       "        event.shiftKey = false;\n",
       "        // Send a \"J\" for go to next cell\n",
       "        event.which = 74;\n",
       "        event.keyCode = 74;\n",
       "        manager.command_mode();\n",
       "        manager.handle_keydown(event);\n",
       "    }\n",
       "}\n",
       "\n",
       "mpl.figure.prototype.handle_save = function(fig, msg) {\n",
       "    fig.ondownload(fig, null);\n",
       "}\n",
       "\n",
       "\n",
       "mpl.find_output_cell = function(html_output) {\n",
       "    // Return the cell and output element which can be found *uniquely* in the notebook.\n",
       "    // Note - this is a bit hacky, but it is done because the \"notebook_saving.Notebook\"\n",
       "    // IPython event is triggered only after the cells have been serialised, which for\n",
       "    // our purposes (turning an active figure into a static one), is too late.\n",
       "    var cells = IPython.notebook.get_cells();\n",
       "    var ncells = cells.length;\n",
       "    for (var i=0; i<ncells; i++) {\n",
       "        var cell = cells[i];\n",
       "        if (cell.cell_type === 'code'){\n",
       "            for (var j=0; j<cell.output_area.outputs.length; j++) {\n",
       "                var data = cell.output_area.outputs[j];\n",
       "                if (data.data) {\n",
       "                    // IPython >= 3 moved mimebundle to data attribute of output\n",
       "                    data = data.data;\n",
       "                }\n",
       "                if (data['text/html'] == html_output) {\n",
       "                    return [cell, data, j];\n",
       "                }\n",
       "            }\n",
       "        }\n",
       "    }\n",
       "}\n",
       "\n",
       "// Register the function which deals with the matplotlib target/channel.\n",
       "// The kernel may be null if the page has been refreshed.\n",
       "if (IPython.notebook.kernel != null) {\n",
       "    IPython.notebook.kernel.comm_manager.register_target('matplotlib', mpl.mpl_figure_comm);\n",
       "}\n"
      ],
      "text/plain": [
       "<IPython.core.display.Javascript object>"
      ]
     },
     "metadata": {},
     "output_type": "display_data"
    },
    {
     "data": {
      "text/html": [
       "<img src=\"data:image/png;base64,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\" width=\"600\">"
      ],
      "text/plain": [
       "<IPython.core.display.HTML object>"
      ]
     },
     "metadata": {},
     "output_type": "display_data"
    }
   ],
   "source": [
    "display_pca_scatterplot(news_model, \n",
    "                        ['coffee', 'tea', 'beer', 'wine', 'brandy', 'rum', 'champagne', 'water',\n",
    "                         'spaghetti', 'borscht', 'hamburger', 'pizza', 'falafel', 'sushi', 'meatballs',\n",
    "                         'dog', 'horse', 'cat', 'monkey', 'parrot', 'koala', 'lizard',\n",
    "                         'frog', 'toad', 'monkey', 'ape', 'kangaroo', 'wombat', 'wolf',\n",
    "                         'france', 'germany', 'hungary', 'italy', 'australia', 'fiji', 'china',\n",
    "                         'homework', 'assignment', 'problem', 'exam', 'test', 'class',\n",
    "                         'school', 'college', 'university', 'institute'])\n"
   ]
  },
  {
   "cell_type": "code",
   "execution_count": 107,
   "metadata": {},
   "outputs": [
    {
     "name": "stderr",
     "output_type": "stream",
     "text": [
      "/usr/local/lib/python3.6/dist-packages/ipykernel_launcher.py:1: DeprecationWarning: Call to deprecated `wv` (Attribute will be removed in 4.0.0, use self instead).\n",
      "  \"\"\"Entry point for launching an IPython kernel.\n"
     ]
    },
    {
     "data": {
      "text/plain": [
       "array([[1.0000001 , 0.09480633],\n",
       "       [0.09480633, 0.9999993 ]], dtype=float32)"
      ]
     },
     "execution_count": 107,
     "metadata": {},
     "output_type": "execute_result"
    }
   ],
   "source": [
    "cosine_similarity(np.stack((news_model.wv['beer'],news_model.wv['italy'])))"
   ]
  },
  {
   "cell_type": "markdown",
   "metadata": {},
   "source": [
    "Check the distance between two words:"
   ]
  },
  {
   "cell_type": "code",
   "execution_count": null,
   "metadata": {},
   "outputs": [],
   "source": [
    "np.linarg.norm(news_model.wv['beer'] - news_model.wv['italy'])"
   ]
  },
  {
   "cell_type": "markdown",
   "metadata": {},
   "source": [
    "# Explore embeddings from the Italian Wikipedia"
   ]
  },
  {
   "cell_type": "markdown",
   "metadata": {},
   "source": [
    "Load word embeddings of dimension 100, trained on the text of the Italian WikiPedia."
   ]
  },
  {
   "cell_type": "code",
   "execution_count": 108,
   "metadata": {},
   "outputs": [
    {
     "name": "stderr",
     "output_type": "stream",
     "text": [
      "2020-02-27 10:15:14,248 : INFO : loading projection weights from data/it-vectors.100.5.50.w2v\n",
      "2020-02-27 10:16:37,501 : INFO : loaded (214689, 100) matrix from data/it-vectors.100.5.50.w2v\n"
     ]
    }
   ],
   "source": [
    "italian = gensim.models.KeyedVectors.load_word2vec_format('data/it-vectors.100.5.50.w2v')"
   ]
  },
  {
   "cell_type": "code",
   "execution_count": 109,
   "metadata": {},
   "outputs": [
    {
     "name": "stderr",
     "output_type": "stream",
     "text": [
      "2020-02-27 10:16:38,060 : INFO : precomputing L2-norms of word weight vectors\n"
     ]
    },
    {
     "data": {
      "text/plain": [
       "[('Belgio', 0.8703928589820862),\n",
       " ('Spagna', 0.8083794713020325),\n",
       " ('Lussemburgo', 0.7751995921134949),\n",
       " ('Svezia', 0.7663754224777222),\n",
       " ('Danimarca', 0.7570080161094666),\n",
       " ('Svizzera', 0.749411940574646),\n",
       " ('Portogallo', 0.7451502084732056),\n",
       " ('Olanda', 0.7380844950675964),\n",
       " ('Germania', 0.7370772957801819),\n",
       " ('Norvegia', 0.7283455729484558)]"
      ]
     },
     "execution_count": 109,
     "metadata": {},
     "output_type": "execute_result"
    }
   ],
   "source": [
    "italian.most_similar(['Francia'])"
   ]
  },
  {
   "cell_type": "markdown",
   "metadata": {},
   "source": [
    "Which word is in the same relation to `donna` as `uomo` to `re`?\n",
    "\n",
    "This method computes cosine similarity between a simple mean of the projection weight vectors of the given words."
   ]
  },
  {
   "cell_type": "code",
   "execution_count": 110,
   "metadata": {},
   "outputs": [
    {
     "name": "stderr",
     "output_type": "stream",
     "text": [
      "/usr/local/lib/python3.6/dist-packages/ipykernel_launcher.py:1: DeprecationWarning: Call to deprecated `wv` (Attribute will be removed in 4.0.0, use self instead).\n",
      "  \"\"\"Entry point for launching an IPython kernel.\n"
     ]
    },
    {
     "data": {
      "text/plain": [
       "[('regina', 0.7099511623382568),\n",
       " ('consorte', 0.653093695640564),\n",
       " ('sposa', 0.6479295492172241),\n",
       " ('principessa', 0.633419394493103),\n",
       " ('Ranavalona', 0.6286108493804932),\n",
       " ('vedova', 0.6271299123764038),\n",
       " ('Brunechilde', 0.624060869216919),\n",
       " ('Haakon', 0.6232239007949829),\n",
       " ('Richilde', 0.6197010278701782),\n",
       " ('reggente', 0.6190868616104126)]"
      ]
     },
     "execution_count": 110,
     "metadata": {},
     "output_type": "execute_result"
    }
   ],
   "source": [
    "italian.most_similar(['donna', 're'], ['uomo'])"
   ]
  },
  {
   "cell_type": "markdown",
   "metadata": {},
   "source": [
    "Word embedding do not capture the distiction between positive/negative polarity of adjectiuves:"
   ]
  },
  {
   "cell_type": "code",
   "execution_count": 111,
   "metadata": {},
   "outputs": [
    {
     "data": {
      "text/plain": [
       "[('cattivo', 0.8344665169715881),\n",
       " ('stupido', 0.8254504203796387),\n",
       " ('sciocco', 0.8137079477310181),\n",
       " ('noioso', 0.811944305896759),\n",
       " ('pigro', 0.7901057004928589),\n",
       " ('vigliacco', 0.7848994731903076),\n",
       " ('ignorante', 0.7752730846405029),\n",
       " ('carino', 0.7609102725982666),\n",
       " ('onesto', 0.7528376579284668),\n",
       " ('spregevole', 0.7483676671981812)]"
      ]
     },
     "execution_count": 111,
     "metadata": {},
     "output_type": "execute_result"
    }
   ],
   "source": [
    "italian.most_similar(['buono'])"
   ]
  },
  {
   "cell_type": "code",
   "execution_count": null,
   "metadata": {},
   "outputs": [],
   "source": []
  }
 ],
 "metadata": {
  "kernelspec": {
   "display_name": "Python 3",
   "language": "python",
   "name": "python3"
  },
  "language_info": {
   "codemirror_mode": {
    "name": "ipython",
    "version": 3
   },
   "file_extension": ".py",
   "mimetype": "text/x-python",
   "name": "python",
   "nbconvert_exporter": "python",
   "pygments_lexer": "ipython3",
   "version": "3.6.9"
  }
 },
 "nbformat": 4,
 "nbformat_minor": 4
}
